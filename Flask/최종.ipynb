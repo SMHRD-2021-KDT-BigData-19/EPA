{
 "cells": [
  {
   "cell_type": "code",
   "execution_count": 9,
   "id": "43507958-5fca-48ba-8ad1-1f2da1c77cc3",
   "metadata": {},
   "outputs": [
    {
     "name": "stderr",
     "output_type": "stream",
     "text": [
      "Werkzeug appears to be used in a production deployment. Consider switching to a production web server instead.\n"
     ]
    },
    {
     "name": "stdout",
     "output_type": "stream",
     "text": [
      " * Serving Flask app '__main__'\n",
      " * Debug mode: off\n"
     ]
    },
    {
     "name": "stderr",
     "output_type": "stream",
     "text": [
      "WARNING: This is a development server. Do not use it in a production deployment. Use a production WSGI server instead.\n",
      " * Running on http://localhost:5000\n",
      "Press CTRL+C to quit\n",
      "127.0.0.1 - - [05/Mar/2024 16:34:05] \"GET /socket.io/?EIO=4&transport=polling&t=OuDYAoT HTTP/1.1\" 200 -\n",
      "127.0.0.1 - - [05/Mar/2024 16:34:05] \"POST /socket.io/?EIO=4&transport=polling&t=OuDYAtW&sid=hmYW2rnz2wQqOxyzAAAA HTTP/1.1\" 200 -\n",
      "127.0.0.1 - - [05/Mar/2024 16:34:05] \"GET /socket.io/?EIO=4&transport=polling&t=OuDYAtX&sid=hmYW2rnz2wQqOxyzAAAA HTTP/1.1\" 200 -\n"
     ]
    },
    {
     "name": "stdout",
     "output_type": "stream",
     "text": [
      "WebSocket connection opened.\n",
      "1/1 [==============================] - 0s 62ms/step\n"
     ]
    },
    {
     "name": "stderr",
     "output_type": "stream",
     "text": [
      "127.0.0.1 - - [05/Mar/2024 16:34:06] \"POST /epa/upload HTTP/1.1\" 200 -\n"
     ]
    },
    {
     "name": "stdout",
     "output_type": "stream",
     "text": [
      "결과: 스탠딩 사이드 크런치\n",
      "정확도: 70.39%\n",
      "1/1 [==============================] - 0s 21ms/step\n"
     ]
    },
    {
     "name": "stderr",
     "output_type": "stream",
     "text": [
      "127.0.0.1 - - [05/Mar/2024 16:34:07] \"POST /epa/upload HTTP/1.1\" 200 -\n"
     ]
    },
    {
     "name": "stdout",
     "output_type": "stream",
     "text": [
      "결과: 스탠딩 사이드 크런치\n",
      "정확도: 94.37%\n",
      "1/1 [==============================] - 0s 21ms/step\n"
     ]
    },
    {
     "name": "stderr",
     "output_type": "stream",
     "text": [
      "127.0.0.1 - - [05/Mar/2024 16:34:07] \"POST /epa/upload HTTP/1.1\" 200 -\n"
     ]
    },
    {
     "name": "stdout",
     "output_type": "stream",
     "text": [
      "결과: 스탠딩 사이드 크런치\n",
      "정확도: 79.00%\n",
      "1/1 [==============================] - 0s 20ms/step\n"
     ]
    },
    {
     "name": "stderr",
     "output_type": "stream",
     "text": [
      "127.0.0.1 - - [05/Mar/2024 16:34:07] \"POST /epa/upload HTTP/1.1\" 200 -\n"
     ]
    },
    {
     "name": "stdout",
     "output_type": "stream",
     "text": [
      "결과: 스탠딩 사이드 크런치\n",
      "정확도: 86.61%\n",
      "1/1 [==============================] - 0s 19ms/step\n",
      "결과: 스탠딩 사이드 크런치\n",
      "정확도: 91.18%\n"
     ]
    },
    {
     "name": "stderr",
     "output_type": "stream",
     "text": [
      "127.0.0.1 - - [05/Mar/2024 16:34:07] \"POST /epa/upload HTTP/1.1\" 200 -\n"
     ]
    },
    {
     "name": "stdout",
     "output_type": "stream",
     "text": [
      "1/1 [==============================] - 0s 22ms/step\n"
     ]
    },
    {
     "name": "stderr",
     "output_type": "stream",
     "text": [
      "127.0.0.1 - - [05/Mar/2024 16:34:07] \"POST /epa/upload HTTP/1.1\" 200 -\n"
     ]
    },
    {
     "name": "stdout",
     "output_type": "stream",
     "text": [
      "결과: 스탠딩 사이드 크런치\n",
      "정확도: 84.52%\n",
      "1/1 [==============================] - 0s 20ms/step\n"
     ]
    },
    {
     "name": "stderr",
     "output_type": "stream",
     "text": [
      "127.0.0.1 - - [05/Mar/2024 16:34:08] \"POST /epa/upload HTTP/1.1\" 200 -\n"
     ]
    },
    {
     "name": "stdout",
     "output_type": "stream",
     "text": [
      "결과: 스탠딩 사이드 크런치\n",
      "정확도: 88.64%\n",
      "1/1 [==============================] - 0s 21ms/step\n"
     ]
    },
    {
     "name": "stderr",
     "output_type": "stream",
     "text": [
      "127.0.0.1 - - [05/Mar/2024 16:34:08] \"POST /epa/upload HTTP/1.1\" 200 -\n"
     ]
    },
    {
     "name": "stdout",
     "output_type": "stream",
     "text": [
      "결과: 스탠딩 사이드 크런치\n",
      "정확도: 80.98%\n",
      "1/1 [==============================] - 0s 21ms/step\n"
     ]
    },
    {
     "name": "stderr",
     "output_type": "stream",
     "text": [
      "127.0.0.1 - - [05/Mar/2024 16:34:08] \"POST /epa/upload HTTP/1.1\" 200 -\n"
     ]
    },
    {
     "name": "stdout",
     "output_type": "stream",
     "text": [
      "결과: 스탠딩 사이드 크런치\n",
      "정확도: 62.71%\n",
      "1/1 [==============================] - 0s 21ms/step\n"
     ]
    },
    {
     "name": "stderr",
     "output_type": "stream",
     "text": [
      "127.0.0.1 - - [05/Mar/2024 16:34:08] \"POST /epa/upload HTTP/1.1\" 200 -\n"
     ]
    },
    {
     "name": "stdout",
     "output_type": "stream",
     "text": [
      "결과: 스탠딩 사이드 크런치\n",
      "정확도: 59.32%\n",
      "1/1 [==============================] - 0s 22ms/step\n"
     ]
    },
    {
     "name": "stderr",
     "output_type": "stream",
     "text": [
      "127.0.0.1 - - [05/Mar/2024 16:34:09] \"POST /epa/upload HTTP/1.1\" 200 -\n"
     ]
    },
    {
     "name": "stdout",
     "output_type": "stream",
     "text": [
      "결과: 스텝 포워드 다이나믹 런지\n",
      "정확도: 50.73%\n",
      "1/1 [==============================] - 0s 23ms/step\n"
     ]
    },
    {
     "name": "stderr",
     "output_type": "stream",
     "text": [
      "127.0.0.1 - - [05/Mar/2024 16:34:09] \"POST /epa/upload HTTP/1.1\" 200 -\n"
     ]
    },
    {
     "name": "stdout",
     "output_type": "stream",
     "text": [
      "결과: 스텝 포워드 다이나믹 런지\n",
      "정확도: 56.40%\n",
      "1/1 [==============================] - 0s 21ms/step\n"
     ]
    },
    {
     "name": "stderr",
     "output_type": "stream",
     "text": [
      "127.0.0.1 - - [05/Mar/2024 16:34:09] \"POST /epa/upload HTTP/1.1\" 200 -\n"
     ]
    },
    {
     "name": "stdout",
     "output_type": "stream",
     "text": [
      "결과: 스텝 포워드 다이나믹 런지\n",
      "정확도: 80.86%\n",
      "1/1 [==============================] - 0s 21ms/step\n"
     ]
    },
    {
     "name": "stderr",
     "output_type": "stream",
     "text": [
      "127.0.0.1 - - [05/Mar/2024 16:34:09] \"POST /epa/upload HTTP/1.1\" 200 -\n"
     ]
    },
    {
     "name": "stdout",
     "output_type": "stream",
     "text": [
      "결과: 스텝 포워드 다이나믹 런지\n",
      "정확도: 73.67%\n",
      "1/1 [==============================] - 0s 20ms/step\n"
     ]
    },
    {
     "name": "stderr",
     "output_type": "stream",
     "text": [
      "127.0.0.1 - - [05/Mar/2024 16:34:09] \"POST /epa/upload HTTP/1.1\" 200 -\n"
     ]
    },
    {
     "name": "stdout",
     "output_type": "stream",
     "text": [
      "결과: 스텝 포워드 다이나믹 런지\n",
      "정확도: 62.46%\n",
      "1/1 [==============================] - 0s 27ms/step\n"
     ]
    },
    {
     "name": "stderr",
     "output_type": "stream",
     "text": [
      "127.0.0.1 - - [05/Mar/2024 16:34:10] \"POST /epa/upload HTTP/1.1\" 200 -\n"
     ]
    },
    {
     "name": "stdout",
     "output_type": "stream",
     "text": [
      "결과: 스텝 포워드 다이나믹 런지\n",
      "정확도: 67.00%\n",
      "1/1 [==============================] - 0s 21ms/step\n"
     ]
    },
    {
     "name": "stderr",
     "output_type": "stream",
     "text": [
      "127.0.0.1 - - [05/Mar/2024 16:34:10] \"POST /epa/upload HTTP/1.1\" 200 -\n"
     ]
    },
    {
     "name": "stdout",
     "output_type": "stream",
     "text": [
      "결과: 스텝 포워드 다이나믹 런지\n",
      "정확도: 75.05%\n",
      "1/1 [==============================] - 0s 20ms/step\n"
     ]
    },
    {
     "name": "stderr",
     "output_type": "stream",
     "text": [
      "127.0.0.1 - - [05/Mar/2024 16:34:10] \"POST /epa/upload HTTP/1.1\" 200 -\n"
     ]
    },
    {
     "name": "stdout",
     "output_type": "stream",
     "text": [
      "결과: 스텝 포워드 다이나믹 런지\n",
      "정확도: 83.72%\n",
      "1/1 [==============================] - 0s 22ms/step\n"
     ]
    },
    {
     "name": "stderr",
     "output_type": "stream",
     "text": [
      "127.0.0.1 - - [05/Mar/2024 16:34:10] \"POST /epa/upload HTTP/1.1\" 200 -\n"
     ]
    },
    {
     "name": "stdout",
     "output_type": "stream",
     "text": [
      "결과: 스텝 포워드 다이나믹 런지\n",
      "정확도: 80.41%\n",
      "1/1 [==============================] - 0s 21ms/step\n"
     ]
    },
    {
     "name": "stderr",
     "output_type": "stream",
     "text": [
      "127.0.0.1 - - [05/Mar/2024 16:34:11] \"POST /epa/upload HTTP/1.1\" 200 -\n"
     ]
    },
    {
     "name": "stdout",
     "output_type": "stream",
     "text": [
      "결과: 스텝 포워드 다이나믹 런지\n",
      "정확도: 79.09%\n",
      "1/1 [==============================] - 0s 21ms/step\n"
     ]
    },
    {
     "name": "stderr",
     "output_type": "stream",
     "text": [
      "127.0.0.1 - - [05/Mar/2024 16:34:11] \"POST /epa/upload HTTP/1.1\" 200 -\n"
     ]
    },
    {
     "name": "stdout",
     "output_type": "stream",
     "text": [
      "결과: 스텝 포워드 다이나믹 런지\n",
      "정확도: 87.06%\n",
      "1/1 [==============================] - 0s 21ms/step\n"
     ]
    },
    {
     "name": "stderr",
     "output_type": "stream",
     "text": [
      "127.0.0.1 - - [05/Mar/2024 16:34:11] \"POST /epa/upload HTTP/1.1\" 200 -\n"
     ]
    },
    {
     "name": "stdout",
     "output_type": "stream",
     "text": [
      "결과: 스텝 포워드 다이나믹 런지\n",
      "정확도: 91.83%\n",
      "1/1 [==============================] - 0s 20ms/step\n"
     ]
    },
    {
     "name": "stderr",
     "output_type": "stream",
     "text": [
      "127.0.0.1 - - [05/Mar/2024 16:34:11] \"POST /epa/upload HTTP/1.1\" 200 -\n"
     ]
    },
    {
     "name": "stdout",
     "output_type": "stream",
     "text": [
      "결과: 스텝 포워드 다이나믹 런지\n",
      "정확도: 90.64%\n",
      "1/1 [==============================] - 0s 21ms/step\n"
     ]
    },
    {
     "name": "stderr",
     "output_type": "stream",
     "text": [
      "127.0.0.1 - - [05/Mar/2024 16:34:11] \"POST /epa/upload HTTP/1.1\" 200 -\n"
     ]
    },
    {
     "name": "stdout",
     "output_type": "stream",
     "text": [
      "결과: 스텝 포워드 다이나믹 런지\n",
      "정확도: 94.29%\n",
      "1/1 [==============================] - 0s 21ms/step\n"
     ]
    },
    {
     "name": "stderr",
     "output_type": "stream",
     "text": [
      "127.0.0.1 - - [05/Mar/2024 16:34:12] \"POST /epa/upload HTTP/1.1\" 200 -\n"
     ]
    },
    {
     "name": "stdout",
     "output_type": "stream",
     "text": [
      "결과: 스텝 포워드 다이나믹 런지\n",
      "정확도: 58.84%\n",
      "1/1 [==============================] - 0s 20ms/step\n"
     ]
    },
    {
     "name": "stderr",
     "output_type": "stream",
     "text": [
      "127.0.0.1 - - [05/Mar/2024 16:34:12] \"POST /epa/upload HTTP/1.1\" 200 -\n"
     ]
    },
    {
     "name": "stdout",
     "output_type": "stream",
     "text": [
      "결과: 스탠딩 사이드 크런치\n",
      "정확도: 98.66%\n",
      "1/1 [==============================] - 0s 21ms/step\n"
     ]
    },
    {
     "name": "stderr",
     "output_type": "stream",
     "text": [
      "127.0.0.1 - - [05/Mar/2024 16:34:12] \"POST /epa/upload HTTP/1.1\" 200 -\n"
     ]
    },
    {
     "name": "stdout",
     "output_type": "stream",
     "text": [
      "결과: 스탠딩 사이드 크런치\n",
      "정확도: 99.29%\n",
      "1/1 [==============================] - 0s 20ms/step\n"
     ]
    },
    {
     "name": "stderr",
     "output_type": "stream",
     "text": [
      "127.0.0.1 - - [05/Mar/2024 16:34:12] \"POST /epa/upload HTTP/1.1\" 200 -\n"
     ]
    },
    {
     "name": "stdout",
     "output_type": "stream",
     "text": [
      "결과: 스탠딩 사이드 크런치\n",
      "정확도: 99.52%\n",
      "1/1 [==============================] - 0s 21ms/step\n"
     ]
    },
    {
     "name": "stderr",
     "output_type": "stream",
     "text": [
      "127.0.0.1 - - [05/Mar/2024 16:34:13] \"POST /epa/upload HTTP/1.1\" 200 -\n"
     ]
    },
    {
     "name": "stdout",
     "output_type": "stream",
     "text": [
      "결과: 스탠딩 사이드 크런치\n",
      "정확도: 99.05%\n",
      "1/1 [==============================] - 0s 22ms/step\n"
     ]
    },
    {
     "name": "stderr",
     "output_type": "stream",
     "text": [
      "127.0.0.1 - - [05/Mar/2024 16:34:13] \"POST /epa/upload HTTP/1.1\" 200 -\n"
     ]
    },
    {
     "name": "stdout",
     "output_type": "stream",
     "text": [
      "결과: 스탠딩 사이드 크런치\n",
      "정확도: 98.61%\n",
      "1/1 [==============================] - 0s 21ms/step\n"
     ]
    },
    {
     "name": "stderr",
     "output_type": "stream",
     "text": [
      "127.0.0.1 - - [05/Mar/2024 16:34:13] \"POST /epa/upload HTTP/1.1\" 200 -\n"
     ]
    },
    {
     "name": "stdout",
     "output_type": "stream",
     "text": [
      "결과: 스탠딩 사이드 크런치\n",
      "정확도: 98.81%\n",
      "1/1 [==============================] - 0s 21ms/step\n"
     ]
    },
    {
     "name": "stderr",
     "output_type": "stream",
     "text": [
      "127.0.0.1 - - [05/Mar/2024 16:34:13] \"POST /epa/upload HTTP/1.1\" 200 -\n"
     ]
    },
    {
     "name": "stdout",
     "output_type": "stream",
     "text": [
      "결과: 스탠딩 사이드 크런치\n",
      "정확도: 98.95%\n",
      "1/1 [==============================] - 0s 21ms/step\n"
     ]
    },
    {
     "name": "stderr",
     "output_type": "stream",
     "text": [
      "127.0.0.1 - - [05/Mar/2024 16:34:13] \"POST /epa/upload HTTP/1.1\" 200 -\n"
     ]
    },
    {
     "name": "stdout",
     "output_type": "stream",
     "text": [
      "결과: 스탠딩 사이드 크런치\n",
      "정확도: 99.63%\n",
      "1/1 [==============================] - 0s 23ms/step\n"
     ]
    },
    {
     "name": "stderr",
     "output_type": "stream",
     "text": [
      "127.0.0.1 - - [05/Mar/2024 16:34:14] \"POST /epa/upload HTTP/1.1\" 200 -\n"
     ]
    },
    {
     "name": "stdout",
     "output_type": "stream",
     "text": [
      "결과: 스탠딩 사이드 크런치\n",
      "정확도: 99.10%\n",
      "1/1 [==============================] - 0s 21ms/step\n"
     ]
    },
    {
     "name": "stderr",
     "output_type": "stream",
     "text": [
      "127.0.0.1 - - [05/Mar/2024 16:34:14] \"POST /epa/upload HTTP/1.1\" 200 -\n"
     ]
    },
    {
     "name": "stdout",
     "output_type": "stream",
     "text": [
      "결과: 스탠딩 사이드 크런치\n",
      "정확도: 99.32%\n",
      "1/1 [==============================] - 0s 22ms/step\n"
     ]
    },
    {
     "name": "stderr",
     "output_type": "stream",
     "text": [
      "127.0.0.1 - - [05/Mar/2024 16:34:14] \"POST /epa/upload HTTP/1.1\" 200 -\n"
     ]
    },
    {
     "name": "stdout",
     "output_type": "stream",
     "text": [
      "결과: 스탠딩 사이드 크런치\n",
      "정확도: 99.37%\n",
      "1/1 [==============================] - 0s 20ms/step\n"
     ]
    },
    {
     "name": "stderr",
     "output_type": "stream",
     "text": [
      "127.0.0.1 - - [05/Mar/2024 16:34:14] \"POST /epa/upload HTTP/1.1\" 200 -\n"
     ]
    },
    {
     "name": "stdout",
     "output_type": "stream",
     "text": [
      "결과: 스탠딩 사이드 크런치\n",
      "정확도: 99.23%\n",
      "1/1 [==============================] - 0s 20ms/step\n"
     ]
    },
    {
     "name": "stderr",
     "output_type": "stream",
     "text": [
      "127.0.0.1 - - [05/Mar/2024 16:34:15] \"POST /epa/upload HTTP/1.1\" 200 -\n"
     ]
    },
    {
     "name": "stdout",
     "output_type": "stream",
     "text": [
      "결과: 스탠딩 사이드 크런치\n",
      "정확도: 99.23%\n",
      "1/1 [==============================] - 0s 19ms/step\n"
     ]
    },
    {
     "name": "stderr",
     "output_type": "stream",
     "text": [
      "127.0.0.1 - - [05/Mar/2024 16:34:15] \"POST /epa/upload HTTP/1.1\" 200 -\n"
     ]
    },
    {
     "name": "stdout",
     "output_type": "stream",
     "text": [
      "결과: 스탠딩 사이드 크런치\n",
      "정확도: 98.80%\n",
      "1/1 [==============================] - 0s 20ms/step\n"
     ]
    },
    {
     "name": "stderr",
     "output_type": "stream",
     "text": [
      "127.0.0.1 - - [05/Mar/2024 16:34:15] \"POST /epa/upload HTTP/1.1\" 200 -\n"
     ]
    },
    {
     "name": "stdout",
     "output_type": "stream",
     "text": [
      "결과: 스탠딩 사이드 크런치\n",
      "정확도: 97.93%\n",
      "1/1 [==============================] - 0s 21ms/step\n"
     ]
    },
    {
     "name": "stderr",
     "output_type": "stream",
     "text": [
      "127.0.0.1 - - [05/Mar/2024 16:34:15] \"POST /epa/upload HTTP/1.1\" 200 -\n"
     ]
    },
    {
     "name": "stdout",
     "output_type": "stream",
     "text": [
      "결과: 스탠딩 사이드 크런치\n",
      "정확도: 96.80%\n",
      "1/1 [==============================] - 0s 20ms/step\n"
     ]
    },
    {
     "name": "stderr",
     "output_type": "stream",
     "text": [
      "127.0.0.1 - - [05/Mar/2024 16:34:15] \"POST /epa/upload HTTP/1.1\" 200 -\n"
     ]
    },
    {
     "name": "stdout",
     "output_type": "stream",
     "text": [
      "결과: 스탠딩 사이드 크런치\n",
      "정확도: 98.26%\n",
      "1/1 [==============================] - 0s 21ms/step\n"
     ]
    },
    {
     "name": "stderr",
     "output_type": "stream",
     "text": [
      "127.0.0.1 - - [05/Mar/2024 16:34:16] \"POST /epa/upload HTTP/1.1\" 200 -\n"
     ]
    },
    {
     "name": "stdout",
     "output_type": "stream",
     "text": [
      "결과: 스탠딩 사이드 크런치\n",
      "정확도: 83.18%\n",
      "1/1 [==============================] - 0s 20ms/step\n"
     ]
    },
    {
     "name": "stderr",
     "output_type": "stream",
     "text": [
      "127.0.0.1 - - [05/Mar/2024 16:34:16] \"POST /epa/upload HTTP/1.1\" 200 -\n"
     ]
    },
    {
     "name": "stdout",
     "output_type": "stream",
     "text": [
      "결과: 스텝 포워드 다이나믹 런지\n",
      "정확도: 90.85%\n",
      "1/1 [==============================] - 0s 21ms/step\n"
     ]
    },
    {
     "name": "stderr",
     "output_type": "stream",
     "text": [
      "127.0.0.1 - - [05/Mar/2024 16:34:16] \"POST /epa/upload HTTP/1.1\" 200 -\n"
     ]
    },
    {
     "name": "stdout",
     "output_type": "stream",
     "text": [
      "결과: 스텝 포워드 다이나믹 런지\n",
      "정확도: 96.13%\n",
      "1/1 [==============================] - 0s 22ms/step\n"
     ]
    },
    {
     "name": "stderr",
     "output_type": "stream",
     "text": [
      "127.0.0.1 - - [05/Mar/2024 16:34:16] \"POST /epa/upload HTTP/1.1\" 200 -\n"
     ]
    },
    {
     "name": "stdout",
     "output_type": "stream",
     "text": [
      "결과: 푸쉬업\n",
      "정확도: 100.00%\n",
      "Good!\n",
      "1/1 [==============================] - 0s 20ms/step\n"
     ]
    },
    {
     "name": "stderr",
     "output_type": "stream",
     "text": [
      "127.0.0.1 - - [05/Mar/2024 16:34:17] \"POST /epa/upload HTTP/1.1\" 200 -\n"
     ]
    },
    {
     "name": "stdout",
     "output_type": "stream",
     "text": [
      "결과: 푸쉬업\n",
      "정확도: 100.00%\n",
      "Good!\n",
      "1/1 [==============================] - 0s 21ms/step\n"
     ]
    },
    {
     "name": "stderr",
     "output_type": "stream",
     "text": [
      "127.0.0.1 - - [05/Mar/2024 16:34:17] \"POST /epa/upload HTTP/1.1\" 200 -\n"
     ]
    },
    {
     "name": "stdout",
     "output_type": "stream",
     "text": [
      "결과: 푸쉬업\n",
      "정확도: 100.00%\n",
      "Good!\n",
      "1/1 [==============================] - 0s 21ms/step\n"
     ]
    },
    {
     "name": "stderr",
     "output_type": "stream",
     "text": [
      "127.0.0.1 - - [05/Mar/2024 16:34:17] \"POST /epa/upload HTTP/1.1\" 200 -\n"
     ]
    },
    {
     "name": "stdout",
     "output_type": "stream",
     "text": [
      "결과: 푸쉬업\n",
      "정확도: 100.00%\n",
      "Good!\n",
      "1/1 [==============================] - 0s 20ms/step\n"
     ]
    },
    {
     "name": "stderr",
     "output_type": "stream",
     "text": [
      "127.0.0.1 - - [05/Mar/2024 16:34:17] \"POST /epa/upload HTTP/1.1\" 200 -\n"
     ]
    },
    {
     "name": "stdout",
     "output_type": "stream",
     "text": [
      "결과: 푸쉬업\n",
      "정확도: 100.00%\n",
      "Good!\n",
      "1/1 [==============================] - 0s 20ms/step\n"
     ]
    },
    {
     "name": "stderr",
     "output_type": "stream",
     "text": [
      "127.0.0.1 - - [05/Mar/2024 16:34:17] \"POST /epa/upload HTTP/1.1\" 200 -\n"
     ]
    },
    {
     "name": "stdout",
     "output_type": "stream",
     "text": [
      "결과: 푸쉬업\n",
      "정확도: 100.00%\n",
      "Good!\n",
      "1/1 [==============================] - 0s 20ms/step\n"
     ]
    },
    {
     "name": "stderr",
     "output_type": "stream",
     "text": [
      "127.0.0.1 - - [05/Mar/2024 16:34:18] \"POST /epa/upload HTTP/1.1\" 200 -\n"
     ]
    },
    {
     "name": "stdout",
     "output_type": "stream",
     "text": [
      "결과: 스텝 포워드 다이나믹 런지\n",
      "정확도: 81.95%\n",
      "1/1 [==============================] - 0s 28ms/step\n"
     ]
    },
    {
     "name": "stderr",
     "output_type": "stream",
     "text": [
      "127.0.0.1 - - [05/Mar/2024 16:34:18] \"POST /epa/upload HTTP/1.1\" 200 -\n"
     ]
    },
    {
     "name": "stdout",
     "output_type": "stream",
     "text": [
      "결과: 스탠딩 사이드 크런치\n",
      "정확도: 73.77%\n",
      "1/1 [==============================] - 0s 21ms/step\n"
     ]
    },
    {
     "name": "stderr",
     "output_type": "stream",
     "text": [
      "127.0.0.1 - - [05/Mar/2024 16:34:18] \"POST /epa/upload HTTP/1.1\" 200 -\n"
     ]
    },
    {
     "name": "stdout",
     "output_type": "stream",
     "text": [
      "결과: 스탠딩 사이드 크런치\n",
      "정확도: 98.22%\n",
      "1/1 [==============================] - 0s 20ms/step\n"
     ]
    },
    {
     "name": "stderr",
     "output_type": "stream",
     "text": [
      "127.0.0.1 - - [05/Mar/2024 16:34:18] \"POST /epa/upload HTTP/1.1\" 200 -\n"
     ]
    },
    {
     "name": "stdout",
     "output_type": "stream",
     "text": [
      "결과: 스탠딩 사이드 크런치\n",
      "정확도: 99.17%\n",
      "1/1 [==============================] - 0s 20ms/step\n"
     ]
    },
    {
     "name": "stderr",
     "output_type": "stream",
     "text": [
      "127.0.0.1 - - [05/Mar/2024 16:34:18] \"POST /epa/upload HTTP/1.1\" 200 -\n"
     ]
    },
    {
     "name": "stdout",
     "output_type": "stream",
     "text": [
      "결과: 스탠딩 사이드 크런치\n",
      "정확도: 99.33%\n",
      "1/1 [==============================] - 0s 21ms/step\n"
     ]
    },
    {
     "name": "stderr",
     "output_type": "stream",
     "text": [
      "127.0.0.1 - - [05/Mar/2024 16:34:19] \"POST /epa/upload HTTP/1.1\" 200 -\n"
     ]
    },
    {
     "name": "stdout",
     "output_type": "stream",
     "text": [
      "결과: 스탠딩 사이드 크런치\n",
      "정확도: 98.51%\n",
      "1/1 [==============================] - 0s 23ms/step\n"
     ]
    },
    {
     "name": "stderr",
     "output_type": "stream",
     "text": [
      "127.0.0.1 - - [05/Mar/2024 16:34:19] \"POST /epa/upload HTTP/1.1\" 200 -\n"
     ]
    },
    {
     "name": "stdout",
     "output_type": "stream",
     "text": [
      "결과: 스탠딩 사이드 크런치\n",
      "정확도: 96.32%\n",
      "1/1 [==============================] - 0s 23ms/step\n"
     ]
    },
    {
     "name": "stderr",
     "output_type": "stream",
     "text": [
      "127.0.0.1 - - [05/Mar/2024 16:34:19] \"POST /epa/upload HTTP/1.1\" 200 -\n"
     ]
    },
    {
     "name": "stdout",
     "output_type": "stream",
     "text": [
      "결과: 스탠딩 사이드 크런치\n",
      "정확도: 98.06%\n",
      "1/1 [==============================] - 0s 22ms/step\n"
     ]
    },
    {
     "name": "stderr",
     "output_type": "stream",
     "text": [
      "127.0.0.1 - - [05/Mar/2024 16:34:19] \"POST /epa/upload HTTP/1.1\" 200 -\n"
     ]
    },
    {
     "name": "stdout",
     "output_type": "stream",
     "text": [
      "결과: 스탠딩 사이드 크런치\n",
      "정확도: 97.72%\n",
      "1/1 [==============================] - 0s 20ms/step\n"
     ]
    },
    {
     "name": "stderr",
     "output_type": "stream",
     "text": [
      "127.0.0.1 - - [05/Mar/2024 16:34:20] \"POST /epa/upload HTTP/1.1\" 200 -\n"
     ]
    },
    {
     "name": "stdout",
     "output_type": "stream",
     "text": [
      "결과: 스탠딩 사이드 크런치\n",
      "정확도: 98.23%\n",
      "1/1 [==============================] - 0s 21ms/step\n"
     ]
    },
    {
     "name": "stderr",
     "output_type": "stream",
     "text": [
      "127.0.0.1 - - [05/Mar/2024 16:34:20] \"POST /epa/upload HTTP/1.1\" 200 -\n"
     ]
    },
    {
     "name": "stdout",
     "output_type": "stream",
     "text": [
      "결과: 스탠딩 사이드 크런치\n",
      "정확도: 80.65%\n",
      "1/1 [==============================] - 0s 20ms/step\n"
     ]
    },
    {
     "name": "stderr",
     "output_type": "stream",
     "text": [
      "127.0.0.1 - - [05/Mar/2024 16:34:20] \"POST /epa/upload HTTP/1.1\" 200 -\n"
     ]
    },
    {
     "name": "stdout",
     "output_type": "stream",
     "text": [
      "결과: 스탠딩 사이드 크런치\n",
      "정확도: 99.64%\n",
      "1/1 [==============================] - 0s 26ms/step\n"
     ]
    },
    {
     "name": "stderr",
     "output_type": "stream",
     "text": [
      "127.0.0.1 - - [05/Mar/2024 16:34:20] \"POST /epa/upload HTTP/1.1\" 200 -\n"
     ]
    },
    {
     "name": "stdout",
     "output_type": "stream",
     "text": [
      "결과: 스탠딩 사이드 크런치\n",
      "정확도: 99.75%\n",
      "1/1 [==============================] - 0s 20ms/step\n"
     ]
    },
    {
     "name": "stderr",
     "output_type": "stream",
     "text": [
      "127.0.0.1 - - [05/Mar/2024 16:34:20] \"POST /epa/upload HTTP/1.1\" 200 -\n"
     ]
    },
    {
     "name": "stdout",
     "output_type": "stream",
     "text": [
      "결과: 스탠딩 사이드 크런치\n",
      "정확도: 99.77%\n",
      "1/1 [==============================] - 0s 20ms/step\n"
     ]
    },
    {
     "name": "stderr",
     "output_type": "stream",
     "text": [
      "127.0.0.1 - - [05/Mar/2024 16:34:21] \"POST /epa/upload HTTP/1.1\" 200 -\n"
     ]
    },
    {
     "name": "stdout",
     "output_type": "stream",
     "text": [
      "결과: 스탠딩 사이드 크런치\n",
      "정확도: 99.33%\n",
      "1/1 [==============================] - 0s 22ms/step\n"
     ]
    },
    {
     "name": "stderr",
     "output_type": "stream",
     "text": [
      "127.0.0.1 - - [05/Mar/2024 16:34:21] \"POST /epa/upload HTTP/1.1\" 200 -\n"
     ]
    },
    {
     "name": "stdout",
     "output_type": "stream",
     "text": [
      "결과: 스탠딩 사이드 크런치\n",
      "정확도: 98.99%\n",
      "1/1 [==============================] - 0s 21ms/step\n"
     ]
    },
    {
     "name": "stderr",
     "output_type": "stream",
     "text": [
      "127.0.0.1 - - [05/Mar/2024 16:34:21] \"POST /epa/upload HTTP/1.1\" 200 -\n"
     ]
    },
    {
     "name": "stdout",
     "output_type": "stream",
     "text": [
      "결과: 스탠딩 사이드 크런치\n",
      "정확도: 88.42%\n",
      "1/1 [==============================] - 0s 20ms/step\n"
     ]
    },
    {
     "name": "stderr",
     "output_type": "stream",
     "text": [
      "127.0.0.1 - - [05/Mar/2024 16:34:21] \"POST /epa/upload HTTP/1.1\" 200 -\n"
     ]
    },
    {
     "name": "stdout",
     "output_type": "stream",
     "text": [
      "결과: 스탠딩 사이드 크런치\n",
      "정확도: 69.45%\n",
      "1/1 [==============================] - 0s 21ms/step\n"
     ]
    },
    {
     "name": "stderr",
     "output_type": "stream",
     "text": [
      "127.0.0.1 - - [05/Mar/2024 16:34:22] \"POST /epa/upload HTTP/1.1\" 200 -\n"
     ]
    },
    {
     "name": "stdout",
     "output_type": "stream",
     "text": [
      "결과: 스탠딩 사이드 크런치\n",
      "정확도: 81.43%\n",
      "<function check_side_crunch_angle at 0x00000118B6790160>\n",
      "Good!\n",
      "1/1 [==============================] - 0s 21ms/step\n"
     ]
    },
    {
     "name": "stderr",
     "output_type": "stream",
     "text": [
      "127.0.0.1 - - [05/Mar/2024 16:34:22] \"POST /epa/upload HTTP/1.1\" 200 -\n"
     ]
    },
    {
     "name": "stdout",
     "output_type": "stream",
     "text": [
      "결과: 스텝 포워드 다이나믹 런지\n",
      "정확도: 58.71%\n",
      "1/1 [==============================] - 0s 20ms/step\n"
     ]
    },
    {
     "name": "stderr",
     "output_type": "stream",
     "text": [
      "127.0.0.1 - - [05/Mar/2024 16:34:22] \"POST /epa/upload HTTP/1.1\" 200 -\n"
     ]
    },
    {
     "name": "stdout",
     "output_type": "stream",
     "text": [
      "결과: 스텝 포워드 다이나믹 런지\n",
      "정확도: 72.68%\n",
      "1/1 [==============================] - 0s 27ms/step\n"
     ]
    },
    {
     "name": "stderr",
     "output_type": "stream",
     "text": [
      "127.0.0.1 - - [05/Mar/2024 16:34:22] \"POST /epa/upload HTTP/1.1\" 200 -\n"
     ]
    },
    {
     "name": "stdout",
     "output_type": "stream",
     "text": [
      "결과: 스탠딩 사이드 크런치\n",
      "정확도: 94.10%\n",
      "1/1 [==============================] - 0s 21ms/step\n"
     ]
    },
    {
     "name": "stderr",
     "output_type": "stream",
     "text": [
      "127.0.0.1 - - [05/Mar/2024 16:34:22] \"POST /epa/upload HTTP/1.1\" 200 -\n"
     ]
    },
    {
     "name": "stdout",
     "output_type": "stream",
     "text": [
      "결과: 스탠딩 사이드 크런치\n",
      "정확도: 91.81%\n",
      "1/1 [==============================] - 0s 20ms/step\n"
     ]
    },
    {
     "name": "stderr",
     "output_type": "stream",
     "text": [
      "127.0.0.1 - - [05/Mar/2024 16:34:23] \"POST /epa/upload HTTP/1.1\" 200 -\n"
     ]
    },
    {
     "name": "stdout",
     "output_type": "stream",
     "text": [
      "결과: 스탠딩 사이드 크런치\n",
      "정확도: 96.94%\n",
      "1/1 [==============================] - 0s 20ms/step\n"
     ]
    },
    {
     "name": "stderr",
     "output_type": "stream",
     "text": [
      "127.0.0.1 - - [05/Mar/2024 16:34:23] \"POST /epa/upload HTTP/1.1\" 200 -\n"
     ]
    },
    {
     "name": "stdout",
     "output_type": "stream",
     "text": [
      "결과: 스탠딩 사이드 크런치\n",
      "정확도: 86.11%\n",
      "1/1 [==============================] - 0s 19ms/step\n"
     ]
    },
    {
     "name": "stderr",
     "output_type": "stream",
     "text": [
      "127.0.0.1 - - [05/Mar/2024 16:34:23] \"POST /epa/upload HTTP/1.1\" 200 -\n"
     ]
    },
    {
     "name": "stdout",
     "output_type": "stream",
     "text": [
      "결과: 스탠딩 사이드 크런치\n",
      "정확도: 96.22%\n",
      "1/1 [==============================] - 0s 20ms/step\n"
     ]
    },
    {
     "name": "stderr",
     "output_type": "stream",
     "text": [
      "127.0.0.1 - - [05/Mar/2024 16:34:23] \"POST /epa/upload HTTP/1.1\" 200 -\n"
     ]
    },
    {
     "name": "stdout",
     "output_type": "stream",
     "text": [
      "결과: 스탠딩 사이드 크런치\n",
      "정확도: 96.46%\n",
      "1/1 [==============================] - 0s 22ms/step\n"
     ]
    },
    {
     "name": "stderr",
     "output_type": "stream",
     "text": [
      "127.0.0.1 - - [05/Mar/2024 16:34:24] \"POST /epa/upload HTTP/1.1\" 200 -\n"
     ]
    },
    {
     "name": "stdout",
     "output_type": "stream",
     "text": [
      "결과: 스탠딩 사이드 크런치\n",
      "정확도: 88.99%\n",
      "<function check_side_crunch_angle at 0x00000118B6790160>\n",
      "Good!\n",
      "1/1 [==============================] - 0s 21ms/step\n"
     ]
    },
    {
     "name": "stderr",
     "output_type": "stream",
     "text": [
      "127.0.0.1 - - [05/Mar/2024 16:34:24] \"POST /epa/upload HTTP/1.1\" 200 -\n"
     ]
    },
    {
     "name": "stdout",
     "output_type": "stream",
     "text": [
      "결과: 스텝 포워드 다이나믹 런지\n",
      "정확도: 52.93%\n",
      "1/1 [==============================] - 0s 21ms/step\n"
     ]
    },
    {
     "name": "stderr",
     "output_type": "stream",
     "text": [
      "127.0.0.1 - - [05/Mar/2024 16:34:24] \"POST /epa/upload HTTP/1.1\" 200 -\n"
     ]
    },
    {
     "name": "stdout",
     "output_type": "stream",
     "text": [
      "결과: 스탠딩 사이드 크런치\n",
      "정확도: 50.76%\n",
      "1/1 [==============================] - 0s 20ms/step\n"
     ]
    },
    {
     "name": "stderr",
     "output_type": "stream",
     "text": [
      "127.0.0.1 - - [05/Mar/2024 16:34:24] \"POST /epa/upload HTTP/1.1\" 200 -\n"
     ]
    },
    {
     "name": "stdout",
     "output_type": "stream",
     "text": [
      "결과: 스텝 포워드 다이나믹 런지\n",
      "정확도: 56.31%\n",
      "1/1 [==============================] - 0s 21ms/step\n"
     ]
    },
    {
     "name": "stderr",
     "output_type": "stream",
     "text": [
      "127.0.0.1 - - [05/Mar/2024 16:34:24] \"POST /epa/upload HTTP/1.1\" 200 -\n"
     ]
    },
    {
     "name": "stdout",
     "output_type": "stream",
     "text": [
      "결과: 스탠딩 사이드 크런치\n",
      "정확도: 57.16%\n",
      "1/1 [==============================] - 0s 22ms/step\n"
     ]
    },
    {
     "name": "stderr",
     "output_type": "stream",
     "text": [
      "127.0.0.1 - - [05/Mar/2024 16:34:25] \"POST /epa/upload HTTP/1.1\" 200 -\n"
     ]
    },
    {
     "name": "stdout",
     "output_type": "stream",
     "text": [
      "결과: 스텝 포워드 다이나믹 런지\n",
      "정확도: 50.03%\n",
      "1/1 [==============================] - 0s 20ms/step\n"
     ]
    },
    {
     "name": "stderr",
     "output_type": "stream",
     "text": [
      "127.0.0.1 - - [05/Mar/2024 16:34:25] \"POST /epa/upload HTTP/1.1\" 200 -\n"
     ]
    },
    {
     "name": "stdout",
     "output_type": "stream",
     "text": [
      "결과: 스텝 포워드 다이나믹 런지\n",
      "정확도: 50.43%\n",
      "1/1 [==============================] - 0s 19ms/step\n"
     ]
    },
    {
     "name": "stderr",
     "output_type": "stream",
     "text": [
      "127.0.0.1 - - [05/Mar/2024 16:34:25] \"POST /epa/upload HTTP/1.1\" 200 -\n"
     ]
    },
    {
     "name": "stdout",
     "output_type": "stream",
     "text": [
      "결과: 스텝 포워드 다이나믹 런지\n",
      "정확도: 56.27%\n",
      "1/1 [==============================] - 0s 20ms/step\n"
     ]
    },
    {
     "name": "stderr",
     "output_type": "stream",
     "text": [
      "127.0.0.1 - - [05/Mar/2024 16:34:25] \"POST /epa/upload HTTP/1.1\" 200 -\n"
     ]
    },
    {
     "name": "stdout",
     "output_type": "stream",
     "text": [
      "결과: 스탠딩 사이드 크런치\n",
      "정확도: 59.96%\n",
      "1/1 [==============================] - 0s 21ms/step\n"
     ]
    },
    {
     "name": "stderr",
     "output_type": "stream",
     "text": [
      "127.0.0.1 - - [05/Mar/2024 16:34:26] \"POST /epa/upload HTTP/1.1\" 200 -\n"
     ]
    },
    {
     "name": "stdout",
     "output_type": "stream",
     "text": [
      "결과: 스탠딩 사이드 크런치\n",
      "정확도: 67.15%\n",
      "1/1 [==============================] - 0s 21ms/step\n"
     ]
    },
    {
     "name": "stderr",
     "output_type": "stream",
     "text": [
      "127.0.0.1 - - [05/Mar/2024 16:34:26] \"POST /epa/upload HTTP/1.1\" 200 -\n"
     ]
    },
    {
     "name": "stdout",
     "output_type": "stream",
     "text": [
      "결과: 스텝 포워드 다이나믹 런지\n",
      "정확도: 66.40%\n",
      "1/1 [==============================] - 0s 22ms/step\n",
      "결과: 스탠딩 사이드 크런치\n",
      "정확도: 90.17%\n",
      "<function check_side_crunch_angle at 0x00000118B6790160>\n",
      "Good!\n"
     ]
    },
    {
     "name": "stderr",
     "output_type": "stream",
     "text": [
      "127.0.0.1 - - [05/Mar/2024 16:34:26] \"POST /epa/upload HTTP/1.1\" 200 -\n"
     ]
    },
    {
     "name": "stdout",
     "output_type": "stream",
     "text": [
      "1/1 [==============================] - 0s 20ms/step\n"
     ]
    },
    {
     "name": "stderr",
     "output_type": "stream",
     "text": [
      "127.0.0.1 - - [05/Mar/2024 16:34:26] \"POST /epa/upload HTTP/1.1\" 200 -\n"
     ]
    },
    {
     "name": "stdout",
     "output_type": "stream",
     "text": [
      "결과: 스탠딩 사이드 크런치\n",
      "정확도: 94.69%\n",
      "1/1 [==============================] - 0s 21ms/step\n"
     ]
    },
    {
     "name": "stderr",
     "output_type": "stream",
     "text": [
      "127.0.0.1 - - [05/Mar/2024 16:34:26] \"POST /epa/upload HTTP/1.1\" 200 -\n"
     ]
    },
    {
     "name": "stdout",
     "output_type": "stream",
     "text": [
      "결과: 스탠딩 사이드 크런치\n",
      "정확도: 95.28%\n",
      "1/1 [==============================] - 0s 21ms/step\n"
     ]
    },
    {
     "name": "stderr",
     "output_type": "stream",
     "text": [
      "127.0.0.1 - - [05/Mar/2024 16:34:27] \"POST /epa/upload HTTP/1.1\" 200 -\n"
     ]
    },
    {
     "name": "stdout",
     "output_type": "stream",
     "text": [
      "결과: 스탠딩 사이드 크런치\n",
      "정확도: 92.60%\n",
      "1/1 [==============================] - 0s 22ms/step\n"
     ]
    },
    {
     "name": "stderr",
     "output_type": "stream",
     "text": [
      "127.0.0.1 - - [05/Mar/2024 16:34:27] \"POST /epa/upload HTTP/1.1\" 200 -\n"
     ]
    },
    {
     "name": "stdout",
     "output_type": "stream",
     "text": [
      "결과: 스탠딩 사이드 크런치\n",
      "정확도: 90.49%\n",
      "1/1 [==============================] - 0s 20ms/step\n"
     ]
    },
    {
     "name": "stderr",
     "output_type": "stream",
     "text": [
      "127.0.0.1 - - [05/Mar/2024 16:34:27] \"POST /epa/upload HTTP/1.1\" 200 -\n"
     ]
    },
    {
     "name": "stdout",
     "output_type": "stream",
     "text": [
      "결과: 스탠딩 사이드 크런치\n",
      "정확도: 92.18%\n",
      "1/1 [==============================] - 0s 22ms/step\n"
     ]
    },
    {
     "name": "stderr",
     "output_type": "stream",
     "text": [
      "127.0.0.1 - - [05/Mar/2024 16:34:27] \"POST /epa/upload HTTP/1.1\" 200 -\n"
     ]
    },
    {
     "name": "stdout",
     "output_type": "stream",
     "text": [
      "결과: 스탠딩 사이드 크런치\n",
      "정확도: 88.19%\n",
      "1/1 [==============================] - 0s 20ms/step\n"
     ]
    },
    {
     "name": "stderr",
     "output_type": "stream",
     "text": [
      "127.0.0.1 - - [05/Mar/2024 16:34:28] \"POST /epa/upload HTTP/1.1\" 200 -\n"
     ]
    },
    {
     "name": "stdout",
     "output_type": "stream",
     "text": [
      "결과: 스탠딩 사이드 크런치\n",
      "정확도: 91.36%\n",
      "1/1 [==============================] - 0s 20ms/step\n"
     ]
    },
    {
     "name": "stderr",
     "output_type": "stream",
     "text": [
      "127.0.0.1 - - [05/Mar/2024 16:34:28] \"POST /epa/upload HTTP/1.1\" 200 -\n"
     ]
    },
    {
     "name": "stdout",
     "output_type": "stream",
     "text": [
      "결과: 스탠딩 사이드 크런치\n",
      "정확도: 89.50%\n",
      "1/1 [==============================] - 0s 20ms/step\n"
     ]
    },
    {
     "name": "stderr",
     "output_type": "stream",
     "text": [
      "127.0.0.1 - - [05/Mar/2024 16:34:28] \"POST /epa/upload HTTP/1.1\" 200 -\n"
     ]
    },
    {
     "name": "stdout",
     "output_type": "stream",
     "text": [
      "결과: 스탠딩 사이드 크런치\n",
      "정확도: 85.96%\n",
      "1/1 [==============================] - 0s 20ms/step\n"
     ]
    },
    {
     "name": "stderr",
     "output_type": "stream",
     "text": [
      "127.0.0.1 - - [05/Mar/2024 16:34:28] \"POST /epa/upload HTTP/1.1\" 200 -\n"
     ]
    },
    {
     "name": "stdout",
     "output_type": "stream",
     "text": [
      "결과: 스탠딩 사이드 크런치\n",
      "정확도: 90.75%\n",
      "1/1 [==============================] - 0s 20ms/step\n"
     ]
    },
    {
     "name": "stderr",
     "output_type": "stream",
     "text": [
      "127.0.0.1 - - [05/Mar/2024 16:34:28] \"POST /epa/upload HTTP/1.1\" 200 -\n"
     ]
    },
    {
     "name": "stdout",
     "output_type": "stream",
     "text": [
      "결과: 스탠딩 사이드 크런치\n",
      "정확도: 98.63%\n",
      "1/1 [==============================] - 0s 21ms/step\n"
     ]
    },
    {
     "name": "stderr",
     "output_type": "stream",
     "text": [
      "127.0.0.1 - - [05/Mar/2024 16:34:29] \"POST /epa/upload HTTP/1.1\" 200 -\n"
     ]
    },
    {
     "name": "stdout",
     "output_type": "stream",
     "text": [
      "결과: 스탠딩 사이드 크런치\n",
      "정확도: 99.91%\n",
      "1/1 [==============================] - 0s 19ms/step\n"
     ]
    },
    {
     "name": "stderr",
     "output_type": "stream",
     "text": [
      "127.0.0.1 - - [05/Mar/2024 16:34:29] \"POST /epa/upload HTTP/1.1\" 200 -\n"
     ]
    },
    {
     "name": "stdout",
     "output_type": "stream",
     "text": [
      "결과: 스탠딩 사이드 크런치\n",
      "정확도: 99.90%\n",
      "1/1 [==============================] - 0s 21ms/step\n"
     ]
    },
    {
     "name": "stderr",
     "output_type": "stream",
     "text": [
      "127.0.0.1 - - [05/Mar/2024 16:34:29] \"POST /epa/upload HTTP/1.1\" 200 -\n"
     ]
    },
    {
     "name": "stdout",
     "output_type": "stream",
     "text": [
      "결과: 스탠딩 사이드 크런치\n",
      "정확도: 99.88%\n",
      "1/1 [==============================] - 0s 21ms/step\n"
     ]
    },
    {
     "name": "stderr",
     "output_type": "stream",
     "text": [
      "127.0.0.1 - - [05/Mar/2024 16:34:29] \"POST /epa/upload HTTP/1.1\" 200 -\n"
     ]
    },
    {
     "name": "stdout",
     "output_type": "stream",
     "text": [
      "결과: 스탠딩 사이드 크런치\n",
      "정확도: 99.88%\n",
      "1/1 [==============================] - 0s 20ms/step\n"
     ]
    },
    {
     "name": "stderr",
     "output_type": "stream",
     "text": [
      "127.0.0.1 - - [05/Mar/2024 16:34:29] \"POST /epa/upload HTTP/1.1\" 200 -\n"
     ]
    },
    {
     "name": "stdout",
     "output_type": "stream",
     "text": [
      "결과: 스탠딩 사이드 크런치\n",
      "정확도: 99.10%\n",
      "1/1 [==============================] - 0s 21ms/step\n"
     ]
    },
    {
     "name": "stderr",
     "output_type": "stream",
     "text": [
      "127.0.0.1 - - [05/Mar/2024 16:34:30] \"POST /epa/upload HTTP/1.1\" 200 -\n"
     ]
    },
    {
     "name": "stdout",
     "output_type": "stream",
     "text": [
      "결과: 스탠딩 사이드 크런치\n",
      "정확도: 99.91%\n",
      "1/1 [==============================] - 0s 19ms/step\n"
     ]
    },
    {
     "name": "stderr",
     "output_type": "stream",
     "text": [
      "127.0.0.1 - - [05/Mar/2024 16:34:30] \"POST /epa/upload HTTP/1.1\" 200 -\n"
     ]
    },
    {
     "name": "stdout",
     "output_type": "stream",
     "text": [
      "결과: 스탠딩 사이드 크런치\n",
      "정확도: 99.97%\n",
      "1/1 [==============================] - 0s 20ms/step\n"
     ]
    },
    {
     "name": "stderr",
     "output_type": "stream",
     "text": [
      "127.0.0.1 - - [05/Mar/2024 16:34:30] \"POST /epa/upload HTTP/1.1\" 200 -\n"
     ]
    },
    {
     "name": "stdout",
     "output_type": "stream",
     "text": [
      "결과: 스탠딩 사이드 크런치\n",
      "정확도: 99.98%\n",
      "1/1 [==============================] - 0s 20ms/step\n"
     ]
    },
    {
     "name": "stderr",
     "output_type": "stream",
     "text": [
      "127.0.0.1 - - [05/Mar/2024 16:34:30] \"POST /epa/upload HTTP/1.1\" 200 -\n"
     ]
    },
    {
     "name": "stdout",
     "output_type": "stream",
     "text": [
      "결과: 스탠딩 사이드 크런치\n",
      "정확도: 99.39%\n",
      "1/1 [==============================] - 0s 21ms/step\n"
     ]
    },
    {
     "name": "stderr",
     "output_type": "stream",
     "text": [
      "127.0.0.1 - - [05/Mar/2024 16:34:31] \"POST /epa/upload HTTP/1.1\" 200 -\n"
     ]
    },
    {
     "name": "stdout",
     "output_type": "stream",
     "text": [
      "결과: 스탠딩 사이드 크런치\n",
      "정확도: 98.80%\n",
      "1/1 [==============================] - 0s 21ms/step\n"
     ]
    },
    {
     "name": "stderr",
     "output_type": "stream",
     "text": [
      "127.0.0.1 - - [05/Mar/2024 16:34:31] \"POST /epa/upload HTTP/1.1\" 200 -\n"
     ]
    },
    {
     "name": "stdout",
     "output_type": "stream",
     "text": [
      "결과: 스탠딩 사이드 크런치\n",
      "정확도: 97.76%\n",
      "1/1 [==============================] - 0s 21ms/step\n"
     ]
    },
    {
     "name": "stderr",
     "output_type": "stream",
     "text": [
      "127.0.0.1 - - [05/Mar/2024 16:34:31] \"POST /epa/upload HTTP/1.1\" 200 -\n"
     ]
    },
    {
     "name": "stdout",
     "output_type": "stream",
     "text": [
      "결과: 스탠딩 사이드 크런치\n",
      "정확도: 92.80%\n",
      "1/1 [==============================] - 0s 21ms/step\n"
     ]
    },
    {
     "name": "stderr",
     "output_type": "stream",
     "text": [
      "127.0.0.1 - - [05/Mar/2024 16:34:31] \"POST /epa/upload HTTP/1.1\" 200 -\n"
     ]
    },
    {
     "name": "stdout",
     "output_type": "stream",
     "text": [
      "결과: 스탠딩 사이드 크런치\n",
      "정확도: 87.89%\n",
      "1/1 [==============================] - 0s 21ms/step\n"
     ]
    },
    {
     "name": "stderr",
     "output_type": "stream",
     "text": [
      "127.0.0.1 - - [05/Mar/2024 16:34:31] \"POST /epa/upload HTTP/1.1\" 200 -\n"
     ]
    },
    {
     "name": "stdout",
     "output_type": "stream",
     "text": [
      "결과: 스탠딩 사이드 크런치\n",
      "정확도: 90.74%\n",
      "1/1 [==============================] - 0s 21ms/step\n"
     ]
    },
    {
     "name": "stderr",
     "output_type": "stream",
     "text": [
      "127.0.0.1 - - [05/Mar/2024 16:34:32] \"POST /epa/upload HTTP/1.1\" 200 -\n"
     ]
    },
    {
     "name": "stdout",
     "output_type": "stream",
     "text": [
      "결과: 스탠딩 사이드 크런치\n",
      "정확도: 90.37%\n",
      "1/1 [==============================] - 0s 21ms/step\n"
     ]
    },
    {
     "name": "stderr",
     "output_type": "stream",
     "text": [
      "127.0.0.1 - - [05/Mar/2024 16:34:32] \"POST /epa/upload HTTP/1.1\" 200 -\n"
     ]
    },
    {
     "name": "stdout",
     "output_type": "stream",
     "text": [
      "결과: 스탠딩 사이드 크런치\n",
      "정확도: 97.90%\n",
      "1/1 [==============================] - 0s 20ms/step\n"
     ]
    },
    {
     "name": "stderr",
     "output_type": "stream",
     "text": [
      "127.0.0.1 - - [05/Mar/2024 16:34:32] \"POST /epa/upload HTTP/1.1\" 200 -\n"
     ]
    },
    {
     "name": "stdout",
     "output_type": "stream",
     "text": [
      "결과: 스탠딩 사이드 크런치\n",
      "정확도: 99.73%\n",
      "1/1 [==============================] - 0s 20ms/step\n"
     ]
    },
    {
     "name": "stderr",
     "output_type": "stream",
     "text": [
      "127.0.0.1 - - [05/Mar/2024 16:34:32] \"POST /epa/upload HTTP/1.1\" 200 -\n"
     ]
    },
    {
     "name": "stdout",
     "output_type": "stream",
     "text": [
      "결과: 스탠딩 사이드 크런치\n",
      "정확도: 99.35%\n",
      "1/1 [==============================] - 0s 21ms/step\n"
     ]
    },
    {
     "name": "stderr",
     "output_type": "stream",
     "text": [
      "127.0.0.1 - - [05/Mar/2024 16:34:33] \"POST /epa/upload HTTP/1.1\" 200 -\n"
     ]
    },
    {
     "name": "stdout",
     "output_type": "stream",
     "text": [
      "결과: 스탠딩 사이드 크런치\n",
      "정확도: 99.47%\n",
      "1/1 [==============================] - 0s 20ms/step\n"
     ]
    },
    {
     "name": "stderr",
     "output_type": "stream",
     "text": [
      "127.0.0.1 - - [05/Mar/2024 16:34:33] \"POST /epa/upload HTTP/1.1\" 200 -\n"
     ]
    },
    {
     "name": "stdout",
     "output_type": "stream",
     "text": [
      "결과: 스탠딩 사이드 크런치\n",
      "정확도: 97.12%\n",
      "1/1 [==============================] - 0s 20ms/step\n"
     ]
    },
    {
     "name": "stderr",
     "output_type": "stream",
     "text": [
      "127.0.0.1 - - [05/Mar/2024 16:34:33] \"POST /epa/upload HTTP/1.1\" 200 -\n"
     ]
    },
    {
     "name": "stdout",
     "output_type": "stream",
     "text": [
      "결과: 스탠딩 사이드 크런치\n",
      "정확도: 91.62%\n",
      "<function check_side_crunch_angle at 0x00000118B6790160>\n",
      "Good!\n",
      "1/1 [==============================] - 0s 20ms/step\n"
     ]
    },
    {
     "name": "stderr",
     "output_type": "stream",
     "text": [
      "127.0.0.1 - - [05/Mar/2024 16:34:33] \"POST /epa/upload HTTP/1.1\" 200 -\n"
     ]
    },
    {
     "name": "stdout",
     "output_type": "stream",
     "text": [
      "결과: 스탠딩 사이드 크런치\n",
      "정확도: 69.30%\n",
      "1/1 [==============================] - 0s 20ms/step\n"
     ]
    },
    {
     "name": "stderr",
     "output_type": "stream",
     "text": [
      "127.0.0.1 - - [05/Mar/2024 16:34:33] \"POST /epa/upload HTTP/1.1\" 200 -\n"
     ]
    },
    {
     "name": "stdout",
     "output_type": "stream",
     "text": [
      "결과: 스탠딩 사이드 크런치\n",
      "정확도: 70.53%\n",
      "<function check_side_crunch_angle at 0x00000118B6790160>\n",
      "Good!\n",
      "1/1 [==============================] - 0s 22ms/step\n"
     ]
    },
    {
     "name": "stderr",
     "output_type": "stream",
     "text": [
      "127.0.0.1 - - [05/Mar/2024 16:34:34] \"POST /epa/upload HTTP/1.1\" 200 -\n"
     ]
    },
    {
     "name": "stdout",
     "output_type": "stream",
     "text": [
      "결과: 스탠딩 사이드 크런치\n",
      "정확도: 76.06%\n",
      "<function check_side_crunch_angle at 0x00000118B6790160>\n",
      "Good!\n",
      "1/1 [==============================] - 0s 25ms/step\n"
     ]
    },
    {
     "name": "stderr",
     "output_type": "stream",
     "text": [
      "127.0.0.1 - - [05/Mar/2024 16:34:34] \"POST /epa/upload HTTP/1.1\" 200 -\n"
     ]
    },
    {
     "name": "stdout",
     "output_type": "stream",
     "text": [
      "결과: 스탠딩 사이드 크런치\n",
      "정확도: 76.56%\n",
      "<function check_side_crunch_angle at 0x00000118B6790160>\n",
      "Good!\n",
      "1/1 [==============================] - 0s 19ms/step\n"
     ]
    },
    {
     "name": "stderr",
     "output_type": "stream",
     "text": [
      "127.0.0.1 - - [05/Mar/2024 16:34:34] \"POST /epa/upload HTTP/1.1\" 200 -\n"
     ]
    },
    {
     "name": "stdout",
     "output_type": "stream",
     "text": [
      "결과: 스탠딩 사이드 크런치\n",
      "정확도: 75.97%\n",
      "<function check_side_crunch_angle at 0x00000118B6790160>\n",
      "Good!\n",
      "1/1 [==============================] - 0s 20ms/step\n"
     ]
    },
    {
     "name": "stderr",
     "output_type": "stream",
     "text": [
      "127.0.0.1 - - [05/Mar/2024 16:34:34] \"POST /epa/upload HTTP/1.1\" 200 -\n"
     ]
    },
    {
     "name": "stdout",
     "output_type": "stream",
     "text": [
      "결과: 스탠딩 사이드 크런치\n",
      "정확도: 78.17%\n",
      "<function check_side_crunch_angle at 0x00000118B6790160>\n",
      "Good!\n",
      "1/1 [==============================] - 0s 22ms/step\n"
     ]
    },
    {
     "name": "stderr",
     "output_type": "stream",
     "text": [
      "127.0.0.1 - - [05/Mar/2024 16:34:35] \"POST /epa/upload HTTP/1.1\" 200 -\n"
     ]
    },
    {
     "name": "stdout",
     "output_type": "stream",
     "text": [
      "결과: 스탠딩 사이드 크런치\n",
      "정확도: 76.40%\n",
      "<function check_side_crunch_angle at 0x00000118B6790160>\n",
      "Good!\n",
      "1/1 [==============================] - 0s 21ms/step\n"
     ]
    },
    {
     "name": "stderr",
     "output_type": "stream",
     "text": [
      "127.0.0.1 - - [05/Mar/2024 16:34:35] \"POST /epa/upload HTTP/1.1\" 200 -\n"
     ]
    },
    {
     "name": "stdout",
     "output_type": "stream",
     "text": [
      "결과: 스탠딩 사이드 크런치\n",
      "정확도: 93.16%\n",
      "<function check_side_crunch_angle at 0x00000118B6790160>\n",
      "Good!\n",
      "1/1 [==============================] - 0s 31ms/step\n"
     ]
    },
    {
     "name": "stderr",
     "output_type": "stream",
     "text": [
      "127.0.0.1 - - [05/Mar/2024 16:34:35] \"POST /epa/upload HTTP/1.1\" 200 -\n"
     ]
    },
    {
     "name": "stdout",
     "output_type": "stream",
     "text": [
      "결과: 스탠딩 사이드 크런치\n",
      "정확도: 97.14%\n",
      "1/1 [==============================] - 0s 20ms/step\n"
     ]
    },
    {
     "name": "stderr",
     "output_type": "stream",
     "text": [
      "127.0.0.1 - - [05/Mar/2024 16:34:35] \"POST /epa/upload HTTP/1.1\" 200 -\n"
     ]
    },
    {
     "name": "stdout",
     "output_type": "stream",
     "text": [
      "결과: 스탠딩 사이드 크런치\n",
      "정확도: 98.67%\n",
      "1/1 [==============================] - 0s 21ms/step\n"
     ]
    },
    {
     "name": "stderr",
     "output_type": "stream",
     "text": [
      "127.0.0.1 - - [05/Mar/2024 16:34:35] \"POST /epa/upload HTTP/1.1\" 200 -\n"
     ]
    },
    {
     "name": "stdout",
     "output_type": "stream",
     "text": [
      "결과: 스탠딩 사이드 크런치\n",
      "정확도: 99.65%\n",
      "1/1 [==============================] - 0s 23ms/step\n"
     ]
    },
    {
     "name": "stderr",
     "output_type": "stream",
     "text": [
      "127.0.0.1 - - [05/Mar/2024 16:34:36] \"POST /epa/upload HTTP/1.1\" 200 -\n"
     ]
    },
    {
     "name": "stdout",
     "output_type": "stream",
     "text": [
      "결과: 스탠딩 사이드 크런치\n",
      "정확도: 99.31%\n",
      "1/1 [==============================] - 0s 21ms/step\n"
     ]
    },
    {
     "name": "stderr",
     "output_type": "stream",
     "text": [
      "127.0.0.1 - - [05/Mar/2024 16:34:36] \"POST /epa/upload HTTP/1.1\" 200 -\n"
     ]
    },
    {
     "name": "stdout",
     "output_type": "stream",
     "text": [
      "결과: 스탠딩 사이드 크런치\n",
      "정확도: 99.72%\n",
      "1/1 [==============================] - 0s 22ms/step\n"
     ]
    },
    {
     "name": "stderr",
     "output_type": "stream",
     "text": [
      "127.0.0.1 - - [05/Mar/2024 16:34:36] \"POST /epa/upload HTTP/1.1\" 200 -\n"
     ]
    },
    {
     "name": "stdout",
     "output_type": "stream",
     "text": [
      "결과: 스탠딩 사이드 크런치\n",
      "정확도: 99.40%\n",
      "1/1 [==============================] - 0s 19ms/step\n"
     ]
    },
    {
     "name": "stderr",
     "output_type": "stream",
     "text": [
      "127.0.0.1 - - [05/Mar/2024 16:34:36] \"POST /epa/upload HTTP/1.1\" 200 -\n"
     ]
    },
    {
     "name": "stdout",
     "output_type": "stream",
     "text": [
      "결과: 스탠딩 사이드 크런치\n",
      "정확도: 99.81%\n",
      "1/1 [==============================] - 0s 20ms/step\n"
     ]
    },
    {
     "name": "stderr",
     "output_type": "stream",
     "text": [
      "127.0.0.1 - - [05/Mar/2024 16:34:37] \"POST /epa/upload HTTP/1.1\" 200 -\n"
     ]
    },
    {
     "name": "stdout",
     "output_type": "stream",
     "text": [
      "결과: 스탠딩 사이드 크런치\n",
      "정확도: 99.83%\n",
      "1/1 [==============================] - 0s 20ms/step\n",
      "결과: 스탠딩 사이드 크런치\n",
      "정확도: 99.64%\n"
     ]
    },
    {
     "name": "stderr",
     "output_type": "stream",
     "text": [
      "127.0.0.1 - - [05/Mar/2024 16:34:37] \"POST /epa/upload HTTP/1.1\" 200 -\n"
     ]
    },
    {
     "name": "stdout",
     "output_type": "stream",
     "text": [
      "1/1 [==============================] - 0s 20ms/step\n"
     ]
    },
    {
     "name": "stderr",
     "output_type": "stream",
     "text": [
      "127.0.0.1 - - [05/Mar/2024 16:34:37] \"POST /epa/upload HTTP/1.1\" 200 -\n"
     ]
    },
    {
     "name": "stdout",
     "output_type": "stream",
     "text": [
      "결과: 스탠딩 사이드 크런치\n",
      "정확도: 99.77%\n",
      "1/1 [==============================] - 0s 21ms/step\n"
     ]
    },
    {
     "name": "stderr",
     "output_type": "stream",
     "text": [
      "127.0.0.1 - - [05/Mar/2024 16:34:37] \"POST /epa/upload HTTP/1.1\" 200 -\n"
     ]
    },
    {
     "name": "stdout",
     "output_type": "stream",
     "text": [
      "결과: 스탠딩 사이드 크런치\n",
      "정확도: 99.90%\n",
      "1/1 [==============================] - 0s 20ms/step\n"
     ]
    },
    {
     "name": "stderr",
     "output_type": "stream",
     "text": [
      "127.0.0.1 - - [05/Mar/2024 16:34:37] \"POST /epa/upload HTTP/1.1\" 200 -\n"
     ]
    },
    {
     "name": "stdout",
     "output_type": "stream",
     "text": [
      "결과: 스탠딩 사이드 크런치\n",
      "정확도: 99.85%\n",
      "1/1 [==============================] - 0s 27ms/step\n"
     ]
    },
    {
     "name": "stderr",
     "output_type": "stream",
     "text": [
      "127.0.0.1 - - [05/Mar/2024 16:34:38] \"POST /epa/upload HTTP/1.1\" 200 -\n"
     ]
    },
    {
     "name": "stdout",
     "output_type": "stream",
     "text": [
      "결과: 스탠딩 사이드 크런치\n",
      "정확도: 99.86%\n",
      "1/1 [==============================] - 0s 19ms/step\n"
     ]
    },
    {
     "name": "stderr",
     "output_type": "stream",
     "text": [
      "127.0.0.1 - - [05/Mar/2024 16:34:38] \"POST /epa/upload HTTP/1.1\" 200 -\n"
     ]
    },
    {
     "name": "stdout",
     "output_type": "stream",
     "text": [
      "결과: 스탠딩 사이드 크런치\n",
      "정확도: 99.81%\n",
      "1/1 [==============================] - 0s 20ms/step\n"
     ]
    },
    {
     "name": "stderr",
     "output_type": "stream",
     "text": [
      "127.0.0.1 - - [05/Mar/2024 16:34:38] \"POST /epa/upload HTTP/1.1\" 200 -\n"
     ]
    },
    {
     "name": "stdout",
     "output_type": "stream",
     "text": [
      "결과: 스탠딩 사이드 크런치\n",
      "정확도: 97.52%\n",
      "<function check_side_crunch_angle at 0x00000118B6790160>\n",
      "Good!\n",
      "1/1 [==============================] - 0s 21ms/step\n"
     ]
    },
    {
     "name": "stderr",
     "output_type": "stream",
     "text": [
      "127.0.0.1 - - [05/Mar/2024 16:34:38] \"POST /epa/upload HTTP/1.1\" 200 -\n"
     ]
    },
    {
     "name": "stdout",
     "output_type": "stream",
     "text": [
      "결과: 스탠딩 사이드 크런치\n",
      "정확도: 81.83%\n",
      "<function check_side_crunch_angle at 0x00000118B6790160>\n",
      "Good!\n",
      "1/1 [==============================] - 0s 21ms/step\n"
     ]
    },
    {
     "name": "stderr",
     "output_type": "stream",
     "text": [
      "127.0.0.1 - - [05/Mar/2024 16:34:39] \"POST /epa/upload HTTP/1.1\" 200 -\n"
     ]
    },
    {
     "name": "stdout",
     "output_type": "stream",
     "text": [
      "결과: 스탠딩 사이드 크런치\n",
      "정확도: 69.70%\n",
      "1/1 [==============================] - 0s 20ms/step\n"
     ]
    },
    {
     "name": "stderr",
     "output_type": "stream",
     "text": [
      "127.0.0.1 - - [05/Mar/2024 16:34:39] \"POST /epa/upload HTTP/1.1\" 200 -\n"
     ]
    },
    {
     "name": "stdout",
     "output_type": "stream",
     "text": [
      "결과: 스탠딩 사이드 크런치\n",
      "정확도: 72.25%\n",
      "<function check_side_crunch_angle at 0x00000118B6790160>\n",
      "Good!\n",
      "1/1 [==============================] - 0s 20ms/step\n"
     ]
    },
    {
     "name": "stderr",
     "output_type": "stream",
     "text": [
      "127.0.0.1 - - [05/Mar/2024 16:34:39] \"POST /epa/upload HTTP/1.1\" 200 -\n"
     ]
    },
    {
     "name": "stdout",
     "output_type": "stream",
     "text": [
      "결과: 스탠딩 사이드 크런치\n",
      "정확도: 77.63%\n",
      "<function check_side_crunch_angle at 0x00000118B6790160>\n",
      "Good!\n",
      "1/1 [==============================] - 0s 21ms/step\n"
     ]
    },
    {
     "name": "stderr",
     "output_type": "stream",
     "text": [
      "127.0.0.1 - - [05/Mar/2024 16:34:39] \"POST /epa/upload HTTP/1.1\" 200 -\n"
     ]
    },
    {
     "name": "stdout",
     "output_type": "stream",
     "text": [
      "결과: 스탠딩 사이드 크런치\n",
      "정확도: 74.84%\n",
      "<function check_side_crunch_angle at 0x00000118B6790160>\n",
      "Good!\n",
      "1/1 [==============================] - 0s 21ms/step\n"
     ]
    },
    {
     "name": "stderr",
     "output_type": "stream",
     "text": [
      "127.0.0.1 - - [05/Mar/2024 16:34:40] \"POST /epa/upload HTTP/1.1\" 200 -\n"
     ]
    },
    {
     "name": "stdout",
     "output_type": "stream",
     "text": [
      "결과: 스탠딩 사이드 크런치\n",
      "정확도: 71.88%\n",
      "<function check_side_crunch_angle at 0x00000118B6790160>\n",
      "Good!\n",
      "1/1 [==============================] - 0s 20ms/step\n"
     ]
    },
    {
     "name": "stderr",
     "output_type": "stream",
     "text": [
      "127.0.0.1 - - [05/Mar/2024 16:34:40] \"POST /epa/upload HTTP/1.1\" 200 -\n"
     ]
    },
    {
     "name": "stdout",
     "output_type": "stream",
     "text": [
      "결과: 스탠딩 사이드 크런치\n",
      "정확도: 70.71%\n",
      "<function check_side_crunch_angle at 0x00000118B6790160>\n",
      "Good!\n",
      "1/1 [==============================] - 0s 20ms/step\n"
     ]
    },
    {
     "name": "stderr",
     "output_type": "stream",
     "text": [
      "127.0.0.1 - - [05/Mar/2024 16:34:40] \"POST /epa/upload HTTP/1.1\" 200 -\n"
     ]
    },
    {
     "name": "stdout",
     "output_type": "stream",
     "text": [
      "결과: 스탠딩 사이드 크런치\n",
      "정확도: 82.51%\n",
      "<function check_side_crunch_angle at 0x00000118B6790160>\n",
      "Good!\n",
      "1/1 [==============================] - 0s 20ms/step\n"
     ]
    },
    {
     "name": "stderr",
     "output_type": "stream",
     "text": [
      "127.0.0.1 - - [05/Mar/2024 16:34:40] \"POST /epa/upload HTTP/1.1\" 200 -\n"
     ]
    },
    {
     "name": "stdout",
     "output_type": "stream",
     "text": [
      "결과: 스탠딩 사이드 크런치\n",
      "정확도: 97.44%\n",
      "1/1 [==============================] - 0s 21ms/step\n"
     ]
    },
    {
     "name": "stderr",
     "output_type": "stream",
     "text": [
      "127.0.0.1 - - [05/Mar/2024 16:34:40] \"POST /epa/upload HTTP/1.1\" 200 -\n"
     ]
    },
    {
     "name": "stdout",
     "output_type": "stream",
     "text": [
      "결과: 스탠딩 사이드 크런치\n",
      "정확도: 99.55%\n",
      "1/1 [==============================] - 0s 20ms/step\n",
      "결과: 스탠딩 사이드 크런치\n",
      "정확도: 91.32%\n"
     ]
    },
    {
     "name": "stderr",
     "output_type": "stream",
     "text": [
      "127.0.0.1 - - [05/Mar/2024 16:34:40] \"POST /epa/upload HTTP/1.1\" 200 -\n"
     ]
    },
    {
     "name": "stdout",
     "output_type": "stream",
     "text": [
      "1/1 [==============================] - 0s 20ms/step\n"
     ]
    },
    {
     "name": "stderr",
     "output_type": "stream",
     "text": [
      "127.0.0.1 - - [05/Mar/2024 16:34:41] \"POST /epa/upload HTTP/1.1\" 200 -\n"
     ]
    },
    {
     "name": "stdout",
     "output_type": "stream",
     "text": [
      "결과: 스탠딩 사이드 크런치\n",
      "정확도: 91.03%\n",
      "1/1 [==============================] - 0s 20ms/step\n"
     ]
    },
    {
     "name": "stderr",
     "output_type": "stream",
     "text": [
      "127.0.0.1 - - [05/Mar/2024 16:34:41] \"POST /epa/upload HTTP/1.1\" 200 -\n"
     ]
    },
    {
     "name": "stdout",
     "output_type": "stream",
     "text": [
      "결과: 스탠딩 사이드 크런치\n",
      "정확도: 97.26%\n",
      "1/1 [==============================] - 0s 21ms/step\n"
     ]
    },
    {
     "name": "stderr",
     "output_type": "stream",
     "text": [
      "127.0.0.1 - - [05/Mar/2024 16:34:41] \"POST /epa/upload HTTP/1.1\" 200 -\n"
     ]
    },
    {
     "name": "stdout",
     "output_type": "stream",
     "text": [
      "결과: 스탠딩 사이드 크런치\n",
      "정확도: 95.75%\n",
      "1/1 [==============================] - 0s 22ms/step\n"
     ]
    },
    {
     "name": "stderr",
     "output_type": "stream",
     "text": [
      "127.0.0.1 - - [05/Mar/2024 16:34:41] \"POST /epa/upload HTTP/1.1\" 200 -\n"
     ]
    },
    {
     "name": "stdout",
     "output_type": "stream",
     "text": [
      "결과: 스탠딩 사이드 크런치\n",
      "정확도: 78.07%\n",
      "1/1 [==============================] - 0s 20ms/step\n"
     ]
    },
    {
     "name": "stderr",
     "output_type": "stream",
     "text": [
      "127.0.0.1 - - [05/Mar/2024 16:34:42] \"POST /epa/upload HTTP/1.1\" 200 -\n"
     ]
    },
    {
     "name": "stdout",
     "output_type": "stream",
     "text": [
      "결과: 스탠딩 사이드 크런치\n",
      "정확도: 86.82%\n",
      "1/1 [==============================] - 0s 20ms/step\n"
     ]
    },
    {
     "name": "stderr",
     "output_type": "stream",
     "text": [
      "127.0.0.1 - - [05/Mar/2024 16:34:42] \"POST /epa/upload HTTP/1.1\" 200 -\n"
     ]
    },
    {
     "name": "stdout",
     "output_type": "stream",
     "text": [
      "결과: 스탠딩 사이드 크런치\n",
      "정확도: 97.37%\n",
      "1/1 [==============================] - 0s 20ms/step\n"
     ]
    },
    {
     "name": "stderr",
     "output_type": "stream",
     "text": [
      "127.0.0.1 - - [05/Mar/2024 16:34:42] \"POST /epa/upload HTTP/1.1\" 200 -\n"
     ]
    },
    {
     "name": "stdout",
     "output_type": "stream",
     "text": [
      "결과: 스탠딩 사이드 크런치\n",
      "정확도: 90.48%\n",
      "1/1 [==============================] - 0s 20ms/step\n"
     ]
    },
    {
     "name": "stderr",
     "output_type": "stream",
     "text": [
      "127.0.0.1 - - [05/Mar/2024 16:34:42] \"POST /epa/upload HTTP/1.1\" 200 -\n"
     ]
    },
    {
     "name": "stdout",
     "output_type": "stream",
     "text": [
      "결과: 스탠딩 사이드 크런치\n",
      "정확도: 83.53%\n",
      "1/1 [==============================] - 0s 21ms/step\n"
     ]
    },
    {
     "name": "stderr",
     "output_type": "stream",
     "text": [
      "127.0.0.1 - - [05/Mar/2024 16:34:42] \"POST /epa/upload HTTP/1.1\" 200 -\n",
      "127.0.0.1 - - [05/Mar/2024 16:34:43] \"POST /epa/upload HTTP/1.1\" 200 -\n"
     ]
    },
    {
     "name": "stdout",
     "output_type": "stream",
     "text": [
      "결과: 스탠딩 사이드 크런치\n",
      "정확도: 98.74%\n",
      "Pose detection failed.\n",
      "1/1 [==============================] - 0s 20ms/step\n"
     ]
    },
    {
     "name": "stderr",
     "output_type": "stream",
     "text": [
      "127.0.0.1 - - [05/Mar/2024 16:34:43] \"POST /epa/upload HTTP/1.1\" 200 -\n"
     ]
    },
    {
     "name": "stdout",
     "output_type": "stream",
     "text": [
      "결과: 스탠딩 사이드 크런치\n",
      "정확도: 99.21%\n",
      "1/1 [==============================] - 0s 21ms/step\n"
     ]
    },
    {
     "name": "stderr",
     "output_type": "stream",
     "text": [
      "127.0.0.1 - - [05/Mar/2024 16:34:43] \"POST /epa/upload HTTP/1.1\" 200 -\n"
     ]
    },
    {
     "name": "stdout",
     "output_type": "stream",
     "text": [
      "결과: 스탠딩 사이드 크런치\n",
      "정확도: 98.29%\n",
      "1/1 [==============================] - 0s 33ms/step\n"
     ]
    },
    {
     "name": "stderr",
     "output_type": "stream",
     "text": [
      "127.0.0.1 - - [05/Mar/2024 16:34:43] \"POST /epa/upload HTTP/1.1\" 200 -\n"
     ]
    },
    {
     "name": "stdout",
     "output_type": "stream",
     "text": [
      "결과: 스탠딩 사이드 크런치\n",
      "정확도: 99.09%\n",
      "1/1 [==============================] - 0s 21ms/step\n"
     ]
    },
    {
     "name": "stderr",
     "output_type": "stream",
     "text": [
      "127.0.0.1 - - [05/Mar/2024 16:34:44] \"POST /epa/upload HTTP/1.1\" 200 -\n"
     ]
    },
    {
     "name": "stdout",
     "output_type": "stream",
     "text": [
      "결과: 스탠딩 사이드 크런치\n",
      "정확도: 98.59%\n",
      "1/1 [==============================] - 0s 19ms/step\n"
     ]
    },
    {
     "name": "stderr",
     "output_type": "stream",
     "text": [
      "127.0.0.1 - - [05/Mar/2024 16:34:44] \"POST /epa/upload HTTP/1.1\" 200 -\n"
     ]
    },
    {
     "name": "stdout",
     "output_type": "stream",
     "text": [
      "결과: 스탠딩 사이드 크런치\n",
      "정확도: 98.97%\n",
      "1/1 [==============================] - 0s 24ms/step\n"
     ]
    },
    {
     "name": "stderr",
     "output_type": "stream",
     "text": [
      "127.0.0.1 - - [05/Mar/2024 16:34:44] \"POST /epa/upload HTTP/1.1\" 200 -\n"
     ]
    },
    {
     "name": "stdout",
     "output_type": "stream",
     "text": [
      "결과: 스탠딩 사이드 크런치\n",
      "정확도: 98.75%\n",
      "1/1 [==============================] - 0s 20ms/step\n"
     ]
    },
    {
     "name": "stderr",
     "output_type": "stream",
     "text": [
      "127.0.0.1 - - [05/Mar/2024 16:34:44] \"POST /epa/upload HTTP/1.1\" 200 -\n"
     ]
    },
    {
     "name": "stdout",
     "output_type": "stream",
     "text": [
      "결과: 스탠딩 사이드 크런치\n",
      "정확도: 98.92%\n",
      "1/1 [==============================] - 0s 20ms/step\n"
     ]
    },
    {
     "name": "stderr",
     "output_type": "stream",
     "text": [
      "127.0.0.1 - - [05/Mar/2024 16:34:44] \"POST /epa/upload HTTP/1.1\" 200 -\n"
     ]
    },
    {
     "name": "stdout",
     "output_type": "stream",
     "text": [
      "결과: 스탠딩 사이드 크런치\n",
      "정확도: 98.44%\n",
      "1/1 [==============================] - 0s 19ms/step\n"
     ]
    },
    {
     "name": "stderr",
     "output_type": "stream",
     "text": [
      "127.0.0.1 - - [05/Mar/2024 16:34:45] \"POST /epa/upload HTTP/1.1\" 200 -\n"
     ]
    },
    {
     "name": "stdout",
     "output_type": "stream",
     "text": [
      "결과: 스탠딩 사이드 크런치\n",
      "정확도: 98.34%\n",
      "1/1 [==============================] - 0s 23ms/step\n"
     ]
    },
    {
     "name": "stderr",
     "output_type": "stream",
     "text": [
      "127.0.0.1 - - [05/Mar/2024 16:34:45] \"POST /epa/upload HTTP/1.1\" 200 -\n"
     ]
    },
    {
     "name": "stdout",
     "output_type": "stream",
     "text": [
      "결과: 스탠딩 사이드 크런치\n",
      "정확도: 98.81%\n",
      "1/1 [==============================] - 0s 22ms/step\n",
      "결과:"
     ]
    },
    {
     "name": "stderr",
     "output_type": "stream",
     "text": [
      "127.0.0.1 - - [05/Mar/2024 16:34:45] \"POST /epa/upload HTTP/1.1\" 200 -\n"
     ]
    },
    {
     "name": "stdout",
     "output_type": "stream",
     "text": [
      " 스탠딩 사이드 크런치\n",
      "정확도: 98.43%\n",
      "1/1 [==============================] - 0s 24ms/step\n"
     ]
    },
    {
     "name": "stderr",
     "output_type": "stream",
     "text": [
      "127.0.0.1 - - [05/Mar/2024 16:34:45] \"POST /epa/upload HTTP/1.1\" 200 -\n"
     ]
    },
    {
     "name": "stdout",
     "output_type": "stream",
     "text": [
      "결과: 스탠딩 사이드 크런치\n",
      "정확도: 99.03%\n",
      "1/1 [==============================] - 0s 22ms/step\n"
     ]
    },
    {
     "name": "stderr",
     "output_type": "stream",
     "text": [
      "127.0.0.1 - - [05/Mar/2024 16:34:46] \"POST /epa/upload HTTP/1.1\" 200 -\n",
      "127.0.0.1 - - [05/Mar/2024 16:34:46] \"POST /epa/upload HTTP/1.1\" 200 -\n"
     ]
    },
    {
     "name": "stdout",
     "output_type": "stream",
     "text": [
      "결과: 스탠딩 사이드 크런치\n",
      "정확도: 99.70%\n",
      "Pose detection failed.\n"
     ]
    },
    {
     "name": "stderr",
     "output_type": "stream",
     "text": [
      "127.0.0.1 - - [05/Mar/2024 16:34:47] \"POST /epa/upload HTTP/1.1\" 200 -\n",
      "127.0.0.1 - - [05/Mar/2024 16:34:47] \"POST /epa/upload HTTP/1.1\" 200 -\n"
     ]
    },
    {
     "name": "stdout",
     "output_type": "stream",
     "text": [
      "Pose detection failed.\n",
      "Pose detection failed.\n"
     ]
    },
    {
     "name": "stderr",
     "output_type": "stream",
     "text": [
      "127.0.0.1 - - [05/Mar/2024 16:34:47] \"POST /epa/upload HTTP/1.1\" 200 -\n",
      "127.0.0.1 - - [05/Mar/2024 16:34:47] \"POST /epa/upload HTTP/1.1\" 200 -\n"
     ]
    },
    {
     "name": "stdout",
     "output_type": "stream",
     "text": [
      "Pose detection failed.\n",
      "Pose detection failed.\n"
     ]
    },
    {
     "name": "stderr",
     "output_type": "stream",
     "text": [
      "127.0.0.1 - - [05/Mar/2024 16:34:47] \"POST /epa/upload HTTP/1.1\" 200 -\n"
     ]
    },
    {
     "name": "stdout",
     "output_type": "stream",
     "text": [
      "Pose detection failed.\n"
     ]
    },
    {
     "name": "stderr",
     "output_type": "stream",
     "text": [
      "127.0.0.1 - - [05/Mar/2024 16:34:48] \"POST /epa/upload HTTP/1.1\" 200 -\n"
     ]
    },
    {
     "name": "stdout",
     "output_type": "stream",
     "text": [
      "Pose detection failed.\n"
     ]
    },
    {
     "name": "stderr",
     "output_type": "stream",
     "text": [
      "127.0.0.1 - - [05/Mar/2024 16:34:48] \"POST /epa/upload HTTP/1.1\" 200 -\n"
     ]
    },
    {
     "name": "stdout",
     "output_type": "stream",
     "text": [
      "Pose detection failed.\n"
     ]
    },
    {
     "name": "stderr",
     "output_type": "stream",
     "text": [
      "127.0.0.1 - - [05/Mar/2024 16:34:48] \"POST /epa/upload HTTP/1.1\" 200 -\n"
     ]
    },
    {
     "name": "stdout",
     "output_type": "stream",
     "text": [
      "Pose detection failed.\n",
      "Pose detection failed.\n"
     ]
    },
    {
     "name": "stderr",
     "output_type": "stream",
     "text": [
      "127.0.0.1 - - [05/Mar/2024 16:34:48] \"POST /epa/upload HTTP/1.1\" 200 -\n",
      "127.0.0.1 - - [05/Mar/2024 16:34:48] \"POST /epa/upload HTTP/1.1\" 200 -\n"
     ]
    },
    {
     "name": "stdout",
     "output_type": "stream",
     "text": [
      "Pose detection failed.\n"
     ]
    },
    {
     "name": "stderr",
     "output_type": "stream",
     "text": [
      "127.0.0.1 - - [05/Mar/2024 16:34:49] \"POST /epa/upload HTTP/1.1\" 200 -\n"
     ]
    },
    {
     "name": "stdout",
     "output_type": "stream",
     "text": [
      "Pose detection failed.\n"
     ]
    },
    {
     "name": "stderr",
     "output_type": "stream",
     "text": [
      "127.0.0.1 - - [05/Mar/2024 16:34:49] \"POST /epa/upload HTTP/1.1\" 200 -\n",
      "127.0.0.1 - - [05/Mar/2024 16:34:49] \"POST /epa/upload HTTP/1.1\" 200 -\n"
     ]
    },
    {
     "name": "stdout",
     "output_type": "stream",
     "text": [
      "Pose detection failed.\n",
      "Pose detection failed.\n"
     ]
    },
    {
     "name": "stderr",
     "output_type": "stream",
     "text": [
      "127.0.0.1 - - [05/Mar/2024 16:34:49] \"POST /epa/upload HTTP/1.1\" 200 -\n"
     ]
    },
    {
     "name": "stdout",
     "output_type": "stream",
     "text": [
      "Pose detection failed.\n"
     ]
    },
    {
     "name": "stderr",
     "output_type": "stream",
     "text": [
      "127.0.0.1 - - [05/Mar/2024 16:34:50] \"POST /epa/upload HTTP/1.1\" 200 -\n",
      "127.0.0.1 - - [05/Mar/2024 16:34:50] \"POST /epa/upload HTTP/1.1\" 200 -\n"
     ]
    },
    {
     "name": "stdout",
     "output_type": "stream",
     "text": [
      "Pose detection failed.\n",
      "Pose detection failed.\n"
     ]
    },
    {
     "name": "stderr",
     "output_type": "stream",
     "text": [
      "127.0.0.1 - - [05/Mar/2024 16:34:50] \"POST /epa/upload HTTP/1.1\" 200 -\n"
     ]
    },
    {
     "name": "stdout",
     "output_type": "stream",
     "text": [
      "Pose detection failed.\n"
     ]
    },
    {
     "name": "stderr",
     "output_type": "stream",
     "text": [
      "127.0.0.1 - - [05/Mar/2024 16:34:50] \"POST /epa/upload HTTP/1.1\" 200 -\n"
     ]
    },
    {
     "name": "stdout",
     "output_type": "stream",
     "text": [
      "Pose detection failed.\n",
      "Pose detection failed.\n"
     ]
    },
    {
     "name": "stderr",
     "output_type": "stream",
     "text": [
      "127.0.0.1 - - [05/Mar/2024 16:34:50] \"POST /epa/upload HTTP/1.1\" 200 -\n",
      "127.0.0.1 - - [05/Mar/2024 16:34:51] \"POST /epa/upload HTTP/1.1\" 200 -\n"
     ]
    },
    {
     "name": "stdout",
     "output_type": "stream",
     "text": [
      "Pose detection failed.\n",
      "Pose detection failed.\n"
     ]
    },
    {
     "name": "stderr",
     "output_type": "stream",
     "text": [
      "127.0.0.1 - - [05/Mar/2024 16:34:51] \"POST /epa/upload HTTP/1.1\" 200 -\n",
      "127.0.0.1 - - [05/Mar/2024 16:34:51] \"POST /epa/upload HTTP/1.1\" 200 -\n",
      "127.0.0.1 - - [05/Mar/2024 16:34:51] \"POST /epa/upload HTTP/1.1\" 200 -\n"
     ]
    },
    {
     "name": "stdout",
     "output_type": "stream",
     "text": [
      "Pose detection failed.\n",
      "Pose detection failed.\n"
     ]
    },
    {
     "name": "stderr",
     "output_type": "stream",
     "text": [
      "127.0.0.1 - - [05/Mar/2024 16:34:52] \"POST /epa/upload HTTP/1.1\" 200 -\n"
     ]
    },
    {
     "name": "stdout",
     "output_type": "stream",
     "text": [
      "Pose detection failed.\n",
      "Pose detection failed.\n"
     ]
    },
    {
     "name": "stderr",
     "output_type": "stream",
     "text": [
      "127.0.0.1 - - [05/Mar/2024 16:34:52] \"POST /epa/upload HTTP/1.1\" 200 -\n",
      "127.0.0.1 - - [05/Mar/2024 16:34:52] \"POST /epa/upload HTTP/1.1\" 200 -\n"
     ]
    },
    {
     "name": "stdout",
     "output_type": "stream",
     "text": [
      "Pose detection failed.\n"
     ]
    },
    {
     "name": "stderr",
     "output_type": "stream",
     "text": [
      "127.0.0.1 - - [05/Mar/2024 16:34:52] \"POST /epa/upload HTTP/1.1\" 200 -\n"
     ]
    },
    {
     "name": "stdout",
     "output_type": "stream",
     "text": [
      "Pose detection failed.\n"
     ]
    },
    {
     "name": "stderr",
     "output_type": "stream",
     "text": [
      "127.0.0.1 - - [05/Mar/2024 16:34:52] \"POST /epa/upload HTTP/1.1\" 200 -\n",
      "127.0.0.1 - - [05/Mar/2024 16:34:53] \"POST /epa/upload HTTP/1.1\" 200 -\n"
     ]
    },
    {
     "name": "stdout",
     "output_type": "stream",
     "text": [
      "Pose detection failed.\n",
      "Pose detection failed.\n"
     ]
    },
    {
     "name": "stderr",
     "output_type": "stream",
     "text": [
      "127.0.0.1 - - [05/Mar/2024 16:34:53] \"POST /epa/upload HTTP/1.1\" 200 -\n",
      "127.0.0.1 - - [05/Mar/2024 16:34:53] \"POST /epa/upload HTTP/1.1\" 200 -\n"
     ]
    },
    {
     "name": "stdout",
     "output_type": "stream",
     "text": [
      "Pose detection failed.\n",
      "Pose detection failed.\n"
     ]
    },
    {
     "name": "stderr",
     "output_type": "stream",
     "text": [
      "127.0.0.1 - - [05/Mar/2024 16:34:53] \"POST /epa/upload HTTP/1.1\" 200 -\n"
     ]
    },
    {
     "name": "stdout",
     "output_type": "stream",
     "text": [
      "Pose detection failed.\n"
     ]
    },
    {
     "name": "stderr",
     "output_type": "stream",
     "text": [
      "127.0.0.1 - - [05/Mar/2024 16:34:54] \"POST /epa/upload HTTP/1.1\" 200 -\n",
      "127.0.0.1 - - [05/Mar/2024 16:34:54] \"POST /epa/upload HTTP/1.1\" 200 -\n"
     ]
    },
    {
     "name": "stdout",
     "output_type": "stream",
     "text": [
      "Pose detection failed.\n",
      "Pose detection failed.\n"
     ]
    },
    {
     "name": "stderr",
     "output_type": "stream",
     "text": [
      "127.0.0.1 - - [05/Mar/2024 16:34:54] \"POST /epa/upload HTTP/1.1\" 200 -\n"
     ]
    },
    {
     "name": "stdout",
     "output_type": "stream",
     "text": [
      "Pose detection failed.\n"
     ]
    },
    {
     "name": "stderr",
     "output_type": "stream",
     "text": [
      "127.0.0.1 - - [05/Mar/2024 16:34:54] \"POST /epa/upload HTTP/1.1\" 200 -\n"
     ]
    },
    {
     "name": "stdout",
     "output_type": "stream",
     "text": [
      "Pose detection failed.\n",
      "1/1 [==============================] - 0s 21ms/step\n"
     ]
    },
    {
     "name": "stderr",
     "output_type": "stream",
     "text": [
      "127.0.0.1 - - [05/Mar/2024 16:34:55] \"POST /epa/upload HTTP/1.1\" 200 -\n"
     ]
    },
    {
     "name": "stdout",
     "output_type": "stream",
     "text": [
      "결과: 스텝 포워드 다이나믹 런지\n",
      "정확도: 99.46%\n",
      "1/1 [==============================] - 0s 23ms/step\n",
      "결과: 스텝 포워드 다이나믹 런지\n",
      "정확도: 99.50%\n",
      "1/1 [==============================] - 0s 23ms/step\n"
     ]
    },
    {
     "name": "stderr",
     "output_type": "stream",
     "text": [
      "127.0.0.1 - - [05/Mar/2024 16:34:55] \"POST /epa/upload HTTP/1.1\" 200 -\n",
      "127.0.0.1 - - [05/Mar/2024 16:34:55] \"POST /epa/upload HTTP/1.1\" 200 -\n"
     ]
    },
    {
     "name": "stdout",
     "output_type": "stream",
     "text": [
      "결과: 스텝 포워드 다이나믹 런지\n",
      "정확도: 99.48%\n",
      "1/1 [==============================] - 0s 21ms/step\n",
      "결과: 스텝 포워드 다이나믹 런지\n",
      "정확도: 99.33%\n",
      "1/1 [==============================] - 0s 23ms/step\n"
     ]
    },
    {
     "name": "stderr",
     "output_type": "stream",
     "text": [
      "127.0.0.1 - - [05/Mar/2024 16:34:55] \"POST /epa/upload HTTP/1.1\" 200 -\n",
      "127.0.0.1 - - [05/Mar/2024 16:34:55] \"POST /epa/upload HTTP/1.1\" 200 -\n"
     ]
    },
    {
     "name": "stdout",
     "output_type": "stream",
     "text": [
      "결과: 스텝 포워드 다이나믹 런지\n",
      "정확도: 99.40%\n",
      "1/1 [==============================] - 0s 21ms/step\n",
      "결과: 스텝 포워드 다이나믹 런지\n",
      "정확도: 99.42%\n",
      "1/1 [==============================] - 0s 22ms/step\n"
     ]
    },
    {
     "name": "stderr",
     "output_type": "stream",
     "text": [
      "127.0.0.1 - - [05/Mar/2024 16:34:55] \"POST /epa/upload HTTP/1.1\" 200 -\n",
      "127.0.0.1 - - [05/Mar/2024 16:34:55] \"POST /epa/upload HTTP/1.1\" 200 -\n"
     ]
    },
    {
     "name": "stdout",
     "output_type": "stream",
     "text": [
      "결과: 스텝 포워드 다이나믹 런지\n",
      "정확도: 99.48%\n",
      "1/1 [==============================] - 0s 21ms/step\n"
     ]
    },
    {
     "name": "stderr",
     "output_type": "stream",
     "text": [
      "127.0.0.1 - - [05/Mar/2024 16:34:55] \"POST /epa/upload HTTP/1.1\" 200 -\n"
     ]
    },
    {
     "name": "stdout",
     "output_type": "stream",
     "text": [
      "결과: 스텝 포워드 다이나믹 런지\n",
      "정확도: 99.43%\n",
      "1/1 [==============================] - 0s 44ms/step\n",
      "결과: 스텝 포워드 다이나믹 런지\n",
      "정확도: 99.43%\n",
      "1/1 [==============================] - ETA: 0s"
     ]
    },
    {
     "name": "stderr",
     "output_type": "stream",
     "text": [
      "127.0.0.1 - - [05/Mar/2024 16:34:56] \"POST /epa/upload HTTP/1.1\" 200 -\n"
     ]
    },
    {
     "name": "stdout",
     "output_type": "stream",
     "text": [
      "1/1 [==============================] - 0s 26ms/step\n"
     ]
    },
    {
     "name": "stderr",
     "output_type": "stream",
     "text": [
      "127.0.0.1 - - [05/Mar/2024 16:34:56] \"POST /epa/upload HTTP/1.1\" 200 -\n"
     ]
    },
    {
     "name": "stdout",
     "output_type": "stream",
     "text": [
      "결과: 스텝 포워드 다이나믹 런지\n",
      "정확도: 99.43%\n",
      "1/1 [==============================] - 0s 25ms/step\n"
     ]
    },
    {
     "name": "stderr",
     "output_type": "stream",
     "text": [
      "127.0.0.1 - - [05/Mar/2024 16:34:56] \"POST /epa/upload HTTP/1.1\" 200 -\n"
     ]
    },
    {
     "name": "stdout",
     "output_type": "stream",
     "text": [
      "결과: 스텝 포워드 다이나믹 런지\n",
      "정확도: 99.75%\n",
      "1/1 [==============================] - 0s 26ms/step\n"
     ]
    },
    {
     "name": "stderr",
     "output_type": "stream",
     "text": [
      "127.0.0.1 - - [05/Mar/2024 16:34:56] \"POST /epa/upload HTTP/1.1\" 200 -\n"
     ]
    },
    {
     "name": "stdout",
     "output_type": "stream",
     "text": [
      "결과: 스텝 포워드 다이나믹 런지\n",
      "정확도: 99.78%\n",
      "1/1 [==============================] - 0s 35ms/step\n",
      "결과: 스텝 포워드 다이나믹 런지\n",
      "정확도: 99.96%\n",
      "1/1 [==============================] - 0s 21ms/step\n"
     ]
    },
    {
     "name": "stderr",
     "output_type": "stream",
     "text": [
      "127.0.0.1 - - [05/Mar/2024 16:34:56] \"POST /epa/upload HTTP/1.1\" 200 -\n",
      "127.0.0.1 - - [05/Mar/2024 16:34:56] \"POST /epa/upload HTTP/1.1\" 200 -\n"
     ]
    },
    {
     "name": "stdout",
     "output_type": "stream",
     "text": [
      "결과: 스텝 포워드 다이나믹 런지\n",
      "정확도: 99.97%\n",
      "1/1 [==============================] - 0s 24ms/step\n",
      "결과: 스텝 포워드 다이나믹 런지\n",
      "정확도: 99.99%\n",
      "1/1 [==============================] - 0s 22ms/step\n"
     ]
    },
    {
     "name": "stderr",
     "output_type": "stream",
     "text": [
      "127.0.0.1 - - [05/Mar/2024 16:34:56] \"POST /epa/upload HTTP/1.1\" 200 -\n",
      "127.0.0.1 - - [05/Mar/2024 16:34:56] \"POST /epa/upload HTTP/1.1\" 200 -\n"
     ]
    },
    {
     "name": "stdout",
     "output_type": "stream",
     "text": [
      "결과: 스텝 포워드 다이나믹 런지\n",
      "정확도: 99.99%\n",
      "1/1 [==============================] - 0s 38ms/step\n",
      "결과: 스텝 포워드 다이나믹 런지\n",
      "정확도: 96.37%\n",
      "1/1 [==============================] - 0s 28ms/step\n"
     ]
    },
    {
     "name": "stderr",
     "output_type": "stream",
     "text": [
      "127.0.0.1 - - [05/Mar/2024 16:34:57] \"POST /epa/upload HTTP/1.1\" 200 -\n",
      "127.0.0.1 - - [05/Mar/2024 16:34:57] \"POST /epa/upload HTTP/1.1\" 200 -\n"
     ]
    },
    {
     "name": "stdout",
     "output_type": "stream",
     "text": [
      "결과: 스탠딩 사이드 크런치\n",
      "정확도: 86.61%\n",
      "1/1 [==============================] - 0s 23ms/step\n",
      "결과: 스탠딩 사이드 크런치\n",
      "정확도: 72.22%\n",
      "1/1 [==============================] - 0s 22ms/step\n"
     ]
    },
    {
     "name": "stderr",
     "output_type": "stream",
     "text": [
      "127.0.0.1 - - [05/Mar/2024 16:34:57] \"POST /epa/upload HTTP/1.1\" 200 -\n",
      "127.0.0.1 - - [05/Mar/2024 16:34:57] \"POST /epa/upload HTTP/1.1\" 200 -\n"
     ]
    },
    {
     "name": "stdout",
     "output_type": "stream",
     "text": [
      "결과: 스탠딩 사이드 크런치\n",
      "정확도: 79.23%\n",
      "1/1 [==============================] - 0s 24ms/step\n",
      "1/1 [==============================] - 0s 22ms/step\n"
     ]
    },
    {
     "name": "stderr",
     "output_type": "stream",
     "text": [
      "127.0.0.1 - - [05/Mar/2024 16:34:57] \"POST /epa/upload HTTP/1.1\" 200 -\n",
      "127.0.0.1 - - [05/Mar/2024 16:34:57] \"POST /epa/upload HTTP/1.1\" 200 -\n"
     ]
    },
    {
     "name": "stdout",
     "output_type": "stream",
     "text": [
      "결과: 스탠딩 사이드 크런치\n",
      "정확도: 80.52%\n",
      "결과: 스탠딩 사이드 크런치\n",
      "정확도: 83.79%\n",
      "1/1 [==============================] - 0s 22ms/step\n",
      "결과: 스탠딩 사이드 크런치\n",
      "정확도: 95.09%\n",
      "1/1 [==============================] - 0s 26ms/step\n"
     ]
    },
    {
     "name": "stderr",
     "output_type": "stream",
     "text": [
      "127.0.0.1 - - [05/Mar/2024 16:34:57] \"POST /epa/upload HTTP/1.1\" 200 -\n",
      "127.0.0.1 - - [05/Mar/2024 16:34:57] \"POST /epa/upload HTTP/1.1\" 200 -\n"
     ]
    },
    {
     "name": "stdout",
     "output_type": "stream",
     "text": [
      "결과: 스탠딩 사이드 크런치\n",
      "정확도: 93.81%\n",
      "1/1 [==============================] - 0s 26ms/step\n",
      "1/1 [==============================] - 0s 28ms/step\n"
     ]
    },
    {
     "name": "stderr",
     "output_type": "stream",
     "text": [
      "127.0.0.1 - - [05/Mar/2024 16:34:58] \"POST /epa/upload HTTP/1.1\" 200 -\n",
      "127.0.0.1 - - [05/Mar/2024 16:34:58] \"POST /epa/upload HTTP/1.1\" 200 -\n"
     ]
    },
    {
     "name": "stdout",
     "output_type": "stream",
     "text": [
      "결과: 스탠딩 사이드 크런치\n",
      "정확도: 97.96%\n",
      "결과: 스탠딩 사이드 크런치\n",
      "정확도: 96.78%\n",
      "1/1 [==============================] - 0s 22ms/step\n",
      "결과: 스탠딩 사이드 크런치\n",
      "정확도: 98.40%\n",
      "1/1 [==============================] - 0s 23ms/step\n"
     ]
    },
    {
     "name": "stderr",
     "output_type": "stream",
     "text": [
      "127.0.0.1 - - [05/Mar/2024 16:34:58] \"POST /epa/upload HTTP/1.1\" 200 -\n",
      "127.0.0.1 - - [05/Mar/2024 16:34:58] \"POST /epa/upload HTTP/1.1\" 200 -\n"
     ]
    },
    {
     "name": "stdout",
     "output_type": "stream",
     "text": [
      "결과: 스탠딩 사이드 크런치\n",
      "정확도: 99.08%\n",
      "1/1 [==============================] - 0s 26ms/step\n",
      "결과: 스탠딩 사이드 크런치\n",
      "정확도: 99.31%\n",
      "1/1 [==============================] - 0s 23ms/step\n"
     ]
    },
    {
     "name": "stderr",
     "output_type": "stream",
     "text": [
      "127.0.0.1 - - [05/Mar/2024 16:34:58] \"POST /epa/upload HTTP/1.1\" 200 -\n",
      "127.0.0.1 - - [05/Mar/2024 16:34:58] \"POST /epa/upload HTTP/1.1\" 200 -\n"
     ]
    },
    {
     "name": "stdout",
     "output_type": "stream",
     "text": [
      "결과: 스탠딩 사이드 크런치\n",
      "정확도: 99.15%\n",
      "1/1 [==============================] - 0s 26ms/step\n",
      "결과: 스탠딩 사이드 크런치\n",
      "정확도: 99.41%\n",
      "1/1 [==============================] - 0s 23ms/step\n"
     ]
    },
    {
     "name": "stderr",
     "output_type": "stream",
     "text": [
      "127.0.0.1 - - [05/Mar/2024 16:34:58] \"POST /epa/upload HTTP/1.1\" 200 -\n",
      "127.0.0.1 - - [05/Mar/2024 16:34:58] \"POST /epa/upload HTTP/1.1\" 200 -\n"
     ]
    },
    {
     "name": "stdout",
     "output_type": "stream",
     "text": [
      "결과: 스탠딩 사이드 크런치\n",
      "정확도: 99.42%\n",
      "1/1 [==============================] - 0s 23ms/step\n",
      "결과: 스탠딩 사이드 크런치\n",
      "정확도: 99.60%\n",
      "1/1 [==============================] - 0s 25ms/step\n"
     ]
    },
    {
     "name": "stderr",
     "output_type": "stream",
     "text": [
      "127.0.0.1 - - [05/Mar/2024 16:34:58] \"POST /epa/upload HTTP/1.1\" 200 -\n",
      "127.0.0.1 - - [05/Mar/2024 16:34:58] \"POST /epa/upload HTTP/1.1\" 200 -\n"
     ]
    },
    {
     "name": "stdout",
     "output_type": "stream",
     "text": [
      "결과: 스탠딩 사이드 크런치\n",
      "정확도: 99.60%\n",
      "1/1 [==============================] - 0s 25ms/step\n",
      "결과: 스탠딩 사이드 크런치\n",
      "정확도: 99.61%\n",
      "1/1 [==============================] - 0s 20ms/step\n"
     ]
    },
    {
     "name": "stderr",
     "output_type": "stream",
     "text": [
      "127.0.0.1 - - [05/Mar/2024 16:34:59] \"POST /epa/upload HTTP/1.1\" 200 -\n",
      "127.0.0.1 - - [05/Mar/2024 16:34:59] \"POST /epa/upload HTTP/1.1\" 200 -\n"
     ]
    },
    {
     "name": "stdout",
     "output_type": "stream",
     "text": [
      "결과: 스탠딩 사이드 크런치\n",
      "정확도: 99.61%\n",
      "1/1 [==============================] - 0s 26ms/step\n",
      "결과: 스탠딩 사이드 크런치\n",
      "정확도: 99.61%\n",
      "1/1 [==============================] - ETA: 0s"
     ]
    },
    {
     "name": "stderr",
     "output_type": "stream",
     "text": [
      "127.0.0.1 - - [05/Mar/2024 16:34:59] \"POST /epa/upload HTTP/1.1\" 200 -\n"
     ]
    },
    {
     "name": "stdout",
     "output_type": "stream",
     "text": [
      "1/1 [==============================] - 0s 26ms/step\n"
     ]
    },
    {
     "name": "stderr",
     "output_type": "stream",
     "text": [
      "127.0.0.1 - - [05/Mar/2024 16:34:59] \"POST /epa/upload HTTP/1.1\" 200 -\n"
     ]
    },
    {
     "name": "stdout",
     "output_type": "stream",
     "text": [
      "결과: 스탠딩 사이드 크런치\n",
      "정확도: 99.70%\n",
      "1/1 [==============================] - 0s 25ms/step\n",
      "결과: 스탠딩 사이드 크런치\n",
      "정확도: 99.66%\n",
      "1/1 [==============================] - 0s 23ms/step\n"
     ]
    },
    {
     "name": "stderr",
     "output_type": "stream",
     "text": [
      "127.0.0.1 - - [05/Mar/2024 16:34:59] \"POST /epa/upload HTTP/1.1\" 200 -\n",
      "127.0.0.1 - - [05/Mar/2024 16:34:59] \"POST /epa/upload HTTP/1.1\" 200 -\n"
     ]
    },
    {
     "name": "stdout",
     "output_type": "stream",
     "text": [
      "결과: 스탠딩 사이드 크런치\n",
      "정확도: 99.65%\n",
      "1/1 [==============================] - 0s 20ms/step\n",
      "결과: 스탠딩 사이드 크런치\n",
      "정확도: 99.70%\n",
      "1/1 [==============================] - 0s 23ms/step\n"
     ]
    },
    {
     "name": "stderr",
     "output_type": "stream",
     "text": [
      "127.0.0.1 - - [05/Mar/2024 16:34:59] \"POST /epa/upload HTTP/1.1\" 200 -\n",
      "127.0.0.1 - - [05/Mar/2024 16:34:59] \"POST /epa/upload HTTP/1.1\" 200 -\n"
     ]
    },
    {
     "name": "stdout",
     "output_type": "stream",
     "text": [
      "결과: 스탠딩 사이드 크런치\n",
      "정확도: 99.53%\n",
      "1/1 [==============================] - 0s 53ms/step\n"
     ]
    },
    {
     "name": "stderr",
     "output_type": "stream",
     "text": [
      "127.0.0.1 - - [05/Mar/2024 16:35:00] \"POST /epa/upload HTTP/1.1\" 200 -\n"
     ]
    },
    {
     "name": "stdout",
     "output_type": "stream",
     "text": [
      "결과: 스탠딩 사이드 크런치\n",
      "정확도: 99.66%\n",
      "1/1 [==============================] - 0s 25ms/step\n"
     ]
    },
    {
     "name": "stderr",
     "output_type": "stream",
     "text": [
      "127.0.0.1 - - [05/Mar/2024 16:35:00] \"POST /epa/upload HTTP/1.1\" 200 -\n"
     ]
    },
    {
     "name": "stdout",
     "output_type": "stream",
     "text": [
      "결과: 스탠딩 사이드 크런치\n",
      "정확도: 99.59%\n",
      "1/1 [==============================] - 0s 28ms/step\n"
     ]
    },
    {
     "name": "stderr",
     "output_type": "stream",
     "text": [
      "127.0.0.1 - - [05/Mar/2024 16:35:00] \"POST /epa/upload HTTP/1.1\" 200 -\n"
     ]
    },
    {
     "name": "stdout",
     "output_type": "stream",
     "text": [
      "결과: 스탠딩 사이드 크런치\n",
      "정확도: 99.25%\n",
      "1/1 [==============================] - 0s 22ms/step\n"
     ]
    },
    {
     "name": "stderr",
     "output_type": "stream",
     "text": [
      "127.0.0.1 - - [05/Mar/2024 16:35:00] \"POST /epa/upload HTTP/1.1\" 200 -\n"
     ]
    },
    {
     "name": "stdout",
     "output_type": "stream",
     "text": [
      "결과: 스탠딩 사이드 크런치\n",
      "정확도: 99.37%\n",
      "1/1 [==============================] - 0s 34ms/step\n",
      "결과: "
     ]
    },
    {
     "name": "stderr",
     "output_type": "stream",
     "text": [
      "127.0.0.1 - - [05/Mar/2024 16:35:00] \"POST /epa/upload HTTP/1.1\" 200 -\n"
     ]
    },
    {
     "name": "stdout",
     "output_type": "stream",
     "text": [
      "스탠딩 사이드 크런치\n",
      "정확도: 99.44%\n",
      "1/1 [==============================] - 0s 27ms/step\n"
     ]
    },
    {
     "name": "stderr",
     "output_type": "stream",
     "text": [
      "127.0.0.1 - - [05/Mar/2024 16:35:00] \"POST /epa/upload HTTP/1.1\" 200 -\n"
     ]
    },
    {
     "name": "stdout",
     "output_type": "stream",
     "text": [
      "결과: 스탠딩 사이드 크런치\n",
      "정확도: 99.69%\n",
      "1/1 [==============================] - 0s 52ms/step\n",
      "결과: 스탠딩 사이드 크런치\n",
      "정확도: 99.80%\n",
      "1/1 [==============================] - 0s 23ms/step\n"
     ]
    },
    {
     "name": "stderr",
     "output_type": "stream",
     "text": [
      "127.0.0.1 - - [05/Mar/2024 16:35:00] \"POST /epa/upload HTTP/1.1\" 200 -\n",
      "127.0.0.1 - - [05/Mar/2024 16:35:00] \"POST /epa/upload HTTP/1.1\" 200 -\n"
     ]
    },
    {
     "name": "stdout",
     "output_type": "stream",
     "text": [
      "결과: 스탠딩 사이드 크런치\n",
      "정확도: 99.75%\n",
      "1/1 [==============================] - 0s 29ms/step\n"
     ]
    },
    {
     "name": "stderr",
     "output_type": "stream",
     "text": [
      "127.0.0.1 - - [05/Mar/2024 16:35:00] \"POST /epa/upload HTTP/1.1\" 200 -\n"
     ]
    },
    {
     "name": "stdout",
     "output_type": "stream",
     "text": [
      "결과: 스탠딩 사이드 크런치\n",
      "정확도: 99.67%\n",
      "1/1 [==============================] - 0s 23ms/step\n"
     ]
    },
    {
     "name": "stderr",
     "output_type": "stream",
     "text": [
      "127.0.0.1 - - [05/Mar/2024 16:35:01] \"POST /epa/upload HTTP/1.1\" 200 -\n"
     ]
    },
    {
     "name": "stdout",
     "output_type": "stream",
     "text": [
      "결과: 스탠딩 사이드 크런치\n",
      "정확도: 99.67%\n",
      "1/1 [==============================] - 0s 20ms/step\n",
      "1/1 [==============================] - 0s 24ms/step\n"
     ]
    },
    {
     "name": "stderr",
     "output_type": "stream",
     "text": [
      "127.0.0.1 - - [05/Mar/2024 16:35:01] \"POST /epa/upload HTTP/1.1\" 200 -\n",
      "127.0.0.1 - - [05/Mar/2024 16:35:01] \"POST /epa/upload HTTP/1.1\" 200 -\n"
     ]
    },
    {
     "name": "stdout",
     "output_type": "stream",
     "text": [
      "결과: 스탠딩 사이드 크런치\n",
      "정확도: 99.17%\n",
      "결과: 스탠딩 사이드 크런치\n",
      "정확도: 99.49%\n",
      "1/1 [==============================] - 0s 34ms/step\n",
      "결과: 스탠딩 사이드 크런치\n",
      "정확도: 99.45%\n",
      "1/1 [==============================] - 0s 23ms/step\n"
     ]
    },
    {
     "name": "stderr",
     "output_type": "stream",
     "text": [
      "127.0.0.1 - - [05/Mar/2024 16:35:01] \"POST /epa/upload HTTP/1.1\" 200 -\n",
      "127.0.0.1 - - [05/Mar/2024 16:35:01] \"POST /epa/upload HTTP/1.1\" 200 -\n"
     ]
    },
    {
     "name": "stdout",
     "output_type": "stream",
     "text": [
      "결과: 스탠딩 사이드 크런치\n",
      "정확도: 99.46%\n",
      "1/1 [==============================] - 0s 28ms/step\n",
      "결과: 스탠딩 사이드 크런치\n",
      "정확도: 99.51%\n"
     ]
    },
    {
     "name": "stderr",
     "output_type": "stream",
     "text": [
      "127.0.0.1 - - [05/Mar/2024 16:35:01] \"POST /epa/upload HTTP/1.1\" 200 -\n"
     ]
    },
    {
     "name": "stdout",
     "output_type": "stream",
     "text": [
      "1/1 [==============================] - 0s 21ms/step\n"
     ]
    },
    {
     "name": "stderr",
     "output_type": "stream",
     "text": [
      "127.0.0.1 - - [05/Mar/2024 16:35:01] \"POST /epa/upload HTTP/1.1\" 200 -\n"
     ]
    },
    {
     "name": "stdout",
     "output_type": "stream",
     "text": [
      "결과: 스탠딩 사이드 크런치\n",
      "정확도: 99.64%\n",
      "1/1 [==============================] - 0s 26ms/step\n",
      "결과: 스탠딩 사이드 크런치\n",
      "정확도: 99.60%\n",
      "1/1 [==============================] - 0s 23ms/step\n"
     ]
    },
    {
     "name": "stderr",
     "output_type": "stream",
     "text": [
      "127.0.0.1 - - [05/Mar/2024 16:35:01] \"POST /epa/upload HTTP/1.1\" 200 -\n",
      "127.0.0.1 - - [05/Mar/2024 16:35:01] \"POST /epa/upload HTTP/1.1\" 200 -\n"
     ]
    },
    {
     "name": "stdout",
     "output_type": "stream",
     "text": [
      "결과: 스탠딩 사이드 크런치\n",
      "정확도: 99.60%\n",
      "1/1 [==============================] - 0s 22ms/step\n",
      "1/1 [==============================] - ETA: 0s결과: 스탠딩 사이드 크런치\n",
      "정확도: 99.61%\n",
      "1/1 [==============================] - 0s 24ms/step\n"
     ]
    },
    {
     "name": "stderr",
     "output_type": "stream",
     "text": [
      "127.0.0.1 - - [05/Mar/2024 16:35:02] \"POST /epa/upload HTTP/1.1\" 200 -\n",
      "127.0.0.1 - - [05/Mar/2024 16:35:02] \"POST /epa/upload HTTP/1.1\" 200 -\n"
     ]
    },
    {
     "name": "stdout",
     "output_type": "stream",
     "text": [
      "결과: 스탠딩 사이드 크런치\n",
      "정확도: 99.40%\n",
      "1/1 [==============================] - 0s 51ms/step\n",
      "결과:"
     ]
    },
    {
     "name": "stderr",
     "output_type": "stream",
     "text": [
      "127.0.0.1 - - [05/Mar/2024 16:35:02] \"POST /epa/upload HTTP/1.1\" 200 -\n"
     ]
    },
    {
     "name": "stdout",
     "output_type": "stream",
     "text": [
      " 스탠딩 사이드 크런치\n",
      "정확도: 99.34%\n",
      "1/1 [==============================] - 0s 26ms/step\n"
     ]
    },
    {
     "name": "stderr",
     "output_type": "stream",
     "text": [
      "127.0.0.1 - - [05/Mar/2024 16:35:02] \"POST /epa/upload HTTP/1.1\" 200 -\n"
     ]
    },
    {
     "name": "stdout",
     "output_type": "stream",
     "text": [
      "결과: 스탠딩 사이드 크런치\n",
      "정확도: 99.65%\n",
      "1/1 [==============================] - 0s 26ms/step\n",
      "결과: 스탠딩 사이드 크런치\n",
      "정확도: 99.71%\n",
      "1/1 [==============================] - 0s 21ms/step\n"
     ]
    },
    {
     "name": "stderr",
     "output_type": "stream",
     "text": [
      "127.0.0.1 - - [05/Mar/2024 16:35:02] \"POST /epa/upload HTTP/1.1\" 200 -\n",
      "127.0.0.1 - - [05/Mar/2024 16:35:02] \"POST /epa/upload HTTP/1.1\" 200 -\n"
     ]
    },
    {
     "name": "stdout",
     "output_type": "stream",
     "text": [
      "결과: 스탠딩 사이드 크런치\n",
      "정확도: 99.53%\n",
      "1/1 [==============================] - 0s 22ms/step\n",
      "결과: 스탠딩 사이드 크런치\n",
      "정확도: 99.73%\n",
      "1/1 [==============================] - 0s 30ms/step\n"
     ]
    },
    {
     "name": "stderr",
     "output_type": "stream",
     "text": [
      "127.0.0.1 - - [05/Mar/2024 16:35:02] \"POST /epa/upload HTTP/1.1\" 200 -\n",
      "127.0.0.1 - - [05/Mar/2024 16:35:02] \"POST /epa/upload HTTP/1.1\" 200 -\n"
     ]
    },
    {
     "name": "stdout",
     "output_type": "stream",
     "text": [
      "결과: 스탠딩 사이드 크런치\n",
      "정확도: 99.70%\n",
      "1/1 [==============================] - 0s 52ms/step\n",
      "결과: 스탠딩 사이드 크런치\n",
      "정확도: 99.81%\n"
     ]
    },
    {
     "name": "stderr",
     "output_type": "stream",
     "text": [
      "127.0.0.1 - - [05/Mar/2024 16:35:02] \"POST /epa/upload HTTP/1.1\" 200 -\n"
     ]
    },
    {
     "name": "stdout",
     "output_type": "stream",
     "text": [
      "1/1 [==============================] - 0s 25ms/step\n"
     ]
    },
    {
     "name": "stderr",
     "output_type": "stream",
     "text": [
      "127.0.0.1 - - [05/Mar/2024 16:35:03] \"POST /epa/upload HTTP/1.1\" 200 -\n"
     ]
    },
    {
     "name": "stdout",
     "output_type": "stream",
     "text": [
      "결과: 스탠딩 사이드 크런치\n",
      "정확도: 99.82%\n",
      "1/1 [==============================] - 0s 22ms/step\n",
      "결과: 스탠딩 사이드 크런치\n",
      "정확도: 99.69%\n",
      "1/1 [==============================] - 0s 24ms/step\n"
     ]
    },
    {
     "name": "stderr",
     "output_type": "stream",
     "text": [
      "127.0.0.1 - - [05/Mar/2024 16:35:03] \"POST /epa/upload HTTP/1.1\" 200 -\n",
      "127.0.0.1 - - [05/Mar/2024 16:35:03] \"POST /epa/upload HTTP/1.1\" 200 -\n"
     ]
    },
    {
     "name": "stdout",
     "output_type": "stream",
     "text": [
      "결과: 스탠딩 사이드 크런치\n",
      "정확도: 99.80%\n",
      "1/1 [==============================] - 0s 23ms/step\n",
      "1/1 [==============================] - 0s 23ms/step\n"
     ]
    },
    {
     "name": "stderr",
     "output_type": "stream",
     "text": [
      "127.0.0.1 - - [05/Mar/2024 16:35:03] \"POST /epa/upload HTTP/1.1\" 200 -\n",
      "127.0.0.1 - - [05/Mar/2024 16:35:03] \"POST /epa/upload HTTP/1.1\" 200 -\n"
     ]
    },
    {
     "name": "stdout",
     "output_type": "stream",
     "text": [
      "결과: 스탠딩 사이드 크런치\n",
      "정확도: 99.80%\n",
      "결과: 스탠딩 사이드 크런치\n",
      "정확도: 99.80%\n",
      "1/1 [==============================] - 0s 47ms/step\n",
      "결과: "
     ]
    },
    {
     "name": "stderr",
     "output_type": "stream",
     "text": [
      "127.0.0.1 - - [05/Mar/2024 16:35:03] \"POST /epa/upload HTTP/1.1\" 200 -\n"
     ]
    },
    {
     "name": "stdout",
     "output_type": "stream",
     "text": [
      "스탠딩 사이드 크런치\n",
      "정확도: 99.77%\n",
      "1/1 [==============================] - 0s 24ms/step\n"
     ]
    },
    {
     "name": "stderr",
     "output_type": "stream",
     "text": [
      "127.0.0.1 - - [05/Mar/2024 16:35:03] \"POST /epa/upload HTTP/1.1\" 200 -\n"
     ]
    },
    {
     "name": "stdout",
     "output_type": "stream",
     "text": [
      "결과: 스탠딩 사이드 크런치\n",
      "정확도: 99.77%\n",
      "1/1 [==============================] - 0s 42ms/step\n",
      "1/1 [==============================] - ETA: 0s 스탠딩 사이드 크런치\n",
      "정확도: 99.75%\n",
      "1/1 [==============================] - 0s 51ms/step\n"
     ]
    },
    {
     "name": "stderr",
     "output_type": "stream",
     "text": [
      "127.0.0.1 - - [05/Mar/2024 16:35:03] \"POST /epa/upload HTTP/1.1\" 200 -\n",
      "127.0.0.1 - - [05/Mar/2024 16:35:03] \"POST /epa/upload HTTP/1.1\" 200 -\n"
     ]
    },
    {
     "name": "stdout",
     "output_type": "stream",
     "text": [
      "결과: 스탠딩 사이드 크런치\n",
      "정확도: 99.79%\n",
      "1/1 [==============================] - 0s 22ms/step\n",
      "결과: 스탠딩 사이드 크런치\n",
      "정확도: 99.79%\n",
      "1/1 [==============================] - 0s 23ms/step\n"
     ]
    },
    {
     "name": "stderr",
     "output_type": "stream",
     "text": [
      "127.0.0.1 - - [05/Mar/2024 16:35:04] \"POST /epa/upload HTTP/1.1\" 200 -\n"
     ]
    },
    {
     "name": "stdout",
     "output_type": "stream",
     "text": [
      "결과: 스탠딩 사이드 크런치\n",
      "정확도: 99.67%\n"
     ]
    },
    {
     "name": "stderr",
     "output_type": "stream",
     "text": [
      "127.0.0.1 - - [05/Mar/2024 16:35:04] \"POST /epa/upload HTTP/1.1\" 200 -\n"
     ]
    },
    {
     "name": "stdout",
     "output_type": "stream",
     "text": [
      "1/1 [==============================] - 0s 29ms/step\n",
      "결과: 스탠딩 사이드 크런치\n",
      "정확도: 99.70%\n",
      "1/1 [==============================] - 0s 32ms/step\n"
     ]
    },
    {
     "name": "stderr",
     "output_type": "stream",
     "text": [
      "127.0.0.1 - - [05/Mar/2024 16:35:04] \"POST /epa/upload HTTP/1.1\" 200 -\n",
      "127.0.0.1 - - [05/Mar/2024 16:35:04] \"POST /epa/upload HTTP/1.1\" 200 -\n"
     ]
    },
    {
     "name": "stdout",
     "output_type": "stream",
     "text": [
      "결과: 스탠딩 사이드 크런치\n",
      "정확도: 99.50%\n",
      "1/1 [==============================] - 0s 25ms/step\n",
      "1/1 [==============================] - 0s 24ms/step\n"
     ]
    },
    {
     "name": "stderr",
     "output_type": "stream",
     "text": [
      "127.0.0.1 - - [05/Mar/2024 16:35:04] \"POST /epa/upload HTTP/1.1\" 200 -\n",
      "127.0.0.1 - - [05/Mar/2024 16:35:04] \"POST /epa/upload HTTP/1.1\" 200 -\n"
     ]
    },
    {
     "name": "stdout",
     "output_type": "stream",
     "text": [
      "결과: 스탠딩 사이드 크런치\n",
      "정확도: 99.48%\n",
      "결과: 스탠딩 사이드 크런치\n",
      "정확도: 99.54%\n",
      "1/1 [==============================] - 0s 25ms/step\n",
      "결과: 스탠딩 사이드 크런치\n",
      "정확도: 98.84%\n",
      "1/1 [==============================] - 0s 24ms/step\n",
      "결과: 스탠딩 사이드 크런치\n",
      "정확도: 99.31%\n"
     ]
    },
    {
     "name": "stderr",
     "output_type": "stream",
     "text": [
      "127.0.0.1 - - [05/Mar/2024 16:35:04] \"POST /epa/upload HTTP/1.1\" 200 -\n",
      "127.0.0.1 - - [05/Mar/2024 16:35:04] \"POST /epa/upload HTTP/1.1\" 200 -\n"
     ]
    },
    {
     "name": "stdout",
     "output_type": "stream",
     "text": [
      "1/1 [==============================] - 0s 34ms/step\n",
      "결과: 스탠딩 사이드 크런치\n",
      "정확도: 99.57%\n",
      "1/1 [==============================] - 0s 45ms/step\n"
     ]
    },
    {
     "name": "stderr",
     "output_type": "stream",
     "text": [
      "127.0.0.1 - - [05/Mar/2024 16:35:05] \"POST /epa/upload HTTP/1.1\" 200 -\n",
      "127.0.0.1 - - [05/Mar/2024 16:35:05] \"POST /epa/upload HTTP/1.1\" 200 -\n"
     ]
    },
    {
     "name": "stdout",
     "output_type": "stream",
     "text": [
      "결과: 스탠딩 사이드 크런치\n",
      "정확도: 99.53%\n",
      "1/1 [==============================] - 0s 26ms/step\n",
      "1/1 [==============================] - 0s 24ms/step\n"
     ]
    },
    {
     "name": "stderr",
     "output_type": "stream",
     "text": [
      "127.0.0.1 - - [05/Mar/2024 16:35:05] \"POST /epa/upload HTTP/1.1\" 200 -\n",
      "127.0.0.1 - - [05/Mar/2024 16:35:05] \"POST /epa/upload HTTP/1.1\" 200 -\n"
     ]
    },
    {
     "name": "stdout",
     "output_type": "stream",
     "text": [
      "결과: 스탠딩 사이드 크런치\n",
      "정확도: 99.34%\n",
      "결과: 스탠딩 사이드 크런치\n",
      "정확도: 99.34%\n",
      "1/1 [==============================] - 0s 23ms/step\n",
      "1/1 [==============================] - 0s 22ms/step\n",
      "결과: 스탠딩 사이드 크런치\n",
      "정확도: 99.69%\n",
      "결과: 스탠딩 사이드 크런치\n",
      "정확도: 99.70%\n"
     ]
    },
    {
     "name": "stderr",
     "output_type": "stream",
     "text": [
      "127.0.0.1 - - [05/Mar/2024 16:35:05] \"POST /epa/upload HTTP/1.1\" 200 -\n",
      "127.0.0.1 - - [05/Mar/2024 16:35:05] \"POST /epa/upload HTTP/1.1\" 200 -\n"
     ]
    },
    {
     "name": "stdout",
     "output_type": "stream",
     "text": [
      "1/1 [==============================] - 0s 24ms/step\n",
      "1/1 [==============================] - 0s 40ms/step\n"
     ]
    },
    {
     "name": "stderr",
     "output_type": "stream",
     "text": [
      "127.0.0.1 - - [05/Mar/2024 16:35:05] \"POST /epa/upload HTTP/1.1\" 200 -\n",
      "127.0.0.1 - - [05/Mar/2024 16:35:05] \"POST /epa/upload HTTP/1.1\" 200 -\n"
     ]
    },
    {
     "name": "stdout",
     "output_type": "stream",
     "text": [
      "결과: 스탠딩 사이드 크런치\n",
      "정확도: 99.76%\n",
      "결과: 스탠딩 사이드 크런치\n",
      "정확도: 99.54%\n",
      "1/1 [==============================] - 0s 22ms/step\n",
      "결과: 스탠딩 사이드 크런치\n",
      "정확도: 99.72%\n",
      "1/1 [==============================] - 0s 26ms/step\n"
     ]
    },
    {
     "name": "stderr",
     "output_type": "stream",
     "text": [
      "127.0.0.1 - - [05/Mar/2024 16:35:06] \"POST /epa/upload HTTP/1.1\" 200 -\n",
      "127.0.0.1 - - [05/Mar/2024 16:35:06] \"POST /epa/upload HTTP/1.1\" 200 -\n"
     ]
    },
    {
     "name": "stdout",
     "output_type": "stream",
     "text": [
      "결과: 스탠딩 사이드 크런치\n",
      "정확도: 99.66%\n",
      "1/1 [==============================] - 0s 23ms/step\n",
      "결과: 스탠딩 사이드 크런치\n",
      "정확도: 99.68%\n",
      "1/1 [==============================] - 0s 22ms/step\n",
      "결과: 스탠딩 사이드 크런치\n",
      "정확도: 99.67%\n"
     ]
    },
    {
     "name": "stderr",
     "output_type": "stream",
     "text": [
      "127.0.0.1 - - [05/Mar/2024 16:35:06] \"POST /epa/upload HTTP/1.1\" 200 -\n",
      "127.0.0.1 - - [05/Mar/2024 16:35:06] \"POST /epa/upload HTTP/1.1\" 200 -\n"
     ]
    },
    {
     "name": "stdout",
     "output_type": "stream",
     "text": [
      "1/1 [==============================] - 0s 70ms/step\n",
      "결과: 스탠딩 사이드 크런치\n",
      "정확도: 99.47%\n",
      "1/1 [==============================] - 0s 37ms/step\n"
     ]
    },
    {
     "name": "stderr",
     "output_type": "stream",
     "text": [
      "127.0.0.1 - - [05/Mar/2024 16:35:06] \"POST /epa/upload HTTP/1.1\" 200 -\n",
      "127.0.0.1 - - [05/Mar/2024 16:35:06] \"POST /epa/upload HTTP/1.1\" 200 -\n"
     ]
    },
    {
     "name": "stdout",
     "output_type": "stream",
     "text": [
      "결과: 스탠딩 사이드 크런치\n",
      "정확도: 99.52%\n",
      "1/1 [==============================] - 0s 38ms/step\n",
      "결과: 스탠딩 사이드 크런치\n",
      "정확도: 99.38%\n",
      "1/1 [==============================] - ETA: 0s"
     ]
    },
    {
     "name": "stderr",
     "output_type": "stream",
     "text": [
      "127.0.0.1 - - [05/Mar/2024 16:35:06] \"POST /epa/upload HTTP/1.1\" 200 -\n"
     ]
    },
    {
     "name": "stdout",
     "output_type": "stream",
     "text": [
      "1/1 [==============================] - 0s 28ms/step\n"
     ]
    },
    {
     "name": "stderr",
     "output_type": "stream",
     "text": [
      "127.0.0.1 - - [05/Mar/2024 16:35:06] \"POST /epa/upload HTTP/1.1\" 200 -\n"
     ]
    },
    {
     "name": "stdout",
     "output_type": "stream",
     "text": [
      "결과: 스탠딩 사이드 크런치\n",
      "정확도: 99.38%\n",
      "1/1 [==============================] - 0s 33ms/step\n",
      "결과: 스탠딩 사이드 크런치\n",
      "정확도: 99.40%\n",
      "1/1 [==============================] - 0s 27ms/step\n"
     ]
    },
    {
     "name": "stderr",
     "output_type": "stream",
     "text": [
      "127.0.0.1 - - [05/Mar/2024 16:35:06] \"POST /epa/upload HTTP/1.1\" 200 -\n"
     ]
    },
    {
     "name": "stdout",
     "output_type": "stream",
     "text": [
      "결과: 스탠딩 사이드 크런치\n",
      "정확도: 99.24%\n"
     ]
    },
    {
     "name": "stderr",
     "output_type": "stream",
     "text": [
      "127.0.0.1 - - [05/Mar/2024 16:35:06] \"POST /epa/upload HTTP/1.1\" 200 -\n"
     ]
    },
    {
     "name": "stdout",
     "output_type": "stream",
     "text": [
      "1/1 [==============================] - 0s 25ms/step\n",
      "결과: 스탠딩 사이드 크런치\n",
      "정확도: 98.80%\n",
      "1/1 [==============================] - 0s 24ms/step\n"
     ]
    },
    {
     "name": "stderr",
     "output_type": "stream",
     "text": [
      "127.0.0.1 - - [05/Mar/2024 16:35:07] \"POST /epa/upload HTTP/1.1\" 200 -\n",
      "127.0.0.1 - - [05/Mar/2024 16:35:07] \"POST /epa/upload HTTP/1.1\" 200 -\n"
     ]
    },
    {
     "name": "stdout",
     "output_type": "stream",
     "text": [
      "결과: 스탠딩 사이드 크런치\n",
      "정확도: 99.23%\n",
      "1/1 [==============================] - 0s 22ms/step\n"
     ]
    },
    {
     "name": "stderr",
     "output_type": "stream",
     "text": [
      "127.0.0.1 - - [05/Mar/2024 16:35:07] \"POST /epa/upload HTTP/1.1\" 200 -\n"
     ]
    },
    {
     "name": "stdout",
     "output_type": "stream",
     "text": [
      "결과: 스탠딩 사이드 크런치\n",
      "정확도: 98.84%\n",
      "1/1 [==============================] - 0s 23ms/step\n"
     ]
    },
    {
     "name": "stderr",
     "output_type": "stream",
     "text": [
      "127.0.0.1 - - [05/Mar/2024 16:35:07] \"POST /epa/upload HTTP/1.1\" 200 -\n"
     ]
    },
    {
     "name": "stdout",
     "output_type": "stream",
     "text": [
      "결과: 스탠딩 사이드 크런치\n",
      "정확도: 98.56%\n",
      "1/1 [==============================] - 0s 55ms/step\n"
     ]
    },
    {
     "name": "stderr",
     "output_type": "stream",
     "text": [
      "127.0.0.1 - - [05/Mar/2024 16:35:07] \"POST /epa/upload HTTP/1.1\" 200 -\n"
     ]
    },
    {
     "name": "stdout",
     "output_type": "stream",
     "text": [
      "결과: 스탠딩 사이드 크런치\n",
      "정확도: 99.21%\n",
      "1/1 [==============================] - 0s 25ms/step\n"
     ]
    },
    {
     "name": "stderr",
     "output_type": "stream",
     "text": [
      "127.0.0.1 - - [05/Mar/2024 16:35:07] \"POST /epa/upload HTTP/1.1\" 200 -\n"
     ]
    },
    {
     "name": "stdout",
     "output_type": "stream",
     "text": [
      "결과: 스탠딩 사이드 크런치\n",
      "정확도: 99.14%\n",
      "1/1 [==============================] - 0s 54ms/step\n"
     ]
    },
    {
     "name": "stderr",
     "output_type": "stream",
     "text": [
      "127.0.0.1 - - [05/Mar/2024 16:35:07] \"POST /epa/upload HTTP/1.1\" 200 -\n"
     ]
    },
    {
     "name": "stdout",
     "output_type": "stream",
     "text": [
      "결과: 스탠딩 사이드 크런치\n",
      "정확도: 99.68%\n",
      "1/1 [==============================] - 0s 23ms/step\n"
     ]
    },
    {
     "name": "stderr",
     "output_type": "stream",
     "text": [
      "127.0.0.1 - - [05/Mar/2024 16:35:07] \"POST /epa/upload HTTP/1.1\" 200 -\n"
     ]
    },
    {
     "name": "stdout",
     "output_type": "stream",
     "text": [
      "결과: 스탠딩 사이드 크런치\n",
      "정확도: 99.73%\n",
      "1/1 [==============================] - 0s 26ms/step\n",
      "결과: 스탠딩 사이드 크런치\n",
      "정확도: 99.93%\n"
     ]
    },
    {
     "name": "stderr",
     "output_type": "stream",
     "text": [
      "127.0.0.1 - - [05/Mar/2024 16:35:08] \"POST /epa/upload HTTP/1.1\" 200 -\n"
     ]
    },
    {
     "name": "stdout",
     "output_type": "stream",
     "text": [
      "1/1 [==============================] - 0s 28ms/step\n",
      "결과: 스탠딩 사이드 크런치\n",
      "정확도: 99.92%\n"
     ]
    },
    {
     "name": "stderr",
     "output_type": "stream",
     "text": [
      "127.0.0.1 - - [05/Mar/2024 16:35:08] \"POST /epa/upload HTTP/1.1\" 200 -\n"
     ]
    },
    {
     "name": "stdout",
     "output_type": "stream",
     "text": [
      "1/1 [==============================] - 0s 40ms/step\n",
      "결과: 스탠딩 사이드 크런치\n",
      "정확도: 99.89%\n"
     ]
    },
    {
     "name": "stderr",
     "output_type": "stream",
     "text": [
      "127.0.0.1 - - [05/Mar/2024 16:35:08] \"POST /epa/upload HTTP/1.1\" 200 -\n"
     ]
    },
    {
     "name": "stdout",
     "output_type": "stream",
     "text": [
      "1/1 [==============================] - 0s 22ms/step\n"
     ]
    },
    {
     "name": "stderr",
     "output_type": "stream",
     "text": [
      "127.0.0.1 - - [05/Mar/2024 16:35:08] \"POST /epa/upload HTTP/1.1\" 200 -\n"
     ]
    },
    {
     "name": "stdout",
     "output_type": "stream",
     "text": [
      "결과: 스탠딩 사이드 크런치\n",
      "정확도: 99.89%\n",
      "1/1 [==============================] - 0s 23ms/step\n"
     ]
    },
    {
     "name": "stderr",
     "output_type": "stream",
     "text": [
      "127.0.0.1 - - [05/Mar/2024 16:35:08] \"POST /epa/upload HTTP/1.1\" 200 -\n"
     ]
    },
    {
     "name": "stdout",
     "output_type": "stream",
     "text": [
      "결과: 스탠딩 사이드 크런치\n",
      "정확도: 99.95%\n",
      "1/1 [==============================] - 0s 25ms/step\n"
     ]
    },
    {
     "name": "stderr",
     "output_type": "stream",
     "text": [
      "127.0.0.1 - - [05/Mar/2024 16:35:08] \"POST /epa/upload HTTP/1.1\" 200 -\n"
     ]
    },
    {
     "name": "stdout",
     "output_type": "stream",
     "text": [
      "결과: 스탠딩 사이드 크런치\n",
      "정확도: 99.95%\n",
      "1/1 [==============================] - 0s 36ms/step\n"
     ]
    },
    {
     "name": "stderr",
     "output_type": "stream",
     "text": [
      "127.0.0.1 - - [05/Mar/2024 16:35:08] \"POST /epa/upload HTTP/1.1\" 200 -\n"
     ]
    },
    {
     "name": "stdout",
     "output_type": "stream",
     "text": [
      "결과: 스탠딩 사이드 크런치\n",
      "정확도: 99.89%\n",
      "1/1 [==============================] - 0s 25ms/step\n",
      "결과: 스탠딩 사이드 크런치\n",
      "정확도: 99.88%\n"
     ]
    },
    {
     "name": "stderr",
     "output_type": "stream",
     "text": [
      "127.0.0.1 - - [05/Mar/2024 16:35:08] \"POST /epa/upload HTTP/1.1\" 200 -\n"
     ]
    },
    {
     "name": "stdout",
     "output_type": "stream",
     "text": [
      "1/1 [==============================] - 0s 25ms/step\n"
     ]
    },
    {
     "name": "stderr",
     "output_type": "stream",
     "text": [
      "127.0.0.1 - - [05/Mar/2024 16:35:08] \"POST /epa/upload HTTP/1.1\" 200 -\n"
     ]
    },
    {
     "name": "stdout",
     "output_type": "stream",
     "text": [
      "결과: 스탠딩 사이드 크런치\n",
      "정확도: 99.94%\n",
      "1/1 [==============================] - 0s 27ms/step\n"
     ]
    },
    {
     "name": "stderr",
     "output_type": "stream",
     "text": [
      "127.0.0.1 - - [05/Mar/2024 16:35:08] \"POST /epa/upload HTTP/1.1\" 200 -\n"
     ]
    },
    {
     "name": "stdout",
     "output_type": "stream",
     "text": [
      "결과: 스탠딩 사이드 크런치\n",
      "정확도: 99.89%\n",
      "1/1 [==============================] - 0s 23ms/step\n",
      "결과:"
     ]
    },
    {
     "name": "stderr",
     "output_type": "stream",
     "text": [
      "127.0.0.1 - - [05/Mar/2024 16:35:09] \"POST /epa/upload HTTP/1.1\" 200 -\n"
     ]
    },
    {
     "name": "stdout",
     "output_type": "stream",
     "text": [
      " 스탠딩 사이드 크런치\n",
      "정확도: 99.99%\n",
      "1/1 [==============================] - 0s 22ms/step\n"
     ]
    },
    {
     "name": "stderr",
     "output_type": "stream",
     "text": [
      "127.0.0.1 - - [05/Mar/2024 16:35:09] \"POST /epa/upload HTTP/1.1\" 200 -\n"
     ]
    },
    {
     "name": "stdout",
     "output_type": "stream",
     "text": [
      "결과: 스탠딩 사이드 크런치\n",
      "정확도: 99.99%\n",
      "1/1 [==============================] - 0s 23ms/step\n",
      "결과: 스탠딩 사이드 크런치\n",
      "정확도: 99.98%\n",
      "1/1 [==============================] - 0s 23ms/step\n"
     ]
    },
    {
     "name": "stderr",
     "output_type": "stream",
     "text": [
      "127.0.0.1 - - [05/Mar/2024 16:35:09] \"POST /epa/upload HTTP/1.1\" 200 -\n"
     ]
    },
    {
     "name": "stdout",
     "output_type": "stream",
     "text": [
      "결과: 스탠딩 사이드 크런치\n",
      "정확도: 99.98%\n"
     ]
    },
    {
     "name": "stderr",
     "output_type": "stream",
     "text": [
      "127.0.0.1 - - [05/Mar/2024 16:35:09] \"POST /epa/upload HTTP/1.1\" 200 -\n"
     ]
    },
    {
     "name": "stdout",
     "output_type": "stream",
     "text": [
      "1/1 [==============================] - 0s 42ms/step\n"
     ]
    },
    {
     "name": "stderr",
     "output_type": "stream",
     "text": [
      "127.0.0.1 - - [05/Mar/2024 16:35:09] \"POST /epa/upload HTTP/1.1\" 200 -\n"
     ]
    },
    {
     "name": "stdout",
     "output_type": "stream",
     "text": [
      "결과: 스탠딩 사이드 크런치\n",
      "정확도: 99.96%\n",
      "1/1 [==============================] - 0s 33ms/step\n"
     ]
    },
    {
     "name": "stderr",
     "output_type": "stream",
     "text": [
      "127.0.0.1 - - [05/Mar/2024 16:35:09] \"POST /epa/upload HTTP/1.1\" 200 -\n"
     ]
    },
    {
     "name": "stdout",
     "output_type": "stream",
     "text": [
      "결과: 스탠딩 사이드 크런치\n",
      "정확도: 99.93%\n",
      "1/1 [==============================] - 0s 29ms/step\n"
     ]
    },
    {
     "name": "stderr",
     "output_type": "stream",
     "text": [
      "127.0.0.1 - - [05/Mar/2024 16:35:09] \"POST /epa/upload HTTP/1.1\" 200 -\n"
     ]
    },
    {
     "name": "stdout",
     "output_type": "stream",
     "text": [
      "결과: 스탠딩 사이드 크런치\n",
      "정확도: 99.70%\n",
      "1/1 [==============================] - 0s 24ms/step\n"
     ]
    },
    {
     "name": "stderr",
     "output_type": "stream",
     "text": [
      "127.0.0.1 - - [05/Mar/2024 16:35:09] \"POST /epa/upload HTTP/1.1\" 200 -\n"
     ]
    },
    {
     "name": "stdout",
     "output_type": "stream",
     "text": [
      "결과: 스탠딩 사이드 크런치\n",
      "정확도: 99.57%\n",
      "1/1 [==============================] - 0s 27ms/step\n",
      "결과: 스탠딩 사이드 크런치\n",
      "정확도: 99.64%\n",
      "1/1 [==============================] - 0s 23ms/step\n"
     ]
    },
    {
     "name": "stderr",
     "output_type": "stream",
     "text": [
      "127.0.0.1 - - [05/Mar/2024 16:35:10] \"POST /epa/upload HTTP/1.1\" 200 -\n",
      "127.0.0.1 - - [05/Mar/2024 16:35:10] \"POST /epa/upload HTTP/1.1\" 200 -\n"
     ]
    },
    {
     "name": "stdout",
     "output_type": "stream",
     "text": [
      "결과: 스탠딩 사이드 크런치\n",
      "정확도: 99.79%\n",
      "1/1 [==============================] - 0s 41ms/step\n"
     ]
    },
    {
     "name": "stderr",
     "output_type": "stream",
     "text": [
      "127.0.0.1 - - [05/Mar/2024 16:35:10] \"POST /epa/upload HTTP/1.1\" 200 -\n"
     ]
    },
    {
     "name": "stdout",
     "output_type": "stream",
     "text": [
      "결과: 스탠딩 사이드 크런치\n",
      "정확도: 99.63%\n",
      "1/1 [==============================] - 0s 25ms/step\n"
     ]
    },
    {
     "name": "stderr",
     "output_type": "stream",
     "text": [
      "127.0.0.1 - - [05/Mar/2024 16:35:10] \"POST /epa/upload HTTP/1.1\" 200 -\n"
     ]
    },
    {
     "name": "stdout",
     "output_type": "stream",
     "text": [
      "결과: 스탠딩 사이드 크런치\n",
      "정확도: 99.79%\n",
      "1/1 [==============================] - 0s 23ms/step\n",
      "1/1 [==============================] - 0s 41ms/step\n"
     ]
    },
    {
     "name": "stderr",
     "output_type": "stream",
     "text": [
      "127.0.0.1 - - [05/Mar/2024 16:35:10] \"POST /epa/upload HTTP/1.1\" 200 -\n",
      "127.0.0.1 - - [05/Mar/2024 16:35:10] \"POST /epa/upload HTTP/1.1\" 200 -\n"
     ]
    },
    {
     "name": "stdout",
     "output_type": "stream",
     "text": [
      "결과: 스탠딩 사이드 크런치\n",
      "정확도: 99.81%\n",
      "결과: 스탠딩 사이드 크런치\n",
      "정확도: 99.72%\n",
      "1/1 [==============================] - 0s 22ms/step\n",
      "결과: 스탠딩 사이드 크런치\n",
      "정확도: 99.89%\n",
      "1/1 [==============================] - 0s 23ms/step\n"
     ]
    },
    {
     "name": "stderr",
     "output_type": "stream",
     "text": [
      "127.0.0.1 - - [05/Mar/2024 16:35:10] \"POST /epa/upload HTTP/1.1\" 200 -\n",
      "127.0.0.1 - - [05/Mar/2024 16:35:10] \"POST /epa/upload HTTP/1.1\" 200 -\n"
     ]
    },
    {
     "name": "stdout",
     "output_type": "stream",
     "text": [
      "결과: 스탠딩 사이드 크런치\n",
      "정확도: 99.95%\n",
      "1/1 [==============================] - 0s 20ms/step\n",
      "결과: 스탠딩 사이드 크런치\n",
      "정확도: 99.95%\n",
      "1/1 [==============================] - 0s 22ms/step\n"
     ]
    },
    {
     "name": "stderr",
     "output_type": "stream",
     "text": [
      "127.0.0.1 - - [05/Mar/2024 16:35:10] \"POST /epa/upload HTTP/1.1\" 200 -\n",
      "127.0.0.1 - - [05/Mar/2024 16:35:11] \"POST /epa/upload HTTP/1.1\" 200 -\n"
     ]
    },
    {
     "name": "stdout",
     "output_type": "stream",
     "text": [
      "결과: 스탠딩 사이드 크런치\n",
      "정확도: 99.92%\n",
      "1/1 [==============================] - 0s 24ms/step\n",
      "결과: 스탠딩 사이드 크런치\n",
      "정확도: 99.94%\n",
      "1/1 [==============================] - 0s 21ms/step\n"
     ]
    },
    {
     "name": "stderr",
     "output_type": "stream",
     "text": [
      "127.0.0.1 - - [05/Mar/2024 16:35:11] \"POST /epa/upload HTTP/1.1\" 200 -\n",
      "127.0.0.1 - - [05/Mar/2024 16:35:11] \"POST /epa/upload HTTP/1.1\" 200 -\n"
     ]
    },
    {
     "name": "stdout",
     "output_type": "stream",
     "text": [
      "결과: 스탠딩 사이드 크런치\n",
      "정확도: 99.97%\n",
      "1/1 [==============================] - 0s 25ms/step\n",
      "결과: 스탠딩 사이드 크런치\n",
      "정확도: 100.00%\n",
      "1/1 [==============================] - 0s 23ms/step\n"
     ]
    },
    {
     "name": "stderr",
     "output_type": "stream",
     "text": [
      "127.0.0.1 - - [05/Mar/2024 16:35:11] \"POST /epa/upload HTTP/1.1\" 200 -\n",
      "127.0.0.1 - - [05/Mar/2024 16:35:11] \"POST /epa/upload HTTP/1.1\" 200 -\n"
     ]
    },
    {
     "name": "stdout",
     "output_type": "stream",
     "text": [
      "결과: 스탠딩 사이드 크런치\n",
      "정확도: 100.00%\n",
      "1/1 [==============================] - 0s 21ms/step\n",
      "결과: 스탠딩 사이드 크런치\n",
      "정확도: 100.00%\n",
      "1/1 [==============================] - 0s 23ms/step\n"
     ]
    },
    {
     "name": "stderr",
     "output_type": "stream",
     "text": [
      "127.0.0.1 - - [05/Mar/2024 16:35:11] \"POST /epa/upload HTTP/1.1\" 200 -\n",
      "127.0.0.1 - - [05/Mar/2024 16:35:11] \"POST /epa/upload HTTP/1.1\" 200 -\n"
     ]
    },
    {
     "name": "stdout",
     "output_type": "stream",
     "text": [
      "결과: 스탠딩 사이드 크런치\n",
      "정확도: 100.00%\n",
      "1/1 [==============================] - 0s 28ms/step\n",
      "1/1 [==============================] - 0s 22ms/step\n"
     ]
    },
    {
     "name": "stderr",
     "output_type": "stream",
     "text": [
      "127.0.0.1 - - [05/Mar/2024 16:35:11] \"POST /epa/upload HTTP/1.1\" 200 -\n",
      "127.0.0.1 - - [05/Mar/2024 16:35:11] \"POST /epa/upload HTTP/1.1\" 200 -\n"
     ]
    },
    {
     "name": "stdout",
     "output_type": "stream",
     "text": [
      "결과: 스탠딩 사이드 크런치\n",
      "정확도: 100.00%\n",
      "결과: 스탠딩 사이드 크런치\n",
      "정확도: 100.00%\n",
      "1/1 [==============================] - 0s 26ms/step\n",
      "결과: 스탠딩 사이드 크런치\n",
      "정확도: 100.00%\n",
      "1/1 [==============================] - 0s 23ms/step\n"
     ]
    },
    {
     "name": "stderr",
     "output_type": "stream",
     "text": [
      "127.0.0.1 - - [05/Mar/2024 16:35:12] \"POST /epa/upload HTTP/1.1\" 200 -\n",
      "127.0.0.1 - - [05/Mar/2024 16:35:12] \"POST /epa/upload HTTP/1.1\" 200 -\n"
     ]
    },
    {
     "name": "stdout",
     "output_type": "stream",
     "text": [
      "결과: 스탠딩 사이드 크런치\n",
      "정확도: 100.00%\n",
      "1/1 [==============================] - 0s 28ms/step\n"
     ]
    },
    {
     "name": "stderr",
     "output_type": "stream",
     "text": [
      "127.0.0.1 - - [05/Mar/2024 16:35:12] \"POST /epa/upload HTTP/1.1\" 200 -\n"
     ]
    },
    {
     "name": "stdout",
     "output_type": "stream",
     "text": [
      "결과: 스탠딩 사이드 크런치\n",
      "정확도: 100.00%\n",
      "1/1 [==============================] - 0s 24ms/step\n"
     ]
    },
    {
     "name": "stderr",
     "output_type": "stream",
     "text": [
      "127.0.0.1 - - [05/Mar/2024 16:35:12] \"POST /epa/upload HTTP/1.1\" 200 -\n"
     ]
    },
    {
     "name": "stdout",
     "output_type": "stream",
     "text": [
      "결과: 스탠딩 사이드 크런치\n",
      "정확도: 100.00%\n",
      "1/1 [==============================] - 0s 28ms/step\n"
     ]
    },
    {
     "name": "stderr",
     "output_type": "stream",
     "text": [
      "127.0.0.1 - - [05/Mar/2024 16:35:12] \"POST /epa/upload HTTP/1.1\" 200 -\n"
     ]
    },
    {
     "name": "stdout",
     "output_type": "stream",
     "text": [
      "결과: 스탠딩 사이드 크런치\n",
      "정확도: 100.00%\n",
      "1/1 [==============================] - 0s 24ms/step\n"
     ]
    },
    {
     "name": "stderr",
     "output_type": "stream",
     "text": [
      "127.0.0.1 - - [05/Mar/2024 16:35:12] \"POST /epa/upload HTTP/1.1\" 200 -\n"
     ]
    },
    {
     "name": "stdout",
     "output_type": "stream",
     "text": [
      "결과: 스탠딩 사이드 크런치\n",
      "정확도: 100.00%\n",
      "1/1 [==============================] - 0s 22ms/step\n",
      "결과: 스탠딩 사이드 크런치\n",
      "정확도: 100.00%\n",
      "1/1 [==============================] - 0s 24ms/step\n"
     ]
    },
    {
     "name": "stderr",
     "output_type": "stream",
     "text": [
      "127.0.0.1 - - [05/Mar/2024 16:35:12] \"POST /epa/upload HTTP/1.1\" 200 -\n",
      "127.0.0.1 - - [05/Mar/2024 16:35:12] \"POST /epa/upload HTTP/1.1\" 200 -\n"
     ]
    },
    {
     "name": "stdout",
     "output_type": "stream",
     "text": [
      "결과: 스탠딩 사이드 크런치\n",
      "정확도: 100.00%\n",
      "1/1 [==============================] - 0s 38ms/step\n",
      "결과: 스탠딩 사이드 크런치\n",
      "정확도: 100.00%\n",
      "1/1 [==============================] - 0s 23ms/step\n"
     ]
    },
    {
     "name": "stderr",
     "output_type": "stream",
     "text": [
      "127.0.0.1 - - [05/Mar/2024 16:35:13] \"POST /epa/upload HTTP/1.1\" 200 -\n",
      "127.0.0.1 - - [05/Mar/2024 16:35:13] \"POST /epa/upload HTTP/1.1\" 200 -\n"
     ]
    },
    {
     "name": "stdout",
     "output_type": "stream",
     "text": [
      "결과: 스탠딩 사이드 크런치\n",
      "정확도: 100.00%\n",
      "1/1 [==============================] - 0s 24ms/step\n",
      "결과: 스탠딩 사이드 크런치\n",
      "정확도: 100.00%\n",
      "1/1 [==============================] - 0s 24ms/step\n"
     ]
    },
    {
     "name": "stderr",
     "output_type": "stream",
     "text": [
      "127.0.0.1 - - [05/Mar/2024 16:35:13] \"POST /epa/upload HTTP/1.1\" 200 -\n",
      "127.0.0.1 - - [05/Mar/2024 16:35:13] \"POST /epa/upload HTTP/1.1\" 200 -\n"
     ]
    },
    {
     "name": "stdout",
     "output_type": "stream",
     "text": [
      "결과: 스탠딩 사이드 크런치\n",
      "정확도: 100.00%\n",
      "1/1 [==============================] - 0s 25ms/step\n",
      "결과: 스탠딩 사이드 크런치\n",
      "정확도: 100.00%\n",
      "1/1 [==============================] - 0s 23ms/step\n"
     ]
    },
    {
     "name": "stderr",
     "output_type": "stream",
     "text": [
      "127.0.0.1 - - [05/Mar/2024 16:35:13] \"POST /epa/upload HTTP/1.1\" 200 -\n",
      "127.0.0.1 - - [05/Mar/2024 16:35:13] \"POST /epa/upload HTTP/1.1\" 200 -\n"
     ]
    },
    {
     "name": "stdout",
     "output_type": "stream",
     "text": [
      "결과: 스탠딩 사이드 크런치\n",
      "정확도: 100.00%\n",
      "1/1 [==============================] - 0s 27ms/step\n",
      "결과: 스탠딩 사이드 크런치\n",
      "정확도: 100.00%\n",
      "1/1 [==============================] - 0s 24ms/step\n"
     ]
    },
    {
     "name": "stderr",
     "output_type": "stream",
     "text": [
      "127.0.0.1 - - [05/Mar/2024 16:35:13] \"POST /epa/upload HTTP/1.1\" 200 -\n",
      "127.0.0.1 - - [05/Mar/2024 16:35:13] \"POST /epa/upload HTTP/1.1\" 200 -\n"
     ]
    },
    {
     "name": "stdout",
     "output_type": "stream",
     "text": [
      "결과: 스탠딩 사이드 크런치\n",
      "정확도: 100.00%\n",
      "1/1 [==============================] - 0s 26ms/step\n",
      "결과: 스탠딩 사이드 크런치\n",
      "정확도: 100.00%\n",
      "1/1 [==============================] - 0s 23ms/step\n"
     ]
    },
    {
     "name": "stderr",
     "output_type": "stream",
     "text": [
      "127.0.0.1 - - [05/Mar/2024 16:35:13] \"POST /epa/upload HTTP/1.1\" 200 -\n",
      "127.0.0.1 - - [05/Mar/2024 16:35:13] \"POST /epa/upload HTTP/1.1\" 200 -\n"
     ]
    },
    {
     "name": "stdout",
     "output_type": "stream",
     "text": [
      "결과: 스탠딩 사이드 크런치\n",
      "정확도: 100.00%\n",
      "1/1 [==============================] - 0s 21ms/step\n",
      "결과: 스탠딩 사이드 크런치\n",
      "정확도: 100.00%\n",
      "1/1 [==============================] - 0s 21ms/step\n"
     ]
    },
    {
     "name": "stderr",
     "output_type": "stream",
     "text": [
      "127.0.0.1 - - [05/Mar/2024 16:35:14] \"POST /epa/upload HTTP/1.1\" 200 -\n",
      "127.0.0.1 - - [05/Mar/2024 16:35:14] \"POST /epa/upload HTTP/1.1\" 200 -\n"
     ]
    },
    {
     "name": "stdout",
     "output_type": "stream",
     "text": [
      "결과: 스탠딩 사이드 크런치\n",
      "정확도: 100.00%\n",
      "1/1 [==============================] - 0s 24ms/step\n",
      "결과: 스탠딩 사이드 크런치\n",
      "정확도: 99.99%\n",
      "1/1 [==============================] - 0s 25ms/step\n"
     ]
    },
    {
     "name": "stderr",
     "output_type": "stream",
     "text": [
      "127.0.0.1 - - [05/Mar/2024 16:35:14] \"POST /epa/upload HTTP/1.1\" 200 -\n",
      "127.0.0.1 - - [05/Mar/2024 16:35:14] \"POST /epa/upload HTTP/1.1\" 200 -\n"
     ]
    },
    {
     "name": "stdout",
     "output_type": "stream",
     "text": [
      "결과: 스탠딩 사이드 크런치\n",
      "정확도: 99.99%\n",
      "1/1 [==============================] - 0s 25ms/step\n",
      "1/1 [==============================] - 0s 24ms/step\n"
     ]
    },
    {
     "name": "stderr",
     "output_type": "stream",
     "text": [
      "127.0.0.1 - - [05/Mar/2024 16:35:14] \"POST /epa/upload HTTP/1.1\" 200 -\n",
      "127.0.0.1 - - [05/Mar/2024 16:35:14] \"POST /epa/upload HTTP/1.1\" 200 -\n"
     ]
    },
    {
     "name": "stdout",
     "output_type": "stream",
     "text": [
      "결과: 스탠딩 사이드 크런치\n",
      "정확도: 99.93%\n",
      "<function check_side_crunch_angle at 0x00000118B6790160>\n",
      "Good!\n",
      "결과: 스탠딩 사이드 크런치\n",
      "정확도: 99.88%\n",
      "<function check_side_crunch_angle at 0x00000118B6790160>\n",
      "Good!\n",
      "1/1 [==============================] - 0s 30ms/step\n",
      "결과: 스탠딩 사이드 크런치\n",
      "정확도: 98.36%\n",
      "<function check_side_crunch_angle at 0x00000118B6790160>\n",
      "Good!\n",
      "1/1 [==============================] - 0s 24ms/step\n"
     ]
    },
    {
     "name": "stderr",
     "output_type": "stream",
     "text": [
      "127.0.0.1 - - [05/Mar/2024 16:35:14] \"POST /epa/upload HTTP/1.1\" 200 -\n",
      "127.0.0.1 - - [05/Mar/2024 16:35:14] \"POST /epa/upload HTTP/1.1\" 200 -\n"
     ]
    },
    {
     "name": "stdout",
     "output_type": "stream",
     "text": [
      "결과: 스탠딩 사이드 크런치\n",
      "정확도: 98.42%\n",
      "<function check_side_crunch_angle at 0x00000118B6790160>\n",
      "Good!\n",
      "1/1 [==============================] - 0s 24ms/step\n",
      "결과: 스탠딩 사이드 크런치\n",
      "정확도: 97.01%\n",
      "<function check_side_crunch_angle at 0x00000118B6790160>\n",
      "Good!\n",
      "1/1 [==============================] - 0s 22ms/step\n"
     ]
    },
    {
     "name": "stderr",
     "output_type": "stream",
     "text": [
      "127.0.0.1 - - [05/Mar/2024 16:35:15] \"POST /epa/upload HTTP/1.1\" 200 -\n",
      "127.0.0.1 - - [05/Mar/2024 16:35:15] \"POST /epa/upload HTTP/1.1\" 200 -\n"
     ]
    },
    {
     "name": "stdout",
     "output_type": "stream",
     "text": [
      "결과: 스탠딩 사이드 크런치\n",
      "정확도: 95.85%\n",
      "<function check_side_crunch_angle at 0x00000118B6790160>\n",
      "Good!\n",
      "1/1 [==============================] - 0s 26ms/step\n",
      "결과: 스탠딩 사이드 크런치\n",
      "정확도: 94.16%\n",
      "<function check_side_crunch_angle at 0x00000118B6790160>\n",
      "Good!\n",
      "1/1 [==============================] - ETA: 0s"
     ]
    },
    {
     "name": "stderr",
     "output_type": "stream",
     "text": [
      "127.0.0.1 - - [05/Mar/2024 16:35:15] \"POST /epa/upload HTTP/1.1\" 200 -\n"
     ]
    },
    {
     "name": "stdout",
     "output_type": "stream",
     "text": [
      "1/1 [==============================] - 0s 24ms/step\n"
     ]
    },
    {
     "name": "stderr",
     "output_type": "stream",
     "text": [
      "127.0.0.1 - - [05/Mar/2024 16:35:15] \"POST /epa/upload HTTP/1.1\" 200 -\n"
     ]
    },
    {
     "name": "stdout",
     "output_type": "stream",
     "text": [
      "결과: 스탠딩 사이드 크런치\n",
      "정확도: 92.81%\n",
      "<function check_side_crunch_angle at 0x00000118B6790160>\n",
      "Good!\n",
      "1/1 [==============================] - 0s 21ms/step\n",
      "1/1 [==============================] - 0s 23ms/step\n",
      "결과: 스탠딩 사이드 크런치\n",
      "정확도: 88.82%\n",
      "<function check_side_crunch_angle at 0x00000118B6790160>\n",
      "Good!\n"
     ]
    },
    {
     "name": "stderr",
     "output_type": "stream",
     "text": [
      "127.0.0.1 - - [05/Mar/2024 16:35:15] \"POST /epa/upload HTTP/1.1\" 200 -\n",
      "127.0.0.1 - - [05/Mar/2024 16:35:15] \"POST /epa/upload HTTP/1.1\" 200 -\n"
     ]
    },
    {
     "name": "stdout",
     "output_type": "stream",
     "text": [
      "결과: 스탠딩 사이드 크런치\n",
      "정확도: 88.82%\n",
      "<function check_side_crunch_angle at 0x00000118B6790160>\n",
      "Good!\n",
      "1/1 [==============================] - 0s 23ms/step\n",
      "결과: 스탠딩 사이드 크런치\n",
      "정확도: 95.11%\n",
      "<function check_side_crunch_angle at 0x00000118B6790160>\n",
      "Good!\n",
      "1/1 [==============================] - 0s 23ms/step\n"
     ]
    },
    {
     "name": "stderr",
     "output_type": "stream",
     "text": [
      "127.0.0.1 - - [05/Mar/2024 16:35:15] \"POST /epa/upload HTTP/1.1\" 200 -\n",
      "127.0.0.1 - - [05/Mar/2024 16:35:15] \"POST /epa/upload HTTP/1.1\" 200 -\n"
     ]
    },
    {
     "name": "stdout",
     "output_type": "stream",
     "text": [
      "결과: 스탠딩 사이드 크런치\n",
      "정확도: 93.29%\n",
      "<function check_side_crunch_angle at 0x00000118B6790160>\n",
      "Good!\n",
      "1/1 [==============================] - 0s 20ms/step\n",
      "결과: 스탠딩 사이드 크런치\n",
      "정확도: 96.66%\n",
      "<function check_side_crunch_angle at 0x00000118B6790160>\n",
      "Good!\n",
      "1/1 [==============================] - 0s 23ms/step\n"
     ]
    },
    {
     "name": "stderr",
     "output_type": "stream",
     "text": [
      "127.0.0.1 - - [05/Mar/2024 16:35:16] \"POST /epa/upload HTTP/1.1\" 200 -\n",
      "127.0.0.1 - - [05/Mar/2024 16:35:16] \"POST /epa/upload HTTP/1.1\" 200 -\n"
     ]
    },
    {
     "name": "stdout",
     "output_type": "stream",
     "text": [
      "결과: 스탠딩 사이드 크런치\n",
      "정확도: 97.57%\n",
      "<function check_side_crunch_angle at 0x00000118B6790160>\n",
      "Good!\n",
      "1/1 [==============================] - 0s 24ms/step\n",
      "결과: 스탠딩 사이드 크런치\n",
      "정확도: 99.93%\n",
      "1/1 [==============================] - ETA: 0s"
     ]
    },
    {
     "name": "stderr",
     "output_type": "stream",
     "text": [
      "127.0.0.1 - - [05/Mar/2024 16:35:16] \"POST /epa/upload HTTP/1.1\" 200 -\n"
     ]
    },
    {
     "name": "stdout",
     "output_type": "stream",
     "text": [
      "1/1 [==============================] - 0s 27ms/step\n"
     ]
    },
    {
     "name": "stderr",
     "output_type": "stream",
     "text": [
      "127.0.0.1 - - [05/Mar/2024 16:35:16] \"POST /epa/upload HTTP/1.1\" 200 -\n"
     ]
    },
    {
     "name": "stdout",
     "output_type": "stream",
     "text": [
      "결과: 스탠딩 사이드 크런치\n",
      "정확도: 99.90%\n",
      "1/1 [==============================] - 0s 27ms/step\n"
     ]
    },
    {
     "name": "stderr",
     "output_type": "stream",
     "text": [
      "127.0.0.1 - - [05/Mar/2024 16:35:16] \"POST /epa/upload HTTP/1.1\" 200 -\n"
     ]
    },
    {
     "name": "stdout",
     "output_type": "stream",
     "text": [
      "결과: 스탠딩 사이드 크런치\n",
      "정확도: 99.99%\n",
      "1/1 [==============================] - 0s 22ms/step\n"
     ]
    },
    {
     "name": "stderr",
     "output_type": "stream",
     "text": [
      "127.0.0.1 - - [05/Mar/2024 16:35:16] \"POST /epa/upload HTTP/1.1\" 200 -\n"
     ]
    },
    {
     "name": "stdout",
     "output_type": "stream",
     "text": [
      "결과: 스탠딩 사이드 크런치\n",
      "정확도: 99.99%\n",
      "1/1 [==============================] - 0s 23ms/step\n",
      "결과: 스탠딩 사이드 크런치\n",
      "정확도: 99.99%\n",
      "1/1 [==============================] - 0s 22ms/step\n"
     ]
    },
    {
     "name": "stderr",
     "output_type": "stream",
     "text": [
      "127.0.0.1 - - [05/Mar/2024 16:35:16] \"POST /epa/upload HTTP/1.1\" 200 -\n",
      "127.0.0.1 - - [05/Mar/2024 16:35:16] \"POST /epa/upload HTTP/1.1\" 200 -\n"
     ]
    },
    {
     "name": "stdout",
     "output_type": "stream",
     "text": [
      "결과: 스탠딩 사이드 크런치\n",
      "정확도: 99.99%\n",
      "1/1 [==============================] - 0s 25ms/step\n",
      "결과: 스탠딩 사이드 크런치\n",
      "정확도: 99.96%\n",
      "1/1 [==============================] - 0s 24ms/step\n"
     ]
    },
    {
     "name": "stderr",
     "output_type": "stream",
     "text": [
      "127.0.0.1 - - [05/Mar/2024 16:35:16] \"POST /epa/upload HTTP/1.1\" 200 -\n",
      "127.0.0.1 - - [05/Mar/2024 16:35:16] \"POST /epa/upload HTTP/1.1\" 200 -\n"
     ]
    },
    {
     "name": "stdout",
     "output_type": "stream",
     "text": [
      "결과: 스탠딩 사이드 크런치\n",
      "정확도: 99.97%\n",
      "1/1 [==============================] - 0s 21ms/step\n",
      "결과: 스탠딩 사이드 크런치\n",
      "정확도: 99.97%\n",
      "1/1 [==============================] - 0s 22ms/step\n"
     ]
    },
    {
     "name": "stderr",
     "output_type": "stream",
     "text": [
      "127.0.0.1 - - [05/Mar/2024 16:35:17] \"POST /epa/upload HTTP/1.1\" 200 -\n",
      "127.0.0.1 - - [05/Mar/2024 16:35:17] \"POST /epa/upload HTTP/1.1\" 200 -\n"
     ]
    },
    {
     "name": "stdout",
     "output_type": "stream",
     "text": [
      "결과: 스탠딩 사이드 크런치\n",
      "정확도: 99.97%\n",
      "1/1 [==============================] - 0s 24ms/step\n",
      "1/1 [==============================] - 0s 28ms/step\n"
     ]
    },
    {
     "name": "stderr",
     "output_type": "stream",
     "text": [
      "127.0.0.1 - - [05/Mar/2024 16:35:17] \"POST /epa/upload HTTP/1.1\" 200 -\n",
      "127.0.0.1 - - [05/Mar/2024 16:35:17] \"POST /epa/upload HTTP/1.1\" 200 -\n"
     ]
    },
    {
     "name": "stdout",
     "output_type": "stream",
     "text": [
      "결과: 스탠딩 사이드 크런치\n",
      "정확도: 99.98%\n",
      "결과: 스탠딩 사이드 크런치\n",
      "정확도: 99.97%\n",
      "1/1 [==============================] - 0s 26ms/step\n",
      "결과: 스탠딩 사이드 크런치\n",
      "정확도: 99.64%\n",
      "1/1 [==============================] - 0s 24ms/step\n"
     ]
    },
    {
     "name": "stderr",
     "output_type": "stream",
     "text": [
      "127.0.0.1 - - [05/Mar/2024 16:35:17] \"POST /epa/upload HTTP/1.1\" 200 -\n",
      "127.0.0.1 - - [05/Mar/2024 16:35:17] \"POST /epa/upload HTTP/1.1\" 200 -\n"
     ]
    },
    {
     "name": "stdout",
     "output_type": "stream",
     "text": [
      "결과: 스탠딩 사이드 크런치\n",
      "정확도: 99.74%\n",
      "1/1 [==============================] - 0s 25ms/step\n",
      "결과: 스탠딩 사이드 크런치\n",
      "정확도: 67.30%\n",
      "1/1 [==============================] - 0s 21ms/step\n"
     ]
    },
    {
     "name": "stderr",
     "output_type": "stream",
     "text": [
      "127.0.0.1 - - [05/Mar/2024 16:35:17] \"POST /epa/upload HTTP/1.1\" 200 -\n",
      "127.0.0.1 - - [05/Mar/2024 16:35:17] \"POST /epa/upload HTTP/1.1\" 200 -\n"
     ]
    },
    {
     "name": "stdout",
     "output_type": "stream",
     "text": [
      "결과: 스텝 포워드 다이나믹 런지\n",
      "정확도: 66.32%\n",
      "1/1 [==============================] - 0s 21ms/step\n",
      "1/1 [==============================] - 0s 22ms/step\n"
     ]
    },
    {
     "name": "stderr",
     "output_type": "stream",
     "text": [
      "127.0.0.1 - - [05/Mar/2024 16:35:18] \"POST /epa/upload HTTP/1.1\" 200 -\n",
      "127.0.0.1 - - [05/Mar/2024 16:35:18] \"POST /epa/upload HTTP/1.1\" 200 -\n"
     ]
    },
    {
     "name": "stdout",
     "output_type": "stream",
     "text": [
      "결과: 스텝 포워드 다이나믹 런지\n",
      "정확도: 99.78%\n",
      "결과: 스텝 포워드 다이나믹 런지\n",
      "정확도: 99.57%\n",
      "1/1 [==============================] - 0s 28ms/step\n"
     ]
    },
    {
     "name": "stderr",
     "output_type": "stream",
     "text": [
      "127.0.0.1 - - [05/Mar/2024 16:35:18] \"POST /epa/upload HTTP/1.1\" 200 -\n"
     ]
    },
    {
     "name": "stdout",
     "output_type": "stream",
     "text": [
      "결과: 스텝 포워드 다이나믹 런지\n",
      "정확도: 99.71%\n",
      "1/1 [==============================] - 0s 24ms/step\n"
     ]
    },
    {
     "name": "stderr",
     "output_type": "stream",
     "text": [
      "127.0.0.1 - - [05/Mar/2024 16:35:18] \"POST /epa/upload HTTP/1.1\" 200 -\n"
     ]
    },
    {
     "name": "stdout",
     "output_type": "stream",
     "text": [
      "결과: 스텝 포워드 다이나믹 런지\n",
      "정확도: 99.64%\n",
      "1/1 [==============================] - 0s 39ms/step\n",
      "결과: 스텝 포워드 다이나믹 런지\n",
      "정확도: 99.82%\n",
      "1/1 [==============================] - 0s 25ms/step\n"
     ]
    },
    {
     "name": "stderr",
     "output_type": "stream",
     "text": [
      "127.0.0.1 - - [05/Mar/2024 16:35:18] \"POST /epa/upload HTTP/1.1\" 200 -\n",
      "127.0.0.1 - - [05/Mar/2024 16:35:18] \"POST /epa/upload HTTP/1.1\" 200 -\n"
     ]
    },
    {
     "name": "stdout",
     "output_type": "stream",
     "text": [
      "결과: 스텝 포워드 다이나믹 런지\n",
      "정확도: 99.86%\n",
      "1/1 [==============================] - 0s 22ms/step\n",
      "결과: 스텝 포워드 다이나믹 런지\n",
      "정확도: 99.45%\n",
      "1/1 [==============================] - 0s 24ms/step\n"
     ]
    },
    {
     "name": "stderr",
     "output_type": "stream",
     "text": [
      "127.0.0.1 - - [05/Mar/2024 16:35:18] \"POST /epa/upload HTTP/1.1\" 200 -\n",
      "127.0.0.1 - - [05/Mar/2024 16:35:18] \"POST /epa/upload HTTP/1.1\" 200 -\n"
     ]
    },
    {
     "name": "stdout",
     "output_type": "stream",
     "text": [
      "결과: 스텝 포워드 다이나믹 런지\n",
      "정확도: 99.28%\n",
      "1/1 [==============================] - 0s 29ms/step\n",
      "결과: 스텝 포워드 다이나믹 런지\n",
      "정확도: 96.09%\n"
     ]
    },
    {
     "name": "stderr",
     "output_type": "stream",
     "text": [
      "127.0.0.1 - - [05/Mar/2024 16:35:18] \"POST /epa/upload HTTP/1.1\" 200 -\n"
     ]
    },
    {
     "name": "stdout",
     "output_type": "stream",
     "text": [
      "1/1 [==============================] - 0s 23ms/step\n"
     ]
    },
    {
     "name": "stderr",
     "output_type": "stream",
     "text": [
      "127.0.0.1 - - [05/Mar/2024 16:35:19] \"POST /epa/upload HTTP/1.1\" 200 -\n"
     ]
    },
    {
     "name": "stdout",
     "output_type": "stream",
     "text": [
      "결과: 스텝 포워드 다이나믹 런지\n",
      "정확도: 95.81%\n",
      "1/1 [==============================] - 0s 22ms/step\n",
      "결과: 스텝 포워드 다이나믹 런지\n",
      "정확도: 94.47%\n",
      "1/1 [==============================] - 0s 21ms/step\n"
     ]
    },
    {
     "name": "stderr",
     "output_type": "stream",
     "text": [
      "127.0.0.1 - - [05/Mar/2024 16:35:19] \"POST /epa/upload HTTP/1.1\" 200 -\n",
      "127.0.0.1 - - [05/Mar/2024 16:35:19] \"POST /epa/upload HTTP/1.1\" 200 -\n"
     ]
    },
    {
     "name": "stdout",
     "output_type": "stream",
     "text": [
      "결과: 스텝 포워드 다이나믹 런지\n",
      "정확도: 94.44%\n",
      "1/1 [==============================] - 0s 23ms/step\n",
      "결과: 스텝 포워드 다이나믹 런지\n",
      "정확도: 95.81%\n",
      "1/1 [==============================] - 0s 25ms/step\n"
     ]
    },
    {
     "name": "stderr",
     "output_type": "stream",
     "text": [
      "127.0.0.1 - - [05/Mar/2024 16:35:19] \"POST /epa/upload HTTP/1.1\" 200 -\n",
      "127.0.0.1 - - [05/Mar/2024 16:35:19] \"POST /epa/upload HTTP/1.1\" 200 -\n"
     ]
    },
    {
     "name": "stdout",
     "output_type": "stream",
     "text": [
      "결과: 스텝 포워드 다이나믹 런지\n",
      "정확도: 96.22%\n",
      "1/1 [==============================] - 0s 24ms/step\n"
     ]
    },
    {
     "name": "stderr",
     "output_type": "stream",
     "text": [
      "127.0.0.1 - - [05/Mar/2024 16:35:19] \"POST /epa/upload HTTP/1.1\" 200 -\n"
     ]
    },
    {
     "name": "stdout",
     "output_type": "stream",
     "text": [
      "결과: 스텝 포워드 다이나믹 런지\n",
      "정확도: 96.44%\n",
      "1/1 [==============================] - 0s 21ms/step\n"
     ]
    },
    {
     "name": "stderr",
     "output_type": "stream",
     "text": [
      "127.0.0.1 - - [05/Mar/2024 16:35:19] \"POST /epa/upload HTTP/1.1\" 200 -\n"
     ]
    },
    {
     "name": "stdout",
     "output_type": "stream",
     "text": [
      "결과: 스텝 포워드 다이나믹 런지\n",
      "정확도: 96.37%\n",
      "1/1 [==============================] - 0s 29ms/step\n",
      "결과: 스텝 포워드 다이나믹 런지\n",
      "정확도: 96.43%\n",
      "1/1 [==============================] - ETA: 0s"
     ]
    },
    {
     "name": "stderr",
     "output_type": "stream",
     "text": [
      "127.0.0.1 - - [05/Mar/2024 16:35:19] \"POST /epa/upload HTTP/1.1\" 200 -\n"
     ]
    },
    {
     "name": "stdout",
     "output_type": "stream",
     "text": [
      "1/1 [==============================] - 0s 27ms/step\n"
     ]
    },
    {
     "name": "stderr",
     "output_type": "stream",
     "text": [
      "127.0.0.1 - - [05/Mar/2024 16:35:19] \"POST /epa/upload HTTP/1.1\" 200 -\n"
     ]
    },
    {
     "name": "stdout",
     "output_type": "stream",
     "text": [
      "결과: 스텝 포워드 다이나믹 런지\n",
      "정확도: 96.06%\n",
      "1/1 [==============================] - 0s 22ms/step\n",
      "결과: 스텝 포워드 다이나믹 런지\n",
      "정확도: 99.18%\n",
      "1/1 [==============================] - 0s 25ms/step\n",
      "결과: 스텝 포워드 다이나믹 런지\n",
      "정확도: 98.65%\n"
     ]
    },
    {
     "name": "stderr",
     "output_type": "stream",
     "text": [
      "127.0.0.1 - - [05/Mar/2024 16:35:20] \"POST /epa/upload HTTP/1.1\" 200 -\n",
      "127.0.0.1 - - [05/Mar/2024 16:35:20] \"POST /epa/upload HTTP/1.1\" 200 -\n"
     ]
    },
    {
     "name": "stdout",
     "output_type": "stream",
     "text": [
      "1/1 [==============================] - 0s 65ms/step\n",
      "결과: 스텝 포워드 다이나믹 런지\n",
      "정확도: 99.84%\n",
      "1/1 [==============================] - 0s 26ms/step\n"
     ]
    },
    {
     "name": "stderr",
     "output_type": "stream",
     "text": [
      "127.0.0.1 - - [05/Mar/2024 16:35:20] \"POST /epa/upload HTTP/1.1\" 200 -\n",
      "127.0.0.1 - - [05/Mar/2024 16:35:20] \"POST /epa/upload HTTP/1.1\" 200 -\n"
     ]
    },
    {
     "name": "stdout",
     "output_type": "stream",
     "text": [
      "결과: 스텝 포워드 다이나믹 런지\n",
      "정확도: 99.87%\n",
      "1/1 [==============================] - 0s 32ms/step\n",
      "결과: 스텝 포워드 다이나믹 런지\n",
      "정확도: 99.94%\n",
      "1/1 [==============================] - ETA: 0s"
     ]
    },
    {
     "name": "stderr",
     "output_type": "stream",
     "text": [
      "127.0.0.1 - - [05/Mar/2024 16:35:20] \"POST /epa/upload HTTP/1.1\" 200 -\n"
     ]
    },
    {
     "name": "stdout",
     "output_type": "stream",
     "text": [
      "1/1 [==============================] - 0s 28ms/step\n"
     ]
    },
    {
     "name": "stderr",
     "output_type": "stream",
     "text": [
      "127.0.0.1 - - [05/Mar/2024 16:35:20] \"POST /epa/upload HTTP/1.1\" 200 -\n"
     ]
    },
    {
     "name": "stdout",
     "output_type": "stream",
     "text": [
      "결과: 스텝 포워드 다이나믹 런지\n",
      "정확도: 99.95%\n",
      "1/1 [==============================] - 0s 27ms/step\n",
      "결과: 스텝 포워드 다이나믹 런지\n",
      "정확도: 99.98%\n",
      "1/1 [==============================] - ETA: 0s"
     ]
    },
    {
     "name": "stderr",
     "output_type": "stream",
     "text": [
      "127.0.0.1 - - [05/Mar/2024 16:35:20] \"POST /epa/upload HTTP/1.1\" 200 -\n"
     ]
    },
    {
     "name": "stdout",
     "output_type": "stream",
     "text": [
      "1/1 [==============================] - 0s 27ms/step\n"
     ]
    },
    {
     "name": "stderr",
     "output_type": "stream",
     "text": [
      "127.0.0.1 - - [05/Mar/2024 16:35:20] \"POST /epa/upload HTTP/1.1\" 200 -\n"
     ]
    },
    {
     "name": "stdout",
     "output_type": "stream",
     "text": [
      "결과: 스텝 포워드 다이나믹 런지\n",
      "정확도: 99.98%\n",
      "1/1 [==============================] - 0s 23ms/step\n",
      "결과: 스텝 포워드 다이나믹 런지\n",
      "정확도: 99.97%\n",
      "1/1 [==============================] - 0s 22ms/step\n"
     ]
    },
    {
     "name": "stderr",
     "output_type": "stream",
     "text": [
      "127.0.0.1 - - [05/Mar/2024 16:35:21] \"POST /epa/upload HTTP/1.1\" 200 -\n",
      "127.0.0.1 - - [05/Mar/2024 16:35:21] \"POST /epa/upload HTTP/1.1\" 200 -\n"
     ]
    },
    {
     "name": "stdout",
     "output_type": "stream",
     "text": [
      "결과: 스텝 포워드 다이나믹 런지\n",
      "정확도: 99.97%\n",
      "1/1 [==============================] - 0s 29ms/step\n",
      "결과: 스텝 포워드 다이나믹 런지\n",
      "정확도: 98.97%\n",
      "1/1 [==============================] - 0s 26ms/step\n"
     ]
    },
    {
     "name": "stderr",
     "output_type": "stream",
     "text": [
      "127.0.0.1 - - [05/Mar/2024 16:35:21] \"POST /epa/upload HTTP/1.1\" 200 -\n",
      "127.0.0.1 - - [05/Mar/2024 16:35:21] \"POST /epa/upload HTTP/1.1\" 200 -\n"
     ]
    },
    {
     "name": "stdout",
     "output_type": "stream",
     "text": [
      "결과: 스텝 포워드 다이나믹 런지\n",
      "정확도: 96.57%\n",
      "1/1 [==============================] - 0s 23ms/step\n",
      "결과: 스텝 포워드 다이나믹 런지\n",
      "정확도: 85.18%\n",
      "1/1 [==============================] - 0s 25ms/step\n"
     ]
    },
    {
     "name": "stderr",
     "output_type": "stream",
     "text": [
      "127.0.0.1 - - [05/Mar/2024 16:35:21] \"POST /epa/upload HTTP/1.1\" 200 -\n",
      "127.0.0.1 - - [05/Mar/2024 16:35:21] \"POST /epa/upload HTTP/1.1\" 200 -\n"
     ]
    },
    {
     "name": "stdout",
     "output_type": "stream",
     "text": [
      "결과: 스텝 포워드 다이나믹 런지\n",
      "정확도: 85.18%\n",
      "1/1 [==============================] - 0s 28ms/step\n",
      "1/1 [==============================] - 0s 24ms/step\n"
     ]
    },
    {
     "name": "stderr",
     "output_type": "stream",
     "text": [
      "127.0.0.1 - - [05/Mar/2024 16:35:21] \"POST /epa/upload HTTP/1.1\" 200 -\n",
      "127.0.0.1 - - [05/Mar/2024 16:35:21] \"POST /epa/upload HTTP/1.1\" 200 -\n"
     ]
    },
    {
     "name": "stdout",
     "output_type": "stream",
     "text": [
      "결과: 푸쉬업\n",
      "정확도: 82.33%\n",
      "Good!\n",
      "결과: 푸쉬업\n",
      "정확도: 62.18%\n",
      "Good!\n",
      "1/1 [==============================] - 0s 25ms/step\n",
      "1/1 [==============================] - 0s 26ms/step\n"
     ]
    },
    {
     "name": "stderr",
     "output_type": "stream",
     "text": [
      "127.0.0.1 - - [05/Mar/2024 16:35:22] \"POST /epa/upload HTTP/1.1\" 200 -\n",
      "127.0.0.1 - - [05/Mar/2024 16:35:22] \"POST /epa/upload HTTP/1.1\" 200 -\n"
     ]
    },
    {
     "name": "stdout",
     "output_type": "stream",
     "text": [
      "결과: 스텝 포워드 다이나믹 런지\n",
      "정확도: 98.53%\n",
      "결과: 스텝 포워드 다이나믹 런지\n",
      "정확도: 98.53%\n",
      "1/1 [==============================] - 0s 30ms/step\n",
      "1/1 [==============================] - 0s 32ms/step\n"
     ]
    },
    {
     "name": "stderr",
     "output_type": "stream",
     "text": [
      "127.0.0.1 - - [05/Mar/2024 16:35:22] \"POST /epa/upload HTTP/1.1\" 200 -\n",
      "127.0.0.1 - - [05/Mar/2024 16:35:22] \"POST /epa/upload HTTP/1.1\" 200 -\n",
      "127.0.0.1 - - [05/Mar/2024 16:35:22] \"GET /socket.io/?EIO=4&transport=websocket&sid=hmYW2rnz2wQqOxyzAAAA HTTP/1.1\" 200 -\n",
      "127.0.0.1 - - [05/Mar/2024 16:35:22] \"POST /epa/upload HTTP/1.1\" 200 -\n",
      "127.0.0.1 - - [05/Mar/2024 16:35:22] \"POST /epa/upload HTTP/1.1\" 200 -\n"
     ]
    },
    {
     "name": "stdout",
     "output_type": "stream",
     "text": [
      "결과: 스텝 포워드 다이나믹 런지\n",
      "정확도: 99.95%\n",
      "결과: 스텝 포워드 다이나믹 런지\n",
      "정확도: 99.97%\n",
      "WebSocket connection closed.\n",
      "Pose detection failed.\n",
      "Pose detection failed.\n"
     ]
    },
    {
     "name": "stderr",
     "output_type": "stream",
     "text": [
      "127.0.0.1 - - [05/Mar/2024 16:35:23] \"GET /socket.io/?EIO=4&transport=polling&t=OuDYT_w HTTP/1.1\" 200 -\n",
      "127.0.0.1 - - [05/Mar/2024 16:35:23] \"POST /socket.io/?EIO=4&transport=polling&t=OuDYU02&sid=nPEzNPdco4dDhn4vAAAC HTTP/1.1\" 200 -\n"
     ]
    },
    {
     "name": "stdout",
     "output_type": "stream",
     "text": [
      "WebSocket connection opened.\n"
     ]
    },
    {
     "name": "stderr",
     "output_type": "stream",
     "text": [
      "127.0.0.1 - - [05/Mar/2024 16:35:23] \"GET /socket.io/?EIO=4&transport=polling&t=OuDYU03&sid=nPEzNPdco4dDhn4vAAAC HTTP/1.1\" 200 -\n"
     ]
    },
    {
     "name": "stdout",
     "output_type": "stream",
     "text": [
      "1/1 [==============================] - 0s 20ms/step\n"
     ]
    },
    {
     "name": "stderr",
     "output_type": "stream",
     "text": [
      "127.0.0.1 - - [05/Mar/2024 16:35:25] \"POST /epa/upload HTTP/1.1\" 200 -\n"
     ]
    },
    {
     "name": "stdout",
     "output_type": "stream",
     "text": [
      "결과: 스텝 포워드 다이나믹 런지\n",
      "정확도: 100.00%\n",
      "1/1 [==============================] - 0s 25ms/step\n"
     ]
    },
    {
     "name": "stderr",
     "output_type": "stream",
     "text": [
      "127.0.0.1 - - [05/Mar/2024 16:35:25] \"POST /epa/upload HTTP/1.1\" 200 -\n"
     ]
    },
    {
     "name": "stdout",
     "output_type": "stream",
     "text": [
      "결과: 스텝 포워드 다이나믹 런지\n",
      "정확도: 100.00%\n",
      "1/1 [==============================] - 0s 28ms/step\n"
     ]
    },
    {
     "name": "stderr",
     "output_type": "stream",
     "text": [
      "127.0.0.1 - - [05/Mar/2024 16:35:25] \"POST /epa/upload HTTP/1.1\" 200 -\n"
     ]
    },
    {
     "name": "stdout",
     "output_type": "stream",
     "text": [
      "결과: 스텝 포워드 다이나믹 런지\n",
      "정확도: 100.00%\n",
      "1/1 [==============================] - 0s 21ms/step\n"
     ]
    },
    {
     "name": "stderr",
     "output_type": "stream",
     "text": [
      "127.0.0.1 - - [05/Mar/2024 16:35:25] \"POST /epa/upload HTTP/1.1\" 200 -\n"
     ]
    },
    {
     "name": "stdout",
     "output_type": "stream",
     "text": [
      "결과: 스텝 포워드 다이나믹 런지\n",
      "정확도: 100.00%\n",
      "1/1 [==============================] - 0s 19ms/step\n"
     ]
    },
    {
     "name": "stderr",
     "output_type": "stream",
     "text": [
      "127.0.0.1 - - [05/Mar/2024 16:35:25] \"POST /epa/upload HTTP/1.1\" 200 -\n"
     ]
    },
    {
     "name": "stdout",
     "output_type": "stream",
     "text": [
      "결과: 스텝 포워드 다이나믹 런지\n",
      "정확도: 100.00%\n",
      "1/1 [==============================] - 0s 20ms/step\n"
     ]
    },
    {
     "name": "stderr",
     "output_type": "stream",
     "text": [
      "127.0.0.1 - - [05/Mar/2024 16:35:26] \"POST /epa/upload HTTP/1.1\" 200 -\n"
     ]
    },
    {
     "name": "stdout",
     "output_type": "stream",
     "text": [
      "결과: 스텝 포워드 다이나믹 런지\n",
      "정확도: 100.00%\n",
      "1/1 [==============================] - 0s 22ms/step\n"
     ]
    },
    {
     "name": "stderr",
     "output_type": "stream",
     "text": [
      "127.0.0.1 - - [05/Mar/2024 16:35:26] \"POST /epa/upload HTTP/1.1\" 200 -\n"
     ]
    },
    {
     "name": "stdout",
     "output_type": "stream",
     "text": [
      "결과: 스텝 포워드 다이나믹 런지\n",
      "정확도: 100.00%\n",
      "1/1 [==============================] - 0s 21ms/step\n"
     ]
    },
    {
     "name": "stderr",
     "output_type": "stream",
     "text": [
      "127.0.0.1 - - [05/Mar/2024 16:35:26] \"POST /epa/upload HTTP/1.1\" 200 -\n"
     ]
    },
    {
     "name": "stdout",
     "output_type": "stream",
     "text": [
      "결과: 스텝 포워드 다이나믹 런지\n",
      "정확도: 85.93%\n",
      "1/1 [==============================] - 0s 20ms/step\n"
     ]
    },
    {
     "name": "stderr",
     "output_type": "stream",
     "text": [
      "127.0.0.1 - - [05/Mar/2024 16:35:26] \"POST /epa/upload HTTP/1.1\" 200 -\n"
     ]
    },
    {
     "name": "stdout",
     "output_type": "stream",
     "text": [
      "결과: 스텝 포워드 다이나믹 런지\n",
      "정확도: 84.90%\n",
      "1/1 [==============================] - 0s 22ms/step\n"
     ]
    },
    {
     "name": "stderr",
     "output_type": "stream",
     "text": [
      "127.0.0.1 - - [05/Mar/2024 16:35:27] \"POST /epa/upload HTTP/1.1\" 200 -\n"
     ]
    },
    {
     "name": "stdout",
     "output_type": "stream",
     "text": [
      "결과: 스텝 포워드 다이나믹 런지\n",
      "정확도: 76.33%\n",
      "1/1 [==============================] - 0s 21ms/step\n"
     ]
    },
    {
     "name": "stderr",
     "output_type": "stream",
     "text": [
      "127.0.0.1 - - [05/Mar/2024 16:35:27] \"POST /epa/upload HTTP/1.1\" 200 -\n"
     ]
    },
    {
     "name": "stdout",
     "output_type": "stream",
     "text": [
      "결과: 스텝 포워드 다이나믹 런지\n",
      "정확도: 100.00%\n",
      "1/1 [==============================] - 0s 20ms/step\n"
     ]
    },
    {
     "name": "stderr",
     "output_type": "stream",
     "text": [
      "127.0.0.1 - - [05/Mar/2024 16:35:27] \"POST /epa/upload HTTP/1.1\" 200 -\n"
     ]
    },
    {
     "name": "stdout",
     "output_type": "stream",
     "text": [
      "결과: 스텝 포워드 다이나믹 런지\n",
      "정확도: 100.00%\n",
      "1/1 [==============================] - 0s 20ms/step\n"
     ]
    },
    {
     "name": "stderr",
     "output_type": "stream",
     "text": [
      "127.0.0.1 - - [05/Mar/2024 16:35:27] \"POST /epa/upload HTTP/1.1\" 200 -\n"
     ]
    },
    {
     "name": "stdout",
     "output_type": "stream",
     "text": [
      "결과: 스텝 포워드 다이나믹 런지\n",
      "정확도: 100.00%\n",
      "1/1 [==============================] - 0s 20ms/step\n"
     ]
    },
    {
     "name": "stderr",
     "output_type": "stream",
     "text": [
      "127.0.0.1 - - [05/Mar/2024 16:35:27] \"POST /epa/upload HTTP/1.1\" 200 -\n"
     ]
    },
    {
     "name": "stdout",
     "output_type": "stream",
     "text": [
      "결과: 스텝 포워드 다이나믹 런지\n",
      "정확도: 100.00%\n",
      "1/1 [==============================] - 0s 20ms/step\n"
     ]
    },
    {
     "name": "stderr",
     "output_type": "stream",
     "text": [
      "127.0.0.1 - - [05/Mar/2024 16:35:28] \"POST /epa/upload HTTP/1.1\" 200 -\n"
     ]
    },
    {
     "name": "stdout",
     "output_type": "stream",
     "text": [
      "결과: 스탠딩 사이드 크런치\n",
      "정확도: 55.65%\n",
      "1/1 [==============================] - 0s 20ms/step\n"
     ]
    },
    {
     "name": "stderr",
     "output_type": "stream",
     "text": [
      "127.0.0.1 - - [05/Mar/2024 16:35:28] \"POST /epa/upload HTTP/1.1\" 200 -\n",
      "127.0.0.1 - - [05/Mar/2024 16:35:28] \"POST /epa/upload HTTP/1.1\" 200 -\n"
     ]
    },
    {
     "name": "stdout",
     "output_type": "stream",
     "text": [
      "결과: 스텝 포워드 다이나믹 런지\n",
      "정확도: 100.00%\n",
      "Pose detection failed.\n",
      "1/1 [==============================] - 0s 21ms/step\n"
     ]
    },
    {
     "name": "stderr",
     "output_type": "stream",
     "text": [
      "127.0.0.1 - - [05/Mar/2024 16:35:28] \"POST /epa/upload HTTP/1.1\" 200 -\n",
      "127.0.0.1 - - [05/Mar/2024 16:35:28] \"POST /epa/upload HTTP/1.1\" 200 -\n"
     ]
    },
    {
     "name": "stdout",
     "output_type": "stream",
     "text": [
      "결과: 스텝 포워드 다이나믹 런지\n",
      "정확도: 64.55%\n",
      "Pose detection failed.\n"
     ]
    },
    {
     "name": "stderr",
     "output_type": "stream",
     "text": [
      "127.0.0.1 - - [05/Mar/2024 16:35:29] \"POST /epa/upload HTTP/1.1\" 200 -\n"
     ]
    },
    {
     "name": "stdout",
     "output_type": "stream",
     "text": [
      "Pose detection failed.\n"
     ]
    },
    {
     "name": "stderr",
     "output_type": "stream",
     "text": [
      "127.0.0.1 - - [05/Mar/2024 16:35:29] \"POST /epa/upload HTTP/1.1\" 200 -\n"
     ]
    },
    {
     "name": "stdout",
     "output_type": "stream",
     "text": [
      "Pose detection failed.\n"
     ]
    },
    {
     "name": "stderr",
     "output_type": "stream",
     "text": [
      "127.0.0.1 - - [05/Mar/2024 16:35:29] \"POST /epa/upload HTTP/1.1\" 200 -\n"
     ]
    },
    {
     "name": "stdout",
     "output_type": "stream",
     "text": [
      "Pose detection failed.\n"
     ]
    },
    {
     "name": "stderr",
     "output_type": "stream",
     "text": [
      "127.0.0.1 - - [05/Mar/2024 16:35:29] \"POST /epa/upload HTTP/1.1\" 200 -\n"
     ]
    },
    {
     "name": "stdout",
     "output_type": "stream",
     "text": [
      "Pose detection failed.\n"
     ]
    },
    {
     "name": "stderr",
     "output_type": "stream",
     "text": [
      "127.0.0.1 - - [05/Mar/2024 16:35:30] \"POST /epa/upload HTTP/1.1\" 200 -\n"
     ]
    },
    {
     "name": "stdout",
     "output_type": "stream",
     "text": [
      "Pose detection failed.\n"
     ]
    },
    {
     "name": "stderr",
     "output_type": "stream",
     "text": [
      "127.0.0.1 - - [05/Mar/2024 16:35:30] \"POST /epa/upload HTTP/1.1\" 200 -\n"
     ]
    },
    {
     "name": "stdout",
     "output_type": "stream",
     "text": [
      "Pose detection failed.\n"
     ]
    },
    {
     "name": "stderr",
     "output_type": "stream",
     "text": [
      "127.0.0.1 - - [05/Mar/2024 16:35:31] \"POST /epa/upload HTTP/1.1\" 200 -\n",
      "127.0.0.1 - - [05/Mar/2024 16:35:31] \"GET /socket.io/?EIO=4&transport=websocket&sid=nPEzNPdco4dDhn4vAAAC HTTP/1.1\" 200 -\n"
     ]
    },
    {
     "name": "stdout",
     "output_type": "stream",
     "text": [
      "Pose detection failed.\n",
      "WebSocket connection closed.\n"
     ]
    },
    {
     "name": "stderr",
     "output_type": "stream",
     "text": [
      "127.0.0.1 - - [05/Mar/2024 16:35:31] \"POST /epa/upload HTTP/1.1\" 200 -\n"
     ]
    },
    {
     "name": "stdout",
     "output_type": "stream",
     "text": [
      "Pose detection failed.\n"
     ]
    },
    {
     "name": "stderr",
     "output_type": "stream",
     "text": [
      "127.0.0.1 - - [05/Mar/2024 16:35:32] \"GET /socket.io/?EIO=4&transport=polling&t=OuDYW7R HTTP/1.1\" 200 -\n",
      "127.0.0.1 - - [05/Mar/2024 16:35:32] \"POST /socket.io/?EIO=4&transport=polling&t=OuDYW7Y&sid=VLUvMrEKpEwoKsVkAAAE HTTP/1.1\" 200 -\n",
      "127.0.0.1 - - [05/Mar/2024 16:35:32] \"GET /socket.io/?EIO=4&transport=polling&t=OuDYW7Y.0&sid=VLUvMrEKpEwoKsVkAAAE HTTP/1.1\" 200 -\n"
     ]
    },
    {
     "name": "stdout",
     "output_type": "stream",
     "text": [
      "WebSocket connection opened.\n",
      "1/1 [==============================] - 0s 20ms/step\n"
     ]
    },
    {
     "name": "stderr",
     "output_type": "stream",
     "text": [
      "127.0.0.1 - - [05/Mar/2024 16:35:33] \"POST /epa/upload HTTP/1.1\" 200 -\n"
     ]
    },
    {
     "name": "stdout",
     "output_type": "stream",
     "text": [
      "결과: 스텝 포워드 다이나믹 런지\n",
      "정확도: 50.64%\n"
     ]
    },
    {
     "name": "stderr",
     "output_type": "stream",
     "text": [
      "127.0.0.1 - - [05/Mar/2024 16:35:34] \"POST /epa/upload HTTP/1.1\" 200 -\n"
     ]
    },
    {
     "name": "stdout",
     "output_type": "stream",
     "text": [
      "Pose detection failed.\n",
      "1/1 [==============================] - 0s 22ms/step\n"
     ]
    },
    {
     "name": "stderr",
     "output_type": "stream",
     "text": [
      "127.0.0.1 - - [05/Mar/2024 16:35:34] \"POST /epa/upload HTTP/1.1\" 200 -\n"
     ]
    },
    {
     "name": "stdout",
     "output_type": "stream",
     "text": [
      "결과: 스탠딩 사이드 크런치\n",
      "정확도: 53.36%\n",
      "1/1 [==============================] - 0s 22ms/step\n"
     ]
    },
    {
     "name": "stderr",
     "output_type": "stream",
     "text": [
      "127.0.0.1 - - [05/Mar/2024 16:35:34] \"POST /epa/upload HTTP/1.1\" 200 -\n"
     ]
    },
    {
     "name": "stdout",
     "output_type": "stream",
     "text": [
      "결과: 스탠딩 사이드 크런치\n",
      "정확도: 53.89%\n",
      "1/1 [==============================] - 0s 20ms/step\n"
     ]
    },
    {
     "name": "stderr",
     "output_type": "stream",
     "text": [
      "127.0.0.1 - - [05/Mar/2024 16:35:35] \"POST /epa/upload HTTP/1.1\" 200 -\n"
     ]
    },
    {
     "name": "stdout",
     "output_type": "stream",
     "text": [
      "결과: 스탠딩 사이드 크런치\n",
      "정확도: 99.81%\n",
      "1/1 [==============================] - 0s 22ms/step\n"
     ]
    },
    {
     "name": "stderr",
     "output_type": "stream",
     "text": [
      "127.0.0.1 - - [05/Mar/2024 16:35:35] \"POST /epa/upload HTTP/1.1\" 200 -\n"
     ]
    },
    {
     "name": "stdout",
     "output_type": "stream",
     "text": [
      "결과: 스탠딩 사이드 크런치\n",
      "정확도: 99.63%\n",
      "1/1 [==============================] - 0s 21ms/step\n"
     ]
    },
    {
     "name": "stderr",
     "output_type": "stream",
     "text": [
      "127.0.0.1 - - [05/Mar/2024 16:35:35] \"POST /epa/upload HTTP/1.1\" 200 -\n"
     ]
    },
    {
     "name": "stdout",
     "output_type": "stream",
     "text": [
      "결과: 스탠딩 사이드 크런치\n",
      "정확도: 99.92%\n",
      "1/1 [==============================] - 0s 21ms/step\n"
     ]
    },
    {
     "name": "stderr",
     "output_type": "stream",
     "text": [
      "127.0.0.1 - - [05/Mar/2024 16:35:35] \"POST /epa/upload HTTP/1.1\" 200 -\n"
     ]
    },
    {
     "name": "stdout",
     "output_type": "stream",
     "text": [
      "결과: 스탠딩 사이드 크런치\n",
      "정확도: 99.90%\n",
      "1/1 [==============================] - 0s 21ms/step\n"
     ]
    },
    {
     "name": "stderr",
     "output_type": "stream",
     "text": [
      "127.0.0.1 - - [05/Mar/2024 16:35:35] \"POST /epa/upload HTTP/1.1\" 200 -\n"
     ]
    },
    {
     "name": "stdout",
     "output_type": "stream",
     "text": [
      "결과: 스탠딩 사이드 크런치\n",
      "정확도: 99.93%\n",
      "1/1 [==============================] - 0s 21ms/step\n"
     ]
    },
    {
     "name": "stderr",
     "output_type": "stream",
     "text": [
      "127.0.0.1 - - [05/Mar/2024 16:35:36] \"POST /epa/upload HTTP/1.1\" 200 -\n"
     ]
    },
    {
     "name": "stdout",
     "output_type": "stream",
     "text": [
      "결과: 스탠딩 사이드 크런치\n",
      "정확도: 99.92%\n",
      "1/1 [==============================] - 0s 20ms/step\n"
     ]
    },
    {
     "name": "stderr",
     "output_type": "stream",
     "text": [
      "127.0.0.1 - - [05/Mar/2024 16:35:36] \"POST /epa/upload HTTP/1.1\" 200 -\n"
     ]
    },
    {
     "name": "stdout",
     "output_type": "stream",
     "text": [
      "결과: 스탠딩 사이드 크런치\n",
      "정확도: 99.89%\n",
      "1/1 [==============================] - 0s 21ms/step\n"
     ]
    },
    {
     "name": "stderr",
     "output_type": "stream",
     "text": [
      "127.0.0.1 - - [05/Mar/2024 16:35:36] \"POST /epa/upload HTTP/1.1\" 200 -\n"
     ]
    },
    {
     "name": "stdout",
     "output_type": "stream",
     "text": [
      "결과: 스탠딩 사이드 크런치\n",
      "정확도: 99.86%\n",
      "1/1 [==============================] - 0s 20ms/step\n"
     ]
    },
    {
     "name": "stderr",
     "output_type": "stream",
     "text": [
      "127.0.0.1 - - [05/Mar/2024 16:35:36] \"POST /epa/upload HTTP/1.1\" 200 -\n"
     ]
    },
    {
     "name": "stdout",
     "output_type": "stream",
     "text": [
      "결과: 스탠딩 사이드 크런치\n",
      "정확도: 99.86%\n",
      "1/1 [==============================] - 0s 19ms/step\n"
     ]
    },
    {
     "name": "stderr",
     "output_type": "stream",
     "text": [
      "127.0.0.1 - - [05/Mar/2024 16:35:37] \"POST /epa/upload HTTP/1.1\" 200 -\n"
     ]
    },
    {
     "name": "stdout",
     "output_type": "stream",
     "text": [
      "결과: 스탠딩 사이드 크런치\n",
      "정확도: 99.80%\n",
      "1/1 [==============================] - 0s 21ms/step\n"
     ]
    },
    {
     "name": "stderr",
     "output_type": "stream",
     "text": [
      "127.0.0.1 - - [05/Mar/2024 16:35:37] \"POST /epa/upload HTTP/1.1\" 200 -\n"
     ]
    },
    {
     "name": "stdout",
     "output_type": "stream",
     "text": [
      "결과: 스탠딩 사이드 크런치\n",
      "정확도: 99.87%\n",
      "1/1 [==============================] - 0s 21ms/step\n"
     ]
    },
    {
     "name": "stderr",
     "output_type": "stream",
     "text": [
      "127.0.0.1 - - [05/Mar/2024 16:35:37] \"POST /epa/upload HTTP/1.1\" 200 -\n"
     ]
    },
    {
     "name": "stdout",
     "output_type": "stream",
     "text": [
      "결과: 스탠딩 사이드 크런치\n",
      "정확도: 99.90%\n",
      "1/1 [==============================] - 0s 20ms/step\n"
     ]
    },
    {
     "name": "stderr",
     "output_type": "stream",
     "text": [
      "127.0.0.1 - - [05/Mar/2024 16:35:37] \"POST /epa/upload HTTP/1.1\" 200 -\n"
     ]
    },
    {
     "name": "stdout",
     "output_type": "stream",
     "text": [
      "결과: 스탠딩 사이드 크런치\n",
      "정확도: 99.88%\n",
      "1/1 [==============================] - 0s 20ms/step\n"
     ]
    },
    {
     "name": "stderr",
     "output_type": "stream",
     "text": [
      "127.0.0.1 - - [05/Mar/2024 16:35:37] \"POST /epa/upload HTTP/1.1\" 200 -\n"
     ]
    },
    {
     "name": "stdout",
     "output_type": "stream",
     "text": [
      "결과: 스탠딩 사이드 크런치\n",
      "정확도: 99.88%\n",
      "1/1 [==============================] - 0s 20ms/step\n"
     ]
    },
    {
     "name": "stderr",
     "output_type": "stream",
     "text": [
      "127.0.0.1 - - [05/Mar/2024 16:35:38] \"POST /epa/upload HTTP/1.1\" 200 -\n"
     ]
    },
    {
     "name": "stdout",
     "output_type": "stream",
     "text": [
      "결과: 스탠딩 사이드 크런치\n",
      "정확도: 98.80%\n",
      "1/1 [==============================] - 0s 22ms/step\n"
     ]
    },
    {
     "name": "stderr",
     "output_type": "stream",
     "text": [
      "127.0.0.1 - - [05/Mar/2024 16:35:38] \"POST /epa/upload HTTP/1.1\" 200 -\n"
     ]
    },
    {
     "name": "stdout",
     "output_type": "stream",
     "text": [
      "결과: 스텝 포워드 다이나믹 런지\n",
      "정확도: 70.00%\n",
      "1/1 [==============================] - 0s 21ms/step\n"
     ]
    },
    {
     "name": "stderr",
     "output_type": "stream",
     "text": [
      "127.0.0.1 - - [05/Mar/2024 16:35:38] \"POST /epa/upload HTTP/1.1\" 200 -\n"
     ]
    },
    {
     "name": "stdout",
     "output_type": "stream",
     "text": [
      "결과: 스텝 포워드 다이나믹 런지\n",
      "정확도: 61.44%\n",
      "1/1 [==============================] - 0s 21ms/step\n"
     ]
    },
    {
     "name": "stderr",
     "output_type": "stream",
     "text": [
      "127.0.0.1 - - [05/Mar/2024 16:35:38] \"POST /epa/upload HTTP/1.1\" 200 -\n"
     ]
    },
    {
     "name": "stdout",
     "output_type": "stream",
     "text": [
      "결과: 스텝 포워드 다이나믹 런지\n",
      "정확도: 61.88%\n",
      "1/1 [==============================] - 0s 20ms/step\n"
     ]
    },
    {
     "name": "stderr",
     "output_type": "stream",
     "text": [
      "127.0.0.1 - - [05/Mar/2024 16:35:39] \"POST /epa/upload HTTP/1.1\" 200 -\n"
     ]
    },
    {
     "name": "stdout",
     "output_type": "stream",
     "text": [
      "결과: 스텝 포워드 다이나믹 런지\n",
      "정확도: 71.82%\n",
      "1/1 [==============================] - 0s 20ms/step\n"
     ]
    },
    {
     "name": "stderr",
     "output_type": "stream",
     "text": [
      "127.0.0.1 - - [05/Mar/2024 16:35:39] \"POST /epa/upload HTTP/1.1\" 200 -\n"
     ]
    },
    {
     "name": "stdout",
     "output_type": "stream",
     "text": [
      "결과: 스텝 포워드 다이나믹 런지\n",
      "정확도: 73.81%\n",
      "1/1 [==============================] - 0s 21ms/step\n"
     ]
    },
    {
     "name": "stderr",
     "output_type": "stream",
     "text": [
      "127.0.0.1 - - [05/Mar/2024 16:35:39] \"POST /epa/upload HTTP/1.1\" 200 -\n"
     ]
    },
    {
     "name": "stdout",
     "output_type": "stream",
     "text": [
      "결과: 스텝 포워드 다이나믹 런지\n",
      "정확도: 81.65%\n",
      "1/1 [==============================] - 0s 21ms/step\n"
     ]
    },
    {
     "name": "stderr",
     "output_type": "stream",
     "text": [
      "127.0.0.1 - - [05/Mar/2024 16:35:39] \"POST /epa/upload HTTP/1.1\" 200 -\n"
     ]
    },
    {
     "name": "stdout",
     "output_type": "stream",
     "text": [
      "결과: 스텝 포워드 다이나믹 런지\n",
      "정확도: 89.05%\n",
      "1/1 [==============================] - 0s 20ms/step\n"
     ]
    },
    {
     "name": "stderr",
     "output_type": "stream",
     "text": [
      "127.0.0.1 - - [05/Mar/2024 16:35:39] \"POST /epa/upload HTTP/1.1\" 200 -\n"
     ]
    },
    {
     "name": "stdout",
     "output_type": "stream",
     "text": [
      "결과: 스텝 포워드 다이나믹 런지\n",
      "정확도: 96.24%\n",
      "1/1 [==============================] - 0s 20ms/step\n"
     ]
    },
    {
     "name": "stderr",
     "output_type": "stream",
     "text": [
      "127.0.0.1 - - [05/Mar/2024 16:35:40] \"POST /epa/upload HTTP/1.1\" 200 -\n"
     ]
    },
    {
     "name": "stdout",
     "output_type": "stream",
     "text": [
      "결과: 스텝 포워드 다이나믹 런지\n",
      "정확도: 99.66%\n",
      "1/1 [==============================] - 0s 19ms/step\n"
     ]
    },
    {
     "name": "stderr",
     "output_type": "stream",
     "text": [
      "127.0.0.1 - - [05/Mar/2024 16:35:40] \"POST /epa/upload HTTP/1.1\" 200 -\n"
     ]
    },
    {
     "name": "stdout",
     "output_type": "stream",
     "text": [
      "결과: 스텝 포워드 다이나믹 런지\n",
      "정확도: 99.98%\n",
      "1/1 [==============================] - 0s 20ms/step\n"
     ]
    },
    {
     "name": "stderr",
     "output_type": "stream",
     "text": [
      "127.0.0.1 - - [05/Mar/2024 16:35:40] \"POST /epa/upload HTTP/1.1\" 200 -\n"
     ]
    },
    {
     "name": "stdout",
     "output_type": "stream",
     "text": [
      "결과: 스텝 포워드 다이나믹 런지\n",
      "정확도: 99.99%\n",
      "1/1 [==============================] - 0s 21ms/step\n"
     ]
    },
    {
     "name": "stderr",
     "output_type": "stream",
     "text": [
      "127.0.0.1 - - [05/Mar/2024 16:35:40] \"POST /epa/upload HTTP/1.1\" 200 -\n"
     ]
    },
    {
     "name": "stdout",
     "output_type": "stream",
     "text": [
      "결과: 스텝 포워드 다이나믹 런지\n",
      "정확도: 99.99%\n",
      "1/1 [==============================] - 0s 21ms/step\n"
     ]
    },
    {
     "name": "stderr",
     "output_type": "stream",
     "text": [
      "127.0.0.1 - - [05/Mar/2024 16:35:41] \"POST /epa/upload HTTP/1.1\" 200 -\n"
     ]
    },
    {
     "name": "stdout",
     "output_type": "stream",
     "text": [
      "결과: 스텝 포워드 다이나믹 런지\n",
      "정확도: 100.00%\n",
      "1/1 [==============================] - 0s 20ms/step\n"
     ]
    },
    {
     "name": "stderr",
     "output_type": "stream",
     "text": [
      "127.0.0.1 - - [05/Mar/2024 16:35:41] \"POST /epa/upload HTTP/1.1\" 200 -\n"
     ]
    },
    {
     "name": "stdout",
     "output_type": "stream",
     "text": [
      "결과: 스텝 포워드 다이나믹 런지\n",
      "정확도: 100.00%\n",
      "1/1 [==============================] - 0s 20ms/step\n"
     ]
    },
    {
     "name": "stderr",
     "output_type": "stream",
     "text": [
      "127.0.0.1 - - [05/Mar/2024 16:35:41] \"POST /epa/upload HTTP/1.1\" 200 -\n"
     ]
    },
    {
     "name": "stdout",
     "output_type": "stream",
     "text": [
      "결과: 스텝 포워드 다이나믹 런지\n",
      "정확도: 99.99%\n",
      "1/1 [==============================] - 0s 22ms/step\n"
     ]
    },
    {
     "name": "stderr",
     "output_type": "stream",
     "text": [
      "127.0.0.1 - - [05/Mar/2024 16:35:41] \"POST /epa/upload HTTP/1.1\" 200 -\n"
     ]
    },
    {
     "name": "stdout",
     "output_type": "stream",
     "text": [
      "결과: 스텝 포워드 다이나믹 런지\n",
      "정확도: 99.96%\n",
      "1/1 [==============================] - 0s 20ms/step\n"
     ]
    },
    {
     "name": "stderr",
     "output_type": "stream",
     "text": [
      "127.0.0.1 - - [05/Mar/2024 16:35:41] \"POST /epa/upload HTTP/1.1\" 200 -\n"
     ]
    },
    {
     "name": "stdout",
     "output_type": "stream",
     "text": [
      "결과: 스텝 포워드 다이나믹 런지\n",
      "정확도: 99.05%\n",
      "1/1 [==============================] - 0s 22ms/step\n"
     ]
    },
    {
     "name": "stderr",
     "output_type": "stream",
     "text": [
      "127.0.0.1 - - [05/Mar/2024 16:35:42] \"POST /epa/upload HTTP/1.1\" 200 -\n"
     ]
    },
    {
     "name": "stdout",
     "output_type": "stream",
     "text": [
      "결과: 스텝 포워드 다이나믹 런지\n",
      "정확도: 94.95%\n",
      "1/1 [==============================] - 0s 20ms/step\n"
     ]
    },
    {
     "name": "stderr",
     "output_type": "stream",
     "text": [
      "127.0.0.1 - - [05/Mar/2024 16:35:42] \"POST /epa/upload HTTP/1.1\" 200 -\n"
     ]
    },
    {
     "name": "stdout",
     "output_type": "stream",
     "text": [
      "결과: 스텝 포워드 다이나믹 런지\n",
      "정확도: 91.19%\n",
      "1/1 [==============================] - 0s 20ms/step\n"
     ]
    },
    {
     "name": "stderr",
     "output_type": "stream",
     "text": [
      "127.0.0.1 - - [05/Mar/2024 16:35:42] \"POST /epa/upload HTTP/1.1\" 200 -\n"
     ]
    },
    {
     "name": "stdout",
     "output_type": "stream",
     "text": [
      "결과: 스텝 포워드 다이나믹 런지\n",
      "정확도: 61.96%\n",
      "1/1 [==============================] - 0s 20ms/step\n"
     ]
    },
    {
     "name": "stderr",
     "output_type": "stream",
     "text": [
      "127.0.0.1 - - [05/Mar/2024 16:35:42] \"POST /epa/upload HTTP/1.1\" 200 -\n"
     ]
    },
    {
     "name": "stdout",
     "output_type": "stream",
     "text": [
      "결과: 스텝 포워드 다이나믹 런지\n",
      "정확도: 57.00%\n",
      "1/1 [==============================] - 0s 21ms/step\n"
     ]
    },
    {
     "name": "stderr",
     "output_type": "stream",
     "text": [
      "127.0.0.1 - - [05/Mar/2024 16:35:42] \"POST /epa/upload HTTP/1.1\" 200 -\n"
     ]
    },
    {
     "name": "stdout",
     "output_type": "stream",
     "text": [
      "결과: 스텝 포워드 다이나믹 런지\n",
      "정확도: 64.42%\n",
      "1/1 [==============================] - 0s 21ms/step\n"
     ]
    },
    {
     "name": "stderr",
     "output_type": "stream",
     "text": [
      "127.0.0.1 - - [05/Mar/2024 16:35:43] \"POST /epa/upload HTTP/1.1\" 200 -\n"
     ]
    },
    {
     "name": "stdout",
     "output_type": "stream",
     "text": [
      "결과: 스텝 포워드 다이나믹 런지\n",
      "정확도: 54.38%\n",
      "1/1 [==============================] - 0s 21ms/step\n"
     ]
    },
    {
     "name": "stderr",
     "output_type": "stream",
     "text": [
      "127.0.0.1 - - [05/Mar/2024 16:35:43] \"POST /epa/upload HTTP/1.1\" 200 -\n"
     ]
    },
    {
     "name": "stdout",
     "output_type": "stream",
     "text": [
      "결과: 스탠딩 사이드 크런치\n",
      "정확도: 58.52%\n",
      "1/1 [==============================] - 0s 21ms/step\n"
     ]
    },
    {
     "name": "stderr",
     "output_type": "stream",
     "text": [
      "127.0.0.1 - - [05/Mar/2024 16:35:43] \"POST /epa/upload HTTP/1.1\" 200 -\n"
     ]
    },
    {
     "name": "stdout",
     "output_type": "stream",
     "text": [
      "결과: 스텝 포워드 다이나믹 런지\n",
      "정확도: 53.57%\n",
      "1/1 [==============================] - 0s 20ms/step\n"
     ]
    },
    {
     "name": "stderr",
     "output_type": "stream",
     "text": [
      "127.0.0.1 - - [05/Mar/2024 16:35:43] \"POST /epa/upload HTTP/1.1\" 200 -\n"
     ]
    },
    {
     "name": "stdout",
     "output_type": "stream",
     "text": [
      "결과: 스탠딩 사이드 크런치\n",
      "정확도: 55.14%\n",
      "1/1 [==============================] - 0s 21ms/step\n"
     ]
    },
    {
     "name": "stderr",
     "output_type": "stream",
     "text": [
      "127.0.0.1 - - [05/Mar/2024 16:35:44] \"POST /epa/upload HTTP/1.1\" 200 -\n"
     ]
    },
    {
     "name": "stdout",
     "output_type": "stream",
     "text": [
      "결과: 스탠딩 사이드 크런치\n",
      "정확도: 49.95%\n",
      "1/1 [==============================] - 0s 21ms/step\n"
     ]
    },
    {
     "name": "stderr",
     "output_type": "stream",
     "text": [
      "127.0.0.1 - - [05/Mar/2024 16:35:44] \"POST /epa/upload HTTP/1.1\" 200 -\n"
     ]
    },
    {
     "name": "stdout",
     "output_type": "stream",
     "text": [
      "결과: 스텝 포워드 다이나믹 런지\n",
      "정확도: 61.76%\n",
      "1/1 [==============================] - 0s 20ms/step\n"
     ]
    },
    {
     "name": "stderr",
     "output_type": "stream",
     "text": [
      "127.0.0.1 - - [05/Mar/2024 16:35:44] \"POST /epa/upload HTTP/1.1\" 200 -\n"
     ]
    },
    {
     "name": "stdout",
     "output_type": "stream",
     "text": [
      "결과: 스텝 포워드 다이나믹 런지\n",
      "정확도: 52.85%\n",
      "1/1 [==============================] - 0s 21ms/step\n"
     ]
    },
    {
     "name": "stderr",
     "output_type": "stream",
     "text": [
      "127.0.0.1 - - [05/Mar/2024 16:35:44] \"POST /epa/upload HTTP/1.1\" 200 -\n"
     ]
    },
    {
     "name": "stdout",
     "output_type": "stream",
     "text": [
      "결과: 스탠딩 사이드 크런치\n",
      "정확도: 63.69%\n",
      "1/1 [==============================] - 0s 20ms/step\n"
     ]
    },
    {
     "name": "stderr",
     "output_type": "stream",
     "text": [
      "127.0.0.1 - - [05/Mar/2024 16:35:44] \"POST /epa/upload HTTP/1.1\" 200 -\n"
     ]
    },
    {
     "name": "stdout",
     "output_type": "stream",
     "text": [
      "결과: 스탠딩 사이드 크런치\n",
      "정확도: 63.63%\n",
      "1/1 [==============================] - 0s 21ms/step\n"
     ]
    },
    {
     "name": "stderr",
     "output_type": "stream",
     "text": [
      "127.0.0.1 - - [05/Mar/2024 16:35:45] \"POST /epa/upload HTTP/1.1\" 200 -\n"
     ]
    },
    {
     "name": "stdout",
     "output_type": "stream",
     "text": [
      "결과: 스텝 포워드 다이나믹 런지\n",
      "정확도: 58.24%\n",
      "1/1 [==============================] - 0s 20ms/step\n"
     ]
    },
    {
     "name": "stderr",
     "output_type": "stream",
     "text": [
      "127.0.0.1 - - [05/Mar/2024 16:35:45] \"POST /epa/upload HTTP/1.1\" 200 -\n"
     ]
    },
    {
     "name": "stdout",
     "output_type": "stream",
     "text": [
      "결과: 스텝 포워드 다이나믹 런지\n",
      "정확도: 92.10%\n",
      "Good!\n",
      "1/1 [==============================] - 0s 20ms/step\n"
     ]
    },
    {
     "name": "stderr",
     "output_type": "stream",
     "text": [
      "127.0.0.1 - - [05/Mar/2024 16:35:45] \"POST /epa/upload HTTP/1.1\" 200 -\n"
     ]
    },
    {
     "name": "stdout",
     "output_type": "stream",
     "text": [
      "결과: 스텝 포워드 다이나믹 런지\n",
      "정확도: 96.44%\n",
      "1/1 [==============================] - 0s 21ms/step\n"
     ]
    },
    {
     "name": "stderr",
     "output_type": "stream",
     "text": [
      "127.0.0.1 - - [05/Mar/2024 16:35:45] \"POST /epa/upload HTTP/1.1\" 200 -\n"
     ]
    },
    {
     "name": "stdout",
     "output_type": "stream",
     "text": [
      "결과: 스텝 포워드 다이나믹 런지\n",
      "정확도: 96.54%\n",
      "1/1 [==============================] - 0s 20ms/step\n"
     ]
    },
    {
     "name": "stderr",
     "output_type": "stream",
     "text": [
      "127.0.0.1 - - [05/Mar/2024 16:35:46] \"POST /epa/upload HTTP/1.1\" 200 -\n"
     ]
    },
    {
     "name": "stdout",
     "output_type": "stream",
     "text": [
      "결과: 스텝 포워드 다이나믹 런지\n",
      "정확도: 97.11%\n",
      "1/1 [==============================] - 0s 22ms/step\n"
     ]
    },
    {
     "name": "stderr",
     "output_type": "stream",
     "text": [
      "127.0.0.1 - - [05/Mar/2024 16:35:46] \"POST /epa/upload HTTP/1.1\" 200 -\n"
     ]
    },
    {
     "name": "stdout",
     "output_type": "stream",
     "text": [
      "결과: 스텝 포워드 다이나믹 런지\n",
      "정확도: 97.27%\n",
      "1/1 [==============================] - 0s 20ms/step\n"
     ]
    },
    {
     "name": "stderr",
     "output_type": "stream",
     "text": [
      "127.0.0.1 - - [05/Mar/2024 16:35:46] \"POST /epa/upload HTTP/1.1\" 200 -\n"
     ]
    },
    {
     "name": "stdout",
     "output_type": "stream",
     "text": [
      "결과: 스텝 포워드 다이나믹 런지\n",
      "정확도: 95.68%\n",
      "1/1 [==============================] - 0s 21ms/step\n"
     ]
    },
    {
     "name": "stderr",
     "output_type": "stream",
     "text": [
      "127.0.0.1 - - [05/Mar/2024 16:35:46] \"POST /epa/upload HTTP/1.1\" 200 -\n"
     ]
    },
    {
     "name": "stdout",
     "output_type": "stream",
     "text": [
      "결과: 스텝 포워드 다이나믹 런지\n",
      "정확도: 90.05%\n",
      "Good!\n",
      "1/1 [==============================] - 0s 20ms/step\n"
     ]
    },
    {
     "name": "stderr",
     "output_type": "stream",
     "text": [
      "127.0.0.1 - - [05/Mar/2024 16:35:46] \"POST /epa/upload HTTP/1.1\" 200 -\n"
     ]
    },
    {
     "name": "stdout",
     "output_type": "stream",
     "text": [
      "결과: 스텝 포워드 다이나믹 런지\n",
      "정확도: 77.67%\n",
      "1/1 [==============================] - 0s 21ms/step\n"
     ]
    },
    {
     "name": "stderr",
     "output_type": "stream",
     "text": [
      "127.0.0.1 - - [05/Mar/2024 16:35:47] \"POST /epa/upload HTTP/1.1\" 200 -\n"
     ]
    },
    {
     "name": "stdout",
     "output_type": "stream",
     "text": [
      "결과: 스텝 포워드 다이나믹 런지\n",
      "정확도: 59.03%\n",
      "1/1 [==============================] - 0s 21ms/step\n"
     ]
    },
    {
     "name": "stderr",
     "output_type": "stream",
     "text": [
      "127.0.0.1 - - [05/Mar/2024 16:35:47] \"POST /epa/upload HTTP/1.1\" 200 -\n"
     ]
    },
    {
     "name": "stdout",
     "output_type": "stream",
     "text": [
      "결과: 스텝 포워드 다이나믹 런지\n",
      "정확도: 61.35%\n",
      "1/1 [==============================] - 0s 20ms/step\n"
     ]
    },
    {
     "name": "stderr",
     "output_type": "stream",
     "text": [
      "127.0.0.1 - - [05/Mar/2024 16:35:47] \"POST /epa/upload HTTP/1.1\" 200 -\n"
     ]
    },
    {
     "name": "stdout",
     "output_type": "stream",
     "text": [
      "결과: 스텝 포워드 다이나믹 런지\n",
      "정확도: 63.20%\n",
      "1/1 [==============================] - 0s 21ms/step\n"
     ]
    },
    {
     "name": "stderr",
     "output_type": "stream",
     "text": [
      "127.0.0.1 - - [05/Mar/2024 16:35:47] \"POST /epa/upload HTTP/1.1\" 200 -\n"
     ]
    },
    {
     "name": "stdout",
     "output_type": "stream",
     "text": [
      "결과: 스텝 포워드 다이나믹 런지\n",
      "정확도: 73.57%\n",
      "1/1 [==============================] - 0s 23ms/step\n"
     ]
    },
    {
     "name": "stderr",
     "output_type": "stream",
     "text": [
      "127.0.0.1 - - [05/Mar/2024 16:35:48] \"POST /epa/upload HTTP/1.1\" 200 -\n"
     ]
    },
    {
     "name": "stdout",
     "output_type": "stream",
     "text": [
      "결과: 스텝 포워드 다이나믹 런지\n",
      "정확도: 85.71%\n",
      "1/1 [==============================] - 0s 20ms/step\n"
     ]
    },
    {
     "name": "stderr",
     "output_type": "stream",
     "text": [
      "127.0.0.1 - - [05/Mar/2024 16:35:48] \"POST /epa/upload HTTP/1.1\" 200 -\n"
     ]
    },
    {
     "name": "stdout",
     "output_type": "stream",
     "text": [
      "결과: 스텝 포워드 다이나믹 런지\n",
      "정확도: 99.53%\n",
      "1/1 [==============================] - 0s 23ms/step\n"
     ]
    },
    {
     "name": "stderr",
     "output_type": "stream",
     "text": [
      "127.0.0.1 - - [05/Mar/2024 16:35:48] \"POST /epa/upload HTTP/1.1\" 200 -\n"
     ]
    },
    {
     "name": "stdout",
     "output_type": "stream",
     "text": [
      "결과: 스텝 포워드 다이나믹 런지\n",
      "정확도: 99.70%\n",
      "1/1 [==============================] - 0s 21ms/step\n"
     ]
    },
    {
     "name": "stderr",
     "output_type": "stream",
     "text": [
      "127.0.0.1 - - [05/Mar/2024 16:35:48] \"POST /epa/upload HTTP/1.1\" 200 -\n"
     ]
    },
    {
     "name": "stdout",
     "output_type": "stream",
     "text": [
      "결과: 스텝 포워드 다이나믹 런지\n",
      "정확도: 99.84%\n",
      "1/1 [==============================] - 0s 20ms/step\n"
     ]
    },
    {
     "name": "stderr",
     "output_type": "stream",
     "text": [
      "127.0.0.1 - - [05/Mar/2024 16:35:48] \"POST /epa/upload HTTP/1.1\" 200 -\n"
     ]
    },
    {
     "name": "stdout",
     "output_type": "stream",
     "text": [
      "결과: 스텝 포워드 다이나믹 런지\n",
      "정확도: 99.89%\n",
      "1/1 [==============================] - 0s 21ms/step\n"
     ]
    },
    {
     "name": "stderr",
     "output_type": "stream",
     "text": [
      "127.0.0.1 - - [05/Mar/2024 16:35:49] \"POST /epa/upload HTTP/1.1\" 200 -\n"
     ]
    },
    {
     "name": "stdout",
     "output_type": "stream",
     "text": [
      "결과: 스텝 포워드 다이나믹 런지\n",
      "정확도: 99.95%\n",
      "1/1 [==============================] - 0s 20ms/step\n"
     ]
    },
    {
     "name": "stderr",
     "output_type": "stream",
     "text": [
      "127.0.0.1 - - [05/Mar/2024 16:35:49] \"POST /epa/upload HTTP/1.1\" 200 -\n"
     ]
    },
    {
     "name": "stdout",
     "output_type": "stream",
     "text": [
      "결과: 스텝 포워드 다이나믹 런지\n",
      "정확도: 99.99%\n",
      "1/1 [==============================] - 0s 20ms/step\n"
     ]
    },
    {
     "name": "stderr",
     "output_type": "stream",
     "text": [
      "127.0.0.1 - - [05/Mar/2024 16:35:49] \"POST /epa/upload HTTP/1.1\" 200 -\n"
     ]
    },
    {
     "name": "stdout",
     "output_type": "stream",
     "text": [
      "결과: 스텝 포워드 다이나믹 런지\n",
      "정확도: 100.00%\n",
      "Good!\n",
      "1/1 [==============================] - 0s 21ms/step\n"
     ]
    },
    {
     "name": "stderr",
     "output_type": "stream",
     "text": [
      "127.0.0.1 - - [05/Mar/2024 16:35:49] \"POST /epa/upload HTTP/1.1\" 200 -\n"
     ]
    },
    {
     "name": "stdout",
     "output_type": "stream",
     "text": [
      "결과: 스텝 포워드 다이나믹 런지\n",
      "정확도: 100.00%\n",
      "Good!\n",
      "1/1 [==============================] - 0s 21ms/step\n"
     ]
    },
    {
     "name": "stderr",
     "output_type": "stream",
     "text": [
      "127.0.0.1 - - [05/Mar/2024 16:35:50] \"POST /epa/upload HTTP/1.1\" 200 -\n"
     ]
    },
    {
     "name": "stdout",
     "output_type": "stream",
     "text": [
      "결과: 스텝 포워드 다이나믹 런지\n",
      "정확도: 100.00%\n",
      "Good!\n",
      "1/1 [==============================] - 0s 23ms/step\n"
     ]
    },
    {
     "name": "stderr",
     "output_type": "stream",
     "text": [
      "127.0.0.1 - - [05/Mar/2024 16:35:50] \"POST /epa/upload HTTP/1.1\" 200 -\n"
     ]
    },
    {
     "name": "stdout",
     "output_type": "stream",
     "text": [
      "결과: 스텝 포워드 다이나믹 런지\n",
      "정확도: 100.00%\n",
      "1/1 [==============================] - 0s 20ms/step\n"
     ]
    },
    {
     "name": "stderr",
     "output_type": "stream",
     "text": [
      "127.0.0.1 - - [05/Mar/2024 16:35:50] \"POST /epa/upload HTTP/1.1\" 200 -\n"
     ]
    },
    {
     "name": "stdout",
     "output_type": "stream",
     "text": [
      "결과: 스텝 포워드 다이나믹 런지\n",
      "정확도: 100.00%\n",
      "1/1 [==============================] - 0s 20ms/step\n"
     ]
    },
    {
     "name": "stderr",
     "output_type": "stream",
     "text": [
      "127.0.0.1 - - [05/Mar/2024 16:35:50] \"POST /epa/upload HTTP/1.1\" 200 -\n"
     ]
    },
    {
     "name": "stdout",
     "output_type": "stream",
     "text": [
      "결과: 스텝 포워드 다이나믹 런지\n",
      "정확도: 100.00%\n",
      "Good!\n",
      "1/1 [==============================] - 0s 23ms/step\n"
     ]
    },
    {
     "name": "stderr",
     "output_type": "stream",
     "text": [
      "127.0.0.1 - - [05/Mar/2024 16:35:50] \"POST /epa/upload HTTP/1.1\" 200 -\n"
     ]
    },
    {
     "name": "stdout",
     "output_type": "stream",
     "text": [
      "결과: 스텝 포워드 다이나믹 런지\n",
      "정확도: 100.00%\n",
      "Good!\n",
      "1/1 [==============================] - 0s 21ms/step\n"
     ]
    },
    {
     "name": "stderr",
     "output_type": "stream",
     "text": [
      "127.0.0.1 - - [05/Mar/2024 16:35:51] \"POST /epa/upload HTTP/1.1\" 200 -\n"
     ]
    },
    {
     "name": "stdout",
     "output_type": "stream",
     "text": [
      "결과: 스텝 포워드 다이나믹 런지\n",
      "정확도: 100.00%\n",
      "Good!\n",
      "1/1 [==============================] - 0s 20ms/step\n"
     ]
    },
    {
     "name": "stderr",
     "output_type": "stream",
     "text": [
      "127.0.0.1 - - [05/Mar/2024 16:35:51] \"POST /epa/upload HTTP/1.1\" 200 -\n"
     ]
    },
    {
     "name": "stdout",
     "output_type": "stream",
     "text": [
      "결과: 스텝 포워드 다이나믹 런지\n",
      "정확도: 99.90%\n",
      "1/1 [==============================] - 0s 20ms/step\n"
     ]
    },
    {
     "name": "stderr",
     "output_type": "stream",
     "text": [
      "127.0.0.1 - - [05/Mar/2024 16:35:51] \"POST /epa/upload HTTP/1.1\" 200 -\n"
     ]
    },
    {
     "name": "stdout",
     "output_type": "stream",
     "text": [
      "결과: 스텝 포워드 다이나믹 런지\n",
      "정확도: 99.64%\n",
      "1/1 [==============================] - 0s 19ms/step\n"
     ]
    },
    {
     "name": "stderr",
     "output_type": "stream",
     "text": [
      "127.0.0.1 - - [05/Mar/2024 16:35:51] \"POST /epa/upload HTTP/1.1\" 200 -\n"
     ]
    },
    {
     "name": "stdout",
     "output_type": "stream",
     "text": [
      "결과: 스텝 포워드 다이나믹 런지\n",
      "정확도: 75.35%\n",
      "1/1 [==============================] - 0s 21ms/step\n"
     ]
    },
    {
     "name": "stderr",
     "output_type": "stream",
     "text": [
      "127.0.0.1 - - [05/Mar/2024 16:35:51] \"POST /epa/upload HTTP/1.1\" 200 -\n"
     ]
    },
    {
     "name": "stdout",
     "output_type": "stream",
     "text": [
      "결과: 스탠딩 사이드 크런치\n",
      "정확도: 59.99%\n",
      "1/1 [==============================] - 0s 20ms/step\n"
     ]
    },
    {
     "name": "stderr",
     "output_type": "stream",
     "text": [
      "127.0.0.1 - - [05/Mar/2024 16:35:52] \"POST /epa/upload HTTP/1.1\" 200 -\n"
     ]
    },
    {
     "name": "stdout",
     "output_type": "stream",
     "text": [
      "결과: 스텝 포워드 다이나믹 런지\n",
      "정확도: 61.12%\n",
      "1/1 [==============================] - 0s 20ms/step\n"
     ]
    },
    {
     "name": "stderr",
     "output_type": "stream",
     "text": [
      "127.0.0.1 - - [05/Mar/2024 16:35:52] \"POST /epa/upload HTTP/1.1\" 200 -\n"
     ]
    },
    {
     "name": "stdout",
     "output_type": "stream",
     "text": [
      "결과: 스텝 포워드 다이나믹 런지\n",
      "정확도: 78.70%\n",
      "1/1 [==============================] - 0s 21ms/step\n"
     ]
    },
    {
     "name": "stderr",
     "output_type": "stream",
     "text": [
      "127.0.0.1 - - [05/Mar/2024 16:35:52] \"POST /epa/upload HTTP/1.1\" 200 -\n"
     ]
    },
    {
     "name": "stdout",
     "output_type": "stream",
     "text": [
      "결과: 스탠딩 사이드 크런치\n",
      "정확도: 58.95%\n",
      "1/1 [==============================] - 0s 19ms/step\n"
     ]
    },
    {
     "name": "stderr",
     "output_type": "stream",
     "text": [
      "127.0.0.1 - - [05/Mar/2024 16:35:52] \"POST /epa/upload HTTP/1.1\" 200 -\n",
      "127.0.0.1 - - [05/Mar/2024 16:35:52] \"POST /epa/upload HTTP/1.1\" 200 -\n"
     ]
    },
    {
     "name": "stdout",
     "output_type": "stream",
     "text": [
      "결과: 스탠딩 사이드 크런치\n",
      "정확도: 56.39%\n",
      "Pose detection failed.\n"
     ]
    },
    {
     "name": "stderr",
     "output_type": "stream",
     "text": [
      "127.0.0.1 - - [05/Mar/2024 16:35:53] \"POST /epa/upload HTTP/1.1\" 200 -\n"
     ]
    },
    {
     "name": "stdout",
     "output_type": "stream",
     "text": [
      "Pose detection failed.\n",
      "1/1 [==============================] - 0s 21ms/step\n"
     ]
    },
    {
     "name": "stderr",
     "output_type": "stream",
     "text": [
      "127.0.0.1 - - [05/Mar/2024 16:35:53] \"POST /epa/upload HTTP/1.1\" 200 -\n",
      "127.0.0.1 - - [05/Mar/2024 16:35:53] \"POST /epa/upload HTTP/1.1\" 200 -\n"
     ]
    },
    {
     "name": "stdout",
     "output_type": "stream",
     "text": [
      "결과: 스텝 포워드 다이나믹 런지\n",
      "정확도: 93.76%\n",
      "Pose detection failed.\n"
     ]
    },
    {
     "name": "stderr",
     "output_type": "stream",
     "text": [
      "127.0.0.1 - - [05/Mar/2024 16:35:53] \"POST /epa/upload HTTP/1.1\" 200 -\n"
     ]
    },
    {
     "name": "stdout",
     "output_type": "stream",
     "text": [
      "Pose detection failed.\n",
      "Pose detection failed.\n"
     ]
    },
    {
     "name": "stderr",
     "output_type": "stream",
     "text": [
      "127.0.0.1 - - [05/Mar/2024 16:35:54] \"POST /epa/upload HTTP/1.1\" 200 -\n"
     ]
    },
    {
     "name": "stdout",
     "output_type": "stream",
     "text": [
      "1/1 [==============================] - 0s 20ms/step\n"
     ]
    },
    {
     "name": "stderr",
     "output_type": "stream",
     "text": [
      "127.0.0.1 - - [05/Mar/2024 16:35:54] \"POST /epa/upload HTTP/1.1\" 200 -\n",
      "127.0.0.1 - - [05/Mar/2024 16:35:54] \"POST /epa/upload HTTP/1.1\" 200 -\n"
     ]
    },
    {
     "name": "stdout",
     "output_type": "stream",
     "text": [
      "결과: 스텝 포워드 다이나믹 런지\n",
      "정확도: 97.05%\n",
      "Pose detection failed.\n",
      "1/1 [==============================] - 0s 21ms/step\n"
     ]
    },
    {
     "name": "stderr",
     "output_type": "stream",
     "text": [
      "127.0.0.1 - - [05/Mar/2024 16:35:54] \"POST /epa/upload HTTP/1.1\" 200 -\n"
     ]
    },
    {
     "name": "stdout",
     "output_type": "stream",
     "text": [
      "결과: 스텝 포워드 다이나믹 런지\n",
      "정확도: 98.33%\n",
      "1/1 [==============================] - 0s 20ms/step\n"
     ]
    },
    {
     "name": "stderr",
     "output_type": "stream",
     "text": [
      "127.0.0.1 - - [05/Mar/2024 16:35:55] \"POST /epa/upload HTTP/1.1\" 200 -\n"
     ]
    },
    {
     "name": "stdout",
     "output_type": "stream",
     "text": [
      "결과: 스텝 포워드 다이나믹 런지\n",
      "정확도: 98.52%\n",
      "1/1 [==============================] - 0s 20ms/step\n"
     ]
    },
    {
     "name": "stderr",
     "output_type": "stream",
     "text": [
      "127.0.0.1 - - [05/Mar/2024 16:35:55] \"POST /epa/upload HTTP/1.1\" 200 -\n",
      "127.0.0.1 - - [05/Mar/2024 16:35:55] \"POST /epa/upload HTTP/1.1\" 200 -\n"
     ]
    },
    {
     "name": "stdout",
     "output_type": "stream",
     "text": [
      "결과: 스텝 포워드 다이나믹 런지\n",
      "정확도: 98.92%\n",
      "Pose detection failed.\n"
     ]
    },
    {
     "name": "stderr",
     "output_type": "stream",
     "text": [
      "127.0.0.1 - - [05/Mar/2024 16:35:55] \"POST /epa/upload HTTP/1.1\" 200 -\n"
     ]
    },
    {
     "name": "stdout",
     "output_type": "stream",
     "text": [
      "Pose detection failed.\n",
      "1/1 [==============================] - 0s 20ms/step\n"
     ]
    },
    {
     "name": "stderr",
     "output_type": "stream",
     "text": [
      "127.0.0.1 - - [05/Mar/2024 16:35:55] \"POST /epa/upload HTTP/1.1\" 200 -\n"
     ]
    },
    {
     "name": "stdout",
     "output_type": "stream",
     "text": [
      "결과: 푸쉬업\n",
      "정확도: 84.16%\n",
      "Good!\n",
      "1/1 [==============================] - 0s 22ms/step\n"
     ]
    },
    {
     "name": "stderr",
     "output_type": "stream",
     "text": [
      "127.0.0.1 - - [05/Mar/2024 16:35:56] \"POST /epa/upload HTTP/1.1\" 200 -\n"
     ]
    },
    {
     "name": "stdout",
     "output_type": "stream",
     "text": [
      "결과: 스텝 포워드 다이나믹 런지\n",
      "정확도: 98.29%\n",
      "1/1 [==============================] - 0s 20ms/step\n"
     ]
    },
    {
     "name": "stderr",
     "output_type": "stream",
     "text": [
      "127.0.0.1 - - [05/Mar/2024 16:35:56] \"POST /epa/upload HTTP/1.1\" 200 -\n",
      "127.0.0.1 - - [05/Mar/2024 16:35:56] \"POST /epa/upload HTTP/1.1\" 200 -\n"
     ]
    },
    {
     "name": "stdout",
     "output_type": "stream",
     "text": [
      "결과: 스텝 포워드 다이나믹 런지\n",
      "정확도: 87.86%\n",
      "Pose detection failed.\n",
      "1/1 [==============================] - 0s 19ms/step\n"
     ]
    },
    {
     "name": "stderr",
     "output_type": "stream",
     "text": [
      "127.0.0.1 - - [05/Mar/2024 16:35:56] \"POST /epa/upload HTTP/1.1\" 200 -\n"
     ]
    },
    {
     "name": "stdout",
     "output_type": "stream",
     "text": [
      "결과: 스텝 포워드 다이나믹 런지\n",
      "정확도: 67.10%\n",
      "1/1 [==============================] - 0s 21ms/step\n"
     ]
    },
    {
     "name": "stderr",
     "output_type": "stream",
     "text": [
      "127.0.0.1 - - [05/Mar/2024 16:35:57] \"POST /epa/upload HTTP/1.1\" 200 -\n"
     ]
    },
    {
     "name": "stdout",
     "output_type": "stream",
     "text": [
      "결과: 스텝 포워드 다이나믹 런지\n",
      "정확도: 89.89%\n",
      "1/1 [==============================] - 0s 22ms/step\n"
     ]
    },
    {
     "name": "stderr",
     "output_type": "stream",
     "text": [
      "127.0.0.1 - - [05/Mar/2024 16:35:57] \"POST /epa/upload HTTP/1.1\" 200 -\n"
     ]
    },
    {
     "name": "stdout",
     "output_type": "stream",
     "text": [
      "결과: 스텝 포워드 다이나믹 런지\n",
      "정확도: 95.45%\n",
      "1/1 [==============================] - 0s 22ms/step\n"
     ]
    },
    {
     "name": "stderr",
     "output_type": "stream",
     "text": [
      "127.0.0.1 - - [05/Mar/2024 16:35:57] \"POST /epa/upload HTTP/1.1\" 200 -\n"
     ]
    },
    {
     "name": "stdout",
     "output_type": "stream",
     "text": [
      "결과: 스텝 포워드 다이나믹 런지\n",
      "정확도: 81.84%\n",
      "1/1 [==============================] - 0s 21ms/step\n"
     ]
    },
    {
     "name": "stderr",
     "output_type": "stream",
     "text": [
      "127.0.0.1 - - [05/Mar/2024 16:35:57] \"POST /epa/upload HTTP/1.1\" 200 -\n"
     ]
    },
    {
     "name": "stdout",
     "output_type": "stream",
     "text": [
      "결과: 스텝 포워드 다이나믹 런지\n",
      "정확도: 76.14%\n",
      "1/1 [==============================] - 0s 22ms/step\n"
     ]
    },
    {
     "name": "stderr",
     "output_type": "stream",
     "text": [
      "127.0.0.1 - - [05/Mar/2024 16:35:57] \"POST /epa/upload HTTP/1.1\" 200 -\n"
     ]
    },
    {
     "name": "stdout",
     "output_type": "stream",
     "text": [
      "결과: 스텝 포워드 다이나믹 런지\n",
      "정확도: 94.41%\n",
      "1/1 [==============================] - 0s 21ms/step\n"
     ]
    },
    {
     "name": "stderr",
     "output_type": "stream",
     "text": [
      "127.0.0.1 - - [05/Mar/2024 16:35:58] \"POST /epa/upload HTTP/1.1\" 200 -\n"
     ]
    },
    {
     "name": "stdout",
     "output_type": "stream",
     "text": [
      "결과: 스텝 포워드 다이나믹 런지\n",
      "정확도: 95.82%\n",
      "1/1 [==============================] - 0s 21ms/step\n"
     ]
    },
    {
     "name": "stderr",
     "output_type": "stream",
     "text": [
      "127.0.0.1 - - [05/Mar/2024 16:35:58] \"POST /epa/upload HTTP/1.1\" 200 -\n"
     ]
    },
    {
     "name": "stdout",
     "output_type": "stream",
     "text": [
      "결과: 스텝 포워드 다이나믹 런지\n",
      "정확도: 93.91%\n",
      "1/1 [==============================] - 0s 21ms/step\n"
     ]
    },
    {
     "name": "stderr",
     "output_type": "stream",
     "text": [
      "127.0.0.1 - - [05/Mar/2024 16:35:58] \"POST /epa/upload HTTP/1.1\" 200 -\n"
     ]
    },
    {
     "name": "stdout",
     "output_type": "stream",
     "text": [
      "결과: 스텝 포워드 다이나믹 런지\n",
      "정확도: 93.41%\n",
      "1/1 [==============================] - 0s 20ms/step\n"
     ]
    },
    {
     "name": "stderr",
     "output_type": "stream",
     "text": [
      "127.0.0.1 - - [05/Mar/2024 16:35:58] \"POST /epa/upload HTTP/1.1\" 200 -\n"
     ]
    },
    {
     "name": "stdout",
     "output_type": "stream",
     "text": [
      "결과: 스텝 포워드 다이나믹 런지\n",
      "정확도: 87.85%\n",
      "1/1 [==============================] - 0s 20ms/step\n"
     ]
    },
    {
     "name": "stderr",
     "output_type": "stream",
     "text": [
      "127.0.0.1 - - [05/Mar/2024 16:35:59] \"POST /epa/upload HTTP/1.1\" 200 -\n"
     ]
    },
    {
     "name": "stdout",
     "output_type": "stream",
     "text": [
      "결과: 스텝 포워드 다이나믹 런지\n",
      "정확도: 84.78%\n",
      "1/1 [==============================] - 0s 22ms/step\n"
     ]
    },
    {
     "name": "stderr",
     "output_type": "stream",
     "text": [
      "127.0.0.1 - - [05/Mar/2024 16:35:59] \"POST /epa/upload HTTP/1.1\" 200 -\n"
     ]
    },
    {
     "name": "stdout",
     "output_type": "stream",
     "text": [
      "결과: 스텝 포워드 다이나믹 런지\n",
      "정확도: 77.29%\n",
      "1/1 [==============================] - 0s 20ms/step\n"
     ]
    },
    {
     "name": "stderr",
     "output_type": "stream",
     "text": [
      "127.0.0.1 - - [05/Mar/2024 16:35:59] \"POST /epa/upload HTTP/1.1\" 200 -\n"
     ]
    },
    {
     "name": "stdout",
     "output_type": "stream",
     "text": [
      "결과: 스텝 포워드 다이나믹 런지\n",
      "정확도: 73.80%\n",
      "1/1 [==============================] - 0s 20ms/step\n"
     ]
    },
    {
     "name": "stderr",
     "output_type": "stream",
     "text": [
      "127.0.0.1 - - [05/Mar/2024 16:35:59] \"POST /epa/upload HTTP/1.1\" 200 -\n"
     ]
    },
    {
     "name": "stdout",
     "output_type": "stream",
     "text": [
      "결과: 스텝 포워드 다이나믹 런지\n",
      "정확도: 71.81%\n",
      "1/1 [==============================] - 0s 21ms/step\n"
     ]
    },
    {
     "name": "stderr",
     "output_type": "stream",
     "text": [
      "127.0.0.1 - - [05/Mar/2024 16:35:59] \"POST /epa/upload HTTP/1.1\" 200 -\n"
     ]
    },
    {
     "name": "stdout",
     "output_type": "stream",
     "text": [
      "결과: 스텝 포워드 다이나믹 런지\n",
      "정확도: 68.05%\n",
      "1/1 [==============================] - 0s 20ms/step\n"
     ]
    },
    {
     "name": "stderr",
     "output_type": "stream",
     "text": [
      "127.0.0.1 - - [05/Mar/2024 16:36:00] \"POST /epa/upload HTTP/1.1\" 200 -\n"
     ]
    },
    {
     "name": "stdout",
     "output_type": "stream",
     "text": [
      "결과: 스텝 포워드 다이나믹 런지\n",
      "정확도: 60.40%\n",
      "1/1 [==============================] - 0s 20ms/step\n"
     ]
    },
    {
     "name": "stderr",
     "output_type": "stream",
     "text": [
      "127.0.0.1 - - [05/Mar/2024 16:36:00] \"POST /epa/upload HTTP/1.1\" 200 -\n"
     ]
    },
    {
     "name": "stdout",
     "output_type": "stream",
     "text": [
      "결과: 스텝 포워드 다이나믹 런지\n",
      "정확도: 52.59%\n",
      "1/1 [==============================] - 0s 21ms/step\n"
     ]
    },
    {
     "name": "stderr",
     "output_type": "stream",
     "text": [
      "127.0.0.1 - - [05/Mar/2024 16:36:00] \"POST /epa/upload HTTP/1.1\" 200 -\n"
     ]
    },
    {
     "name": "stdout",
     "output_type": "stream",
     "text": [
      "결과: 스탠딩 사이드 크런치\n",
      "정확도: 49.58%\n",
      "1/1 [==============================] - 0s 22ms/step\n"
     ]
    },
    {
     "name": "stderr",
     "output_type": "stream",
     "text": [
      "127.0.0.1 - - [05/Mar/2024 16:36:00] \"POST /epa/upload HTTP/1.1\" 200 -\n"
     ]
    },
    {
     "name": "stdout",
     "output_type": "stream",
     "text": [
      "결과: 스텝 포워드 다이나믹 런지\n",
      "정확도: 54.82%\n",
      "1/1 [==============================] - 0s 19ms/step\n"
     ]
    },
    {
     "name": "stderr",
     "output_type": "stream",
     "text": [
      "127.0.0.1 - - [05/Mar/2024 16:36:00] \"POST /epa/upload HTTP/1.1\" 200 -\n"
     ]
    },
    {
     "name": "stdout",
     "output_type": "stream",
     "text": [
      "결과: 스텝 포워드 다이나믹 런지\n",
      "정확도: 58.02%\n",
      "1/1 [==============================] - 0s 21ms/step\n"
     ]
    },
    {
     "name": "stderr",
     "output_type": "stream",
     "text": [
      "127.0.0.1 - - [05/Mar/2024 16:36:01] \"POST /epa/upload HTTP/1.1\" 200 -\n"
     ]
    },
    {
     "name": "stdout",
     "output_type": "stream",
     "text": [
      "결과: 스텝 포워드 다이나믹 런지\n",
      "정확도: 61.21%\n",
      "1/1 [==============================] - 0s 22ms/step\n"
     ]
    },
    {
     "name": "stderr",
     "output_type": "stream",
     "text": [
      "127.0.0.1 - - [05/Mar/2024 16:36:01] \"POST /epa/upload HTTP/1.1\" 200 -\n"
     ]
    },
    {
     "name": "stdout",
     "output_type": "stream",
     "text": [
      "결과: 스텝 포워드 다이나믹 런지\n",
      "정확도: 83.15%\n",
      "1/1 [==============================] - 0s 20ms/step\n"
     ]
    },
    {
     "name": "stderr",
     "output_type": "stream",
     "text": [
      "127.0.0.1 - - [05/Mar/2024 16:36:01] \"POST /epa/upload HTTP/1.1\" 200 -\n"
     ]
    },
    {
     "name": "stdout",
     "output_type": "stream",
     "text": [
      "결과: 스텝 포워드 다이나믹 런지\n",
      "정확도: 98.27%\n",
      "1/1 [==============================] - 0s 22ms/step\n"
     ]
    },
    {
     "name": "stderr",
     "output_type": "stream",
     "text": [
      "127.0.0.1 - - [05/Mar/2024 16:36:01] \"POST /epa/upload HTTP/1.1\" 200 -\n"
     ]
    },
    {
     "name": "stdout",
     "output_type": "stream",
     "text": [
      "결과: 스텝 포워드 다이나믹 런지\n",
      "정확도: 99.88%\n",
      "1/1 [==============================] - 0s 21ms/step\n"
     ]
    },
    {
     "name": "stderr",
     "output_type": "stream",
     "text": [
      "127.0.0.1 - - [05/Mar/2024 16:36:02] \"POST /epa/upload HTTP/1.1\" 200 -\n"
     ]
    },
    {
     "name": "stdout",
     "output_type": "stream",
     "text": [
      "결과: 스텝 포워드 다이나믹 런지\n",
      "정확도: 99.96%\n",
      "Good!\n",
      "1/1 [==============================] - 0s 21ms/step\n"
     ]
    },
    {
     "name": "stderr",
     "output_type": "stream",
     "text": [
      "127.0.0.1 - - [05/Mar/2024 16:36:02] \"POST /epa/upload HTTP/1.1\" 200 -\n"
     ]
    },
    {
     "name": "stdout",
     "output_type": "stream",
     "text": [
      "결과: 스텝 포워드 다이나믹 런지\n",
      "정확도: 99.98%\n",
      "1/1 [==============================] - 0s 20ms/step\n"
     ]
    },
    {
     "name": "stderr",
     "output_type": "stream",
     "text": [
      "127.0.0.1 - - [05/Mar/2024 16:36:02] \"POST /epa/upload HTTP/1.1\" 200 -\n"
     ]
    },
    {
     "name": "stdout",
     "output_type": "stream",
     "text": [
      "결과: 스텝 포워드 다이나믹 런지\n",
      "정확도: 99.98%\n",
      "1/1 [==============================] - 0s 21ms/step\n"
     ]
    },
    {
     "name": "stderr",
     "output_type": "stream",
     "text": [
      "127.0.0.1 - - [05/Mar/2024 16:36:02] \"POST /epa/upload HTTP/1.1\" 200 -\n"
     ]
    },
    {
     "name": "stdout",
     "output_type": "stream",
     "text": [
      "결과: 스텝 포워드 다이나믹 런지\n",
      "정확도: 99.98%\n",
      "1/1 [==============================] - 0s 22ms/step\n"
     ]
    },
    {
     "name": "stderr",
     "output_type": "stream",
     "text": [
      "127.0.0.1 - - [05/Mar/2024 16:36:02] \"POST /epa/upload HTTP/1.1\" 200 -\n"
     ]
    },
    {
     "name": "stdout",
     "output_type": "stream",
     "text": [
      "결과: 스텝 포워드 다이나믹 런지\n",
      "정확도: 99.98%\n",
      "1/1 [==============================] - 0s 20ms/step\n"
     ]
    },
    {
     "name": "stderr",
     "output_type": "stream",
     "text": [
      "127.0.0.1 - - [05/Mar/2024 16:36:03] \"POST /epa/upload HTTP/1.1\" 200 -\n"
     ]
    },
    {
     "name": "stdout",
     "output_type": "stream",
     "text": [
      "결과: 스텝 포워드 다이나믹 런지\n",
      "정확도: 99.98%\n",
      "1/1 [==============================] - 0s 21ms/step\n"
     ]
    },
    {
     "name": "stderr",
     "output_type": "stream",
     "text": [
      "127.0.0.1 - - [05/Mar/2024 16:36:03] \"POST /epa/upload HTTP/1.1\" 200 -\n"
     ]
    },
    {
     "name": "stdout",
     "output_type": "stream",
     "text": [
      "결과: 스텝 포워드 다이나믹 런지\n",
      "정확도: 99.99%\n",
      "1/1 [==============================] - 0s 20ms/step\n"
     ]
    },
    {
     "name": "stderr",
     "output_type": "stream",
     "text": [
      "127.0.0.1 - - [05/Mar/2024 16:36:03] \"POST /epa/upload HTTP/1.1\" 200 -\n"
     ]
    },
    {
     "name": "stdout",
     "output_type": "stream",
     "text": [
      "결과: 스텝 포워드 다이나믹 런지\n",
      "정확도: 99.98%\n",
      "1/1 [==============================] - 0s 20ms/step\n"
     ]
    },
    {
     "name": "stderr",
     "output_type": "stream",
     "text": [
      "127.0.0.1 - - [05/Mar/2024 16:36:03] \"POST /epa/upload HTTP/1.1\" 200 -\n"
     ]
    },
    {
     "name": "stdout",
     "output_type": "stream",
     "text": [
      "결과: 스텝 포워드 다이나믹 런지\n",
      "정확도: 99.99%\n",
      "1/1 [==============================] - 0s 22ms/step\n"
     ]
    },
    {
     "name": "stderr",
     "output_type": "stream",
     "text": [
      "127.0.0.1 - - [05/Mar/2024 16:36:04] \"POST /epa/upload HTTP/1.1\" 200 -\n"
     ]
    },
    {
     "name": "stdout",
     "output_type": "stream",
     "text": [
      "결과: 스텝 포워드 다이나믹 런지\n",
      "정확도: 99.98%\n",
      "1/1 [==============================] - 0s 20ms/step\n"
     ]
    },
    {
     "name": "stderr",
     "output_type": "stream",
     "text": [
      "127.0.0.1 - - [05/Mar/2024 16:36:04] \"POST /epa/upload HTTP/1.1\" 200 -\n"
     ]
    },
    {
     "name": "stdout",
     "output_type": "stream",
     "text": [
      "결과: 스텝 포워드 다이나믹 런지\n",
      "정확도: 99.96%\n",
      "Good!\n",
      "1/1 [==============================] - 0s 21ms/step\n"
     ]
    },
    {
     "name": "stderr",
     "output_type": "stream",
     "text": [
      "127.0.0.1 - - [05/Mar/2024 16:36:04] \"POST /epa/upload HTTP/1.1\" 200 -\n"
     ]
    },
    {
     "name": "stdout",
     "output_type": "stream",
     "text": [
      "결과: 스텝 포워드 다이나믹 런지\n",
      "정확도: 99.90%\n",
      "1/1 [==============================] - 0s 19ms/step\n"
     ]
    },
    {
     "name": "stderr",
     "output_type": "stream",
     "text": [
      "127.0.0.1 - - [05/Mar/2024 16:36:04] \"POST /epa/upload HTTP/1.1\" 200 -\n"
     ]
    },
    {
     "name": "stdout",
     "output_type": "stream",
     "text": [
      "결과: 스텝 포워드 다이나믹 런지\n",
      "정확도: 99.66%\n",
      "1/1 [==============================] - 0s 20ms/step\n"
     ]
    },
    {
     "name": "stderr",
     "output_type": "stream",
     "text": [
      "127.0.0.1 - - [05/Mar/2024 16:36:04] \"POST /epa/upload HTTP/1.1\" 200 -\n"
     ]
    },
    {
     "name": "stdout",
     "output_type": "stream",
     "text": [
      "결과: 스텝 포워드 다이나믹 런지\n",
      "정확도: 98.93%\n",
      "1/1 [==============================] - 0s 21ms/step\n"
     ]
    },
    {
     "name": "stderr",
     "output_type": "stream",
     "text": [
      "127.0.0.1 - - [05/Mar/2024 16:36:05] \"POST /epa/upload HTTP/1.1\" 200 -\n"
     ]
    },
    {
     "name": "stdout",
     "output_type": "stream",
     "text": [
      "결과: 스텝 포워드 다이나믹 런지\n",
      "정확도: 98.18%\n",
      "1/1 [==============================] - 0s 22ms/step\n"
     ]
    },
    {
     "name": "stderr",
     "output_type": "stream",
     "text": [
      "127.0.0.1 - - [05/Mar/2024 16:36:05] \"POST /epa/upload HTTP/1.1\" 200 -\n"
     ]
    },
    {
     "name": "stdout",
     "output_type": "stream",
     "text": [
      "결과: 스텝 포워드 다이나믹 런지\n",
      "정확도: 98.69%\n",
      "1/1 [==============================] - 0s 21ms/step\n"
     ]
    },
    {
     "name": "stderr",
     "output_type": "stream",
     "text": [
      "127.0.0.1 - - [05/Mar/2024 16:36:05] \"POST /epa/upload HTTP/1.1\" 200 -\n"
     ]
    },
    {
     "name": "stdout",
     "output_type": "stream",
     "text": [
      "결과: 스텝 포워드 다이나믹 런지\n",
      "정확도: 98.79%\n",
      "1/1 [==============================] - 0s 21ms/step\n"
     ]
    },
    {
     "name": "stderr",
     "output_type": "stream",
     "text": [
      "127.0.0.1 - - [05/Mar/2024 16:36:05] \"POST /epa/upload HTTP/1.1\" 200 -\n"
     ]
    },
    {
     "name": "stdout",
     "output_type": "stream",
     "text": [
      "결과: 스텝 포워드 다이나믹 런지\n",
      "정확도: 98.72%\n",
      "1/1 [==============================] - 0s 21ms/step\n"
     ]
    },
    {
     "name": "stderr",
     "output_type": "stream",
     "text": [
      "127.0.0.1 - - [05/Mar/2024 16:36:06] \"POST /epa/upload HTTP/1.1\" 200 -\n"
     ]
    },
    {
     "name": "stdout",
     "output_type": "stream",
     "text": [
      "결과: 스텝 포워드 다이나믹 런지\n",
      "정확도: 97.75%\n",
      "1/1 [==============================] - 0s 22ms/step\n"
     ]
    },
    {
     "name": "stderr",
     "output_type": "stream",
     "text": [
      "127.0.0.1 - - [05/Mar/2024 16:36:06] \"POST /epa/upload HTTP/1.1\" 200 -\n"
     ]
    },
    {
     "name": "stdout",
     "output_type": "stream",
     "text": [
      "결과: 스텝 포워드 다이나믹 런지\n",
      "정확도: 97.58%\n",
      "1/1 [==============================] - 0s 21ms/step\n"
     ]
    },
    {
     "name": "stderr",
     "output_type": "stream",
     "text": [
      "127.0.0.1 - - [05/Mar/2024 16:36:06] \"POST /epa/upload HTTP/1.1\" 200 -\n"
     ]
    },
    {
     "name": "stdout",
     "output_type": "stream",
     "text": [
      "결과: 스텝 포워드 다이나믹 런지\n",
      "정확도: 91.77%\n",
      "1/1 [==============================] - 0s 21ms/step\n"
     ]
    },
    {
     "name": "stderr",
     "output_type": "stream",
     "text": [
      "127.0.0.1 - - [05/Mar/2024 16:36:06] \"POST /epa/upload HTTP/1.1\" 200 -\n"
     ]
    },
    {
     "name": "stdout",
     "output_type": "stream",
     "text": [
      "결과: 스텝 포워드 다이나믹 런지\n",
      "정확도: 79.02%\n",
      "1/1 [==============================] - 0s 20ms/step\n"
     ]
    },
    {
     "name": "stderr",
     "output_type": "stream",
     "text": [
      "127.0.0.1 - - [05/Mar/2024 16:36:06] \"POST /epa/upload HTTP/1.1\" 200 -\n"
     ]
    },
    {
     "name": "stdout",
     "output_type": "stream",
     "text": [
      "결과: 스텝 포워드 다이나믹 런지\n",
      "정확도: 75.25%\n",
      "1/1 [==============================] - 0s 21ms/step\n"
     ]
    },
    {
     "name": "stderr",
     "output_type": "stream",
     "text": [
      "127.0.0.1 - - [05/Mar/2024 16:36:07] \"POST /epa/upload HTTP/1.1\" 200 -\n"
     ]
    },
    {
     "name": "stdout",
     "output_type": "stream",
     "text": [
      "결과: 스텝 포워드 다이나믹 런지\n",
      "정확도: 77.41%\n",
      "1/1 [==============================] - 0s 21ms/step\n"
     ]
    },
    {
     "name": "stderr",
     "output_type": "stream",
     "text": [
      "127.0.0.1 - - [05/Mar/2024 16:36:07] \"POST /epa/upload HTTP/1.1\" 200 -\n"
     ]
    },
    {
     "name": "stdout",
     "output_type": "stream",
     "text": [
      "결과: 스텝 포워드 다이나믹 런지\n",
      "정확도: 80.18%\n",
      "1/1 [==============================] - 0s 22ms/step\n"
     ]
    },
    {
     "name": "stderr",
     "output_type": "stream",
     "text": [
      "127.0.0.1 - - [05/Mar/2024 16:36:07] \"POST /epa/upload HTTP/1.1\" 200 -\n"
     ]
    },
    {
     "name": "stdout",
     "output_type": "stream",
     "text": [
      "결과: 스텝 포워드 다이나믹 런지\n",
      "정확도: 83.76%\n",
      "1/1 [==============================] - 0s 20ms/step\n",
      "결과: 스텝 포워드 다이나믹 런지\n",
      "정확도: 85.91%\n"
     ]
    },
    {
     "name": "stderr",
     "output_type": "stream",
     "text": [
      "127.0.0.1 - - [05/Mar/2024 16:36:07] \"POST /epa/upload HTTP/1.1\" 200 -\n"
     ]
    },
    {
     "name": "stdout",
     "output_type": "stream",
     "text": [
      "1/1 [==============================] - 0s 21ms/step\n"
     ]
    },
    {
     "name": "stderr",
     "output_type": "stream",
     "text": [
      "127.0.0.1 - - [05/Mar/2024 16:36:08] \"POST /epa/upload HTTP/1.1\" 200 -\n"
     ]
    },
    {
     "name": "stdout",
     "output_type": "stream",
     "text": [
      "결과: 스텝 포워드 다이나믹 런지\n",
      "정확도: 90.91%\n",
      "1/1 [==============================] - 0s 20ms/step\n"
     ]
    },
    {
     "name": "stderr",
     "output_type": "stream",
     "text": [
      "127.0.0.1 - - [05/Mar/2024 16:36:08] \"POST /epa/upload HTTP/1.1\" 200 -\n"
     ]
    },
    {
     "name": "stdout",
     "output_type": "stream",
     "text": [
      "결과: 스텝 포워드 다이나믹 런지\n",
      "정확도: 95.98%\n",
      "1/1 [==============================] - 0s 19ms/step\n"
     ]
    },
    {
     "name": "stderr",
     "output_type": "stream",
     "text": [
      "127.0.0.1 - - [05/Mar/2024 16:36:08] \"POST /epa/upload HTTP/1.1\" 200 -\n"
     ]
    },
    {
     "name": "stdout",
     "output_type": "stream",
     "text": [
      "결과: 스텝 포워드 다이나믹 런지\n",
      "정확도: 96.43%\n",
      "1/1 [==============================] - 0s 20ms/step\n"
     ]
    },
    {
     "name": "stderr",
     "output_type": "stream",
     "text": [
      "127.0.0.1 - - [05/Mar/2024 16:36:08] \"POST /epa/upload HTTP/1.1\" 200 -\n"
     ]
    },
    {
     "name": "stdout",
     "output_type": "stream",
     "text": [
      "결과: 스텝 포워드 다이나믹 런지\n",
      "정확도: 96.05%\n",
      "1/1 [==============================] - 0s 20ms/step\n"
     ]
    },
    {
     "name": "stderr",
     "output_type": "stream",
     "text": [
      "127.0.0.1 - - [05/Mar/2024 16:36:08] \"POST /epa/upload HTTP/1.1\" 200 -\n"
     ]
    },
    {
     "name": "stdout",
     "output_type": "stream",
     "text": [
      "결과: 스텝 포워드 다이나믹 런지\n",
      "정확도: 97.07%\n",
      "1/1 [==============================] - 0s 19ms/step\n"
     ]
    },
    {
     "name": "stderr",
     "output_type": "stream",
     "text": [
      "127.0.0.1 - - [05/Mar/2024 16:36:09] \"POST /epa/upload HTTP/1.1\" 200 -\n"
     ]
    },
    {
     "name": "stdout",
     "output_type": "stream",
     "text": [
      "결과: 스텝 포워드 다이나믹 런지\n",
      "정확도: 97.21%\n",
      "1/1 [==============================] - 0s 19ms/step\n"
     ]
    },
    {
     "name": "stderr",
     "output_type": "stream",
     "text": [
      "127.0.0.1 - - [05/Mar/2024 16:36:09] \"POST /epa/upload HTTP/1.1\" 200 -\n"
     ]
    },
    {
     "name": "stdout",
     "output_type": "stream",
     "text": [
      "결과: 스텝 포워드 다이나믹 런지\n",
      "정확도: 97.41%\n",
      "1/1 [==============================] - 0s 20ms/step\n"
     ]
    },
    {
     "name": "stderr",
     "output_type": "stream",
     "text": [
      "127.0.0.1 - - [05/Mar/2024 16:36:09] \"POST /epa/upload HTTP/1.1\" 200 -\n"
     ]
    },
    {
     "name": "stdout",
     "output_type": "stream",
     "text": [
      "결과: 스텝 포워드 다이나믹 런지\n",
      "정확도: 97.13%\n",
      "1/1 [==============================] - 0s 21ms/step\n"
     ]
    },
    {
     "name": "stderr",
     "output_type": "stream",
     "text": [
      "127.0.0.1 - - [05/Mar/2024 16:36:09] \"POST /epa/upload HTTP/1.1\" 200 -\n"
     ]
    },
    {
     "name": "stdout",
     "output_type": "stream",
     "text": [
      "결과: 스텝 포워드 다이나믹 런지\n",
      "정확도: 96.51%\n",
      "1/1 [==============================] - 0s 36ms/step\n"
     ]
    },
    {
     "name": "stderr",
     "output_type": "stream",
     "text": [
      "127.0.0.1 - - [05/Mar/2024 16:36:10] \"POST /epa/upload HTTP/1.1\" 200 -\n"
     ]
    },
    {
     "name": "stdout",
     "output_type": "stream",
     "text": [
      "결과: 스텝 포워드 다이나믹 런지\n",
      "정확도: 96.59%\n",
      "1/1 [==============================] - 0s 20ms/step\n"
     ]
    },
    {
     "name": "stderr",
     "output_type": "stream",
     "text": [
      "127.0.0.1 - - [05/Mar/2024 16:36:10] \"POST /epa/upload HTTP/1.1\" 200 -\n"
     ]
    },
    {
     "name": "stdout",
     "output_type": "stream",
     "text": [
      "결과: 스텝 포워드 다이나믹 런지\n",
      "정확도: 97.32%\n",
      "1/1 [==============================] - 0s 29ms/step\n"
     ]
    },
    {
     "name": "stderr",
     "output_type": "stream",
     "text": [
      "127.0.0.1 - - [05/Mar/2024 16:36:10] \"POST /epa/upload HTTP/1.1\" 200 -\n"
     ]
    },
    {
     "name": "stdout",
     "output_type": "stream",
     "text": [
      "결과: 스텝 포워드 다이나믹 런지\n",
      "정확도: 97.80%\n",
      "1/1 [==============================] - 0s 22ms/step\n"
     ]
    },
    {
     "name": "stderr",
     "output_type": "stream",
     "text": [
      "127.0.0.1 - - [05/Mar/2024 16:36:10] \"POST /epa/upload HTTP/1.1\" 200 -\n"
     ]
    },
    {
     "name": "stdout",
     "output_type": "stream",
     "text": [
      "결과: 스텝 포워드 다이나믹 런지\n",
      "정확도: 97.79%\n",
      "1/1 [==============================] - 0s 21ms/step\n"
     ]
    },
    {
     "name": "stderr",
     "output_type": "stream",
     "text": [
      "127.0.0.1 - - [05/Mar/2024 16:36:10] \"POST /epa/upload HTTP/1.1\" 200 -\n"
     ]
    },
    {
     "name": "stdout",
     "output_type": "stream",
     "text": [
      "결과: 스텝 포워드 다이나믹 런지\n",
      "정확도: 97.76%\n",
      "1/1 [==============================] - 0s 22ms/step\n"
     ]
    },
    {
     "name": "stderr",
     "output_type": "stream",
     "text": [
      "127.0.0.1 - - [05/Mar/2024 16:36:11] \"POST /epa/upload HTTP/1.1\" 200 -\n"
     ]
    },
    {
     "name": "stdout",
     "output_type": "stream",
     "text": [
      "결과: 스텝 포워드 다이나믹 런지\n",
      "정확도: 98.52%\n",
      "1/1 [==============================] - 0s 19ms/step\n",
      "결과: 스텝 포워드 다이나믹 런지\n",
      "정확도: 99.38%\n"
     ]
    },
    {
     "name": "stderr",
     "output_type": "stream",
     "text": [
      "127.0.0.1 - - [05/Mar/2024 16:36:11] \"POST /epa/upload HTTP/1.1\" 200 -\n"
     ]
    },
    {
     "name": "stdout",
     "output_type": "stream",
     "text": [
      "1/1 [==============================] - 0s 21ms/step\n"
     ]
    },
    {
     "name": "stderr",
     "output_type": "stream",
     "text": [
      "127.0.0.1 - - [05/Mar/2024 16:36:11] \"POST /epa/upload HTTP/1.1\" 200 -\n"
     ]
    },
    {
     "name": "stdout",
     "output_type": "stream",
     "text": [
      "결과: 스텝 포워드 다이나믹 런지\n",
      "정확도: 99.49%\n",
      "1/1 [==============================] - 0s 21ms/step\n"
     ]
    },
    {
     "name": "stderr",
     "output_type": "stream",
     "text": [
      "127.0.0.1 - - [05/Mar/2024 16:36:11] \"POST /epa/upload HTTP/1.1\" 200 -\n"
     ]
    },
    {
     "name": "stdout",
     "output_type": "stream",
     "text": [
      "결과: 스텝 포워드 다이나믹 런지\n",
      "정확도: 99.47%\n",
      "1/1 [==============================] - 0s 21ms/step\n"
     ]
    },
    {
     "name": "stderr",
     "output_type": "stream",
     "text": [
      "127.0.0.1 - - [05/Mar/2024 16:36:11] \"POST /epa/upload HTTP/1.1\" 200 -\n"
     ]
    },
    {
     "name": "stdout",
     "output_type": "stream",
     "text": [
      "결과: 스텝 포워드 다이나믹 런지\n",
      "정확도: 99.31%\n",
      "1/1 [==============================] - 0s 21ms/step\n"
     ]
    },
    {
     "name": "stderr",
     "output_type": "stream",
     "text": [
      "127.0.0.1 - - [05/Mar/2024 16:36:12] \"POST /epa/upload HTTP/1.1\" 200 -\n"
     ]
    },
    {
     "name": "stdout",
     "output_type": "stream",
     "text": [
      "결과: 스텝 포워드 다이나믹 런지\n",
      "정확도: 98.78%\n",
      "1/1 [==============================] - 0s 21ms/step\n"
     ]
    },
    {
     "name": "stderr",
     "output_type": "stream",
     "text": [
      "127.0.0.1 - - [05/Mar/2024 16:36:12] \"POST /epa/upload HTTP/1.1\" 200 -\n"
     ]
    },
    {
     "name": "stdout",
     "output_type": "stream",
     "text": [
      "결과: 스텝 포워드 다이나믹 런지\n",
      "정확도: 98.29%\n",
      "1/1 [==============================] - 0s 22ms/step\n"
     ]
    },
    {
     "name": "stderr",
     "output_type": "stream",
     "text": [
      "127.0.0.1 - - [05/Mar/2024 16:36:12] \"POST /epa/upload HTTP/1.1\" 200 -\n"
     ]
    },
    {
     "name": "stdout",
     "output_type": "stream",
     "text": [
      "결과: 스텝 포워드 다이나믹 런지\n",
      "정확도: 97.78%\n",
      "1/1 [==============================] - 0s 22ms/step\n"
     ]
    },
    {
     "name": "stderr",
     "output_type": "stream",
     "text": [
      "127.0.0.1 - - [05/Mar/2024 16:36:12] \"POST /epa/upload HTTP/1.1\" 200 -\n"
     ]
    },
    {
     "name": "stdout",
     "output_type": "stream",
     "text": [
      "결과: 스텝 포워드 다이나믹 런지\n",
      "정확도: 97.80%\n",
      "1/1 [==============================] - 0s 22ms/step\n",
      "결과: 스텝 포워드 다이나믹 런지\n",
      "정확도: 97.40%\n"
     ]
    },
    {
     "name": "stderr",
     "output_type": "stream",
     "text": [
      "127.0.0.1 - - [05/Mar/2024 16:36:13] \"POST /epa/upload HTTP/1.1\" 200 -\n"
     ]
    },
    {
     "name": "stdout",
     "output_type": "stream",
     "text": [
      "1/1 [==============================] - 0s 21ms/step\n"
     ]
    },
    {
     "name": "stderr",
     "output_type": "stream",
     "text": [
      "127.0.0.1 - - [05/Mar/2024 16:36:13] \"POST /epa/upload HTTP/1.1\" 200 -\n"
     ]
    },
    {
     "name": "stdout",
     "output_type": "stream",
     "text": [
      "결과: 스텝 포워드 다이나믹 런지\n",
      "정확도: 98.20%\n",
      "1/1 [==============================] - 0s 19ms/step\n"
     ]
    },
    {
     "name": "stderr",
     "output_type": "stream",
     "text": [
      "127.0.0.1 - - [05/Mar/2024 16:36:13] \"POST /epa/upload HTTP/1.1\" 200 -\n"
     ]
    },
    {
     "name": "stdout",
     "output_type": "stream",
     "text": [
      "결과: 스텝 포워드 다이나믹 런지\n",
      "정확도: 98.76%\n",
      "1/1 [==============================] - 0s 25ms/step\n"
     ]
    },
    {
     "name": "stderr",
     "output_type": "stream",
     "text": [
      "127.0.0.1 - - [05/Mar/2024 16:36:13] \"POST /epa/upload HTTP/1.1\" 200 -\n"
     ]
    },
    {
     "name": "stdout",
     "output_type": "stream",
     "text": [
      "결과: 스텝 포워드 다이나믹 런지\n",
      "정확도: 98.86%\n",
      "1/1 [==============================] - 0s 23ms/step\n"
     ]
    },
    {
     "name": "stderr",
     "output_type": "stream",
     "text": [
      "127.0.0.1 - - [05/Mar/2024 16:36:13] \"POST /epa/upload HTTP/1.1\" 200 -\n"
     ]
    },
    {
     "name": "stdout",
     "output_type": "stream",
     "text": [
      "결과: 스텝 포워드 다이나믹 런지\n",
      "정확도: 99.21%\n",
      "1/1 [==============================] - 0s 21ms/step\n"
     ]
    },
    {
     "name": "stderr",
     "output_type": "stream",
     "text": [
      "127.0.0.1 - - [05/Mar/2024 16:36:14] \"POST /epa/upload HTTP/1.1\" 200 -\n"
     ]
    },
    {
     "name": "stdout",
     "output_type": "stream",
     "text": [
      "결과: 스텝 포워드 다이나믹 런지\n",
      "정확도: 99.10%\n",
      "1/1 [==============================] - 0s 21ms/step\n"
     ]
    },
    {
     "name": "stderr",
     "output_type": "stream",
     "text": [
      "127.0.0.1 - - [05/Mar/2024 16:36:14] \"POST /epa/upload HTTP/1.1\" 200 -\n"
     ]
    },
    {
     "name": "stdout",
     "output_type": "stream",
     "text": [
      "결과: 스텝 포워드 다이나믹 런지\n",
      "정확도: 99.35%\n",
      "1/1 [==============================] - 0s 21ms/step\n"
     ]
    },
    {
     "name": "stderr",
     "output_type": "stream",
     "text": [
      "127.0.0.1 - - [05/Mar/2024 16:36:14] \"POST /epa/upload HTTP/1.1\" 200 -\n"
     ]
    },
    {
     "name": "stdout",
     "output_type": "stream",
     "text": [
      "결과: 스텝 포워드 다이나믹 런지\n",
      "정확도: 99.56%\n",
      "Good!\n",
      "1/1 [==============================] - 0s 19ms/step\n"
     ]
    },
    {
     "name": "stderr",
     "output_type": "stream",
     "text": [
      "127.0.0.1 - - [05/Mar/2024 16:36:14] \"POST /epa/upload HTTP/1.1\" 200 -\n"
     ]
    },
    {
     "name": "stdout",
     "output_type": "stream",
     "text": [
      "결과: 스텝 포워드 다이나믹 런지\n",
      "정확도: 99.72%\n",
      "1/1 [==============================] - 0s 21ms/step\n"
     ]
    },
    {
     "name": "stderr",
     "output_type": "stream",
     "text": [
      "127.0.0.1 - - [05/Mar/2024 16:36:15] \"POST /epa/upload HTTP/1.1\" 200 -\n"
     ]
    },
    {
     "name": "stdout",
     "output_type": "stream",
     "text": [
      "결과: 스텝 포워드 다이나믹 런지\n",
      "정확도: 99.80%\n",
      "1/1 [==============================] - 0s 22ms/step\n"
     ]
    },
    {
     "name": "stderr",
     "output_type": "stream",
     "text": [
      "127.0.0.1 - - [05/Mar/2024 16:36:15] \"POST /epa/upload HTTP/1.1\" 200 -\n"
     ]
    },
    {
     "name": "stdout",
     "output_type": "stream",
     "text": [
      "결과: 스텝 포워드 다이나믹 런지\n",
      "정확도: 99.87%\n",
      "1/1 [==============================] - 0s 19ms/step\n"
     ]
    },
    {
     "name": "stderr",
     "output_type": "stream",
     "text": [
      "127.0.0.1 - - [05/Mar/2024 16:36:15] \"POST /epa/upload HTTP/1.1\" 200 -\n"
     ]
    },
    {
     "name": "stdout",
     "output_type": "stream",
     "text": [
      "결과: 스텝 포워드 다이나믹 런지\n",
      "정확도: 99.85%\n",
      "1/1 [==============================] - 0s 21ms/step\n"
     ]
    },
    {
     "name": "stderr",
     "output_type": "stream",
     "text": [
      "127.0.0.1 - - [05/Mar/2024 16:36:15] \"POST /epa/upload HTTP/1.1\" 200 -\n"
     ]
    },
    {
     "name": "stdout",
     "output_type": "stream",
     "text": [
      "결과: 스텝 포워드 다이나믹 런지\n",
      "정확도: 99.88%\n",
      "1/1 [==============================] - 0s 21ms/step\n"
     ]
    },
    {
     "name": "stderr",
     "output_type": "stream",
     "text": [
      "127.0.0.1 - - [05/Mar/2024 16:36:15] \"POST /epa/upload HTTP/1.1\" 200 -\n"
     ]
    },
    {
     "name": "stdout",
     "output_type": "stream",
     "text": [
      "결과: 스텝 포워드 다이나믹 런지\n",
      "정확도: 99.43%\n",
      "1/1 [==============================] - 0s 21ms/step\n"
     ]
    },
    {
     "name": "stderr",
     "output_type": "stream",
     "text": [
      "127.0.0.1 - - [05/Mar/2024 16:36:16] \"POST /epa/upload HTTP/1.1\" 200 -\n"
     ]
    },
    {
     "name": "stdout",
     "output_type": "stream",
     "text": [
      "결과: 스텝 포워드 다이나믹 런지\n",
      "정확도: 99.84%\n",
      "1/1 [==============================] - 0s 21ms/step\n"
     ]
    },
    {
     "name": "stderr",
     "output_type": "stream",
     "text": [
      "127.0.0.1 - - [05/Mar/2024 16:36:16] \"POST /epa/upload HTTP/1.1\" 200 -\n"
     ]
    },
    {
     "name": "stdout",
     "output_type": "stream",
     "text": [
      "결과: 스텝 포워드 다이나믹 런지\n",
      "정확도: 99.79%\n",
      "1/1 [==============================] - 0s 21ms/step\n"
     ]
    },
    {
     "name": "stderr",
     "output_type": "stream",
     "text": [
      "127.0.0.1 - - [05/Mar/2024 16:36:16] \"POST /epa/upload HTTP/1.1\" 200 -\n"
     ]
    },
    {
     "name": "stdout",
     "output_type": "stream",
     "text": [
      "결과: 스텝 포워드 다이나믹 런지\n",
      "정확도: 99.44%\n",
      "1/1 [==============================] - 0s 21ms/step\n"
     ]
    },
    {
     "name": "stderr",
     "output_type": "stream",
     "text": [
      "127.0.0.1 - - [05/Mar/2024 16:36:16] \"POST /epa/upload HTTP/1.1\" 200 -\n"
     ]
    },
    {
     "name": "stdout",
     "output_type": "stream",
     "text": [
      "결과: 스텝 포워드 다이나믹 런지\n",
      "정확도: 98.15%\n",
      "1/1 [==============================] - 0s 21ms/step\n",
      "결과: 스텝 포워드 다이나믹 런지\n",
      "정확도: 95.43%\n"
     ]
    },
    {
     "name": "stderr",
     "output_type": "stream",
     "text": [
      "127.0.0.1 - - [05/Mar/2024 16:36:17] \"POST /epa/upload HTTP/1.1\" 200 -\n"
     ]
    },
    {
     "name": "stdout",
     "output_type": "stream",
     "text": [
      "1/1 [==============================] - 0s 24ms/step\n"
     ]
    },
    {
     "name": "stderr",
     "output_type": "stream",
     "text": [
      "127.0.0.1 - - [05/Mar/2024 16:36:17] \"POST /epa/upload HTTP/1.1\" 200 -\n"
     ]
    },
    {
     "name": "stdout",
     "output_type": "stream",
     "text": [
      "결과: 스텝 포워드 다이나믹 런지\n",
      "정확도: 91.93%\n",
      "1/1 [==============================] - 0s 22ms/step\n"
     ]
    },
    {
     "name": "stderr",
     "output_type": "stream",
     "text": [
      "127.0.0.1 - - [05/Mar/2024 16:36:17] \"POST /epa/upload HTTP/1.1\" 200 -\n"
     ]
    },
    {
     "name": "stdout",
     "output_type": "stream",
     "text": [
      "결과: 스텝 포워드 다이나믹 런지\n",
      "정확도: 92.94%\n",
      "1/1 [==============================] - 0s 22ms/step\n"
     ]
    },
    {
     "name": "stderr",
     "output_type": "stream",
     "text": [
      "127.0.0.1 - - [05/Mar/2024 16:36:17] \"POST /epa/upload HTTP/1.1\" 200 -\n"
     ]
    },
    {
     "name": "stdout",
     "output_type": "stream",
     "text": [
      "결과: 스텝 포워드 다이나믹 런지\n",
      "정확도: 97.11%\n",
      "1/1 [==============================] - 0s 21ms/step\n"
     ]
    },
    {
     "name": "stderr",
     "output_type": "stream",
     "text": [
      "127.0.0.1 - - [05/Mar/2024 16:36:17] \"POST /epa/upload HTTP/1.1\" 200 -\n"
     ]
    },
    {
     "name": "stdout",
     "output_type": "stream",
     "text": [
      "결과: 스텝 포워드 다이나믹 런지\n",
      "정확도: 99.57%\n",
      "1/1 [==============================] - 0s 29ms/step\n"
     ]
    },
    {
     "name": "stderr",
     "output_type": "stream",
     "text": [
      "127.0.0.1 - - [05/Mar/2024 16:36:18] \"POST /epa/upload HTTP/1.1\" 200 -\n"
     ]
    },
    {
     "name": "stdout",
     "output_type": "stream",
     "text": [
      "결과: 스텝 포워드 다이나믹 런지\n",
      "정확도: 99.75%\n",
      "1/1 [==============================] - 0s 19ms/step\n"
     ]
    },
    {
     "name": "stderr",
     "output_type": "stream",
     "text": [
      "127.0.0.1 - - [05/Mar/2024 16:36:18] \"POST /epa/upload HTTP/1.1\" 200 -\n"
     ]
    },
    {
     "name": "stdout",
     "output_type": "stream",
     "text": [
      "결과: 스텝 포워드 다이나믹 런지\n",
      "정확도: 96.19%\n",
      "1/1 [==============================] - 0s 21ms/step\n"
     ]
    },
    {
     "name": "stderr",
     "output_type": "stream",
     "text": [
      "127.0.0.1 - - [05/Mar/2024 16:36:18] \"POST /epa/upload HTTP/1.1\" 200 -\n"
     ]
    },
    {
     "name": "stdout",
     "output_type": "stream",
     "text": [
      "결과: 스텝 포워드 다이나믹 런지\n",
      "정확도: 99.96%\n",
      "1/1 [==============================] - 0s 22ms/step\n"
     ]
    },
    {
     "name": "stderr",
     "output_type": "stream",
     "text": [
      "127.0.0.1 - - [05/Mar/2024 16:36:18] \"POST /epa/upload HTTP/1.1\" 200 -\n"
     ]
    },
    {
     "name": "stdout",
     "output_type": "stream",
     "text": [
      "결과: 스텝 포워드 다이나믹 런지\n",
      "정확도: 99.98%\n",
      "1/1 [==============================] - 0s 22ms/step\n"
     ]
    },
    {
     "name": "stderr",
     "output_type": "stream",
     "text": [
      "127.0.0.1 - - [05/Mar/2024 16:36:19] \"POST /epa/upload HTTP/1.1\" 200 -\n"
     ]
    },
    {
     "name": "stdout",
     "output_type": "stream",
     "text": [
      "결과: 스텝 포워드 다이나믹 런지\n",
      "정확도: 99.97%\n",
      "1/1 [==============================] - 0s 19ms/step\n"
     ]
    },
    {
     "name": "stderr",
     "output_type": "stream",
     "text": [
      "127.0.0.1 - - [05/Mar/2024 16:36:19] \"POST /epa/upload HTTP/1.1\" 200 -\n"
     ]
    },
    {
     "name": "stdout",
     "output_type": "stream",
     "text": [
      "결과: 스텝 포워드 다이나믹 런지\n",
      "정확도: 99.98%\n",
      "1/1 [==============================] - 0s 20ms/step\n"
     ]
    },
    {
     "name": "stderr",
     "output_type": "stream",
     "text": [
      "127.0.0.1 - - [05/Mar/2024 16:36:19] \"POST /epa/upload HTTP/1.1\" 200 -\n"
     ]
    },
    {
     "name": "stdout",
     "output_type": "stream",
     "text": [
      "결과: 스텝 포워드 다이나믹 런지\n",
      "정확도: 99.99%\n",
      "1/1 [==============================] - 0s 21ms/step\n"
     ]
    },
    {
     "name": "stderr",
     "output_type": "stream",
     "text": [
      "127.0.0.1 - - [05/Mar/2024 16:36:19] \"POST /epa/upload HTTP/1.1\" 200 -\n"
     ]
    },
    {
     "name": "stdout",
     "output_type": "stream",
     "text": [
      "결과: 스텝 포워드 다이나믹 런지\n",
      "정확도: 99.99%\n",
      "1/1 [==============================] - 0s 21ms/step\n"
     ]
    },
    {
     "name": "stderr",
     "output_type": "stream",
     "text": [
      "127.0.0.1 - - [05/Mar/2024 16:36:19] \"POST /epa/upload HTTP/1.1\" 200 -\n"
     ]
    },
    {
     "name": "stdout",
     "output_type": "stream",
     "text": [
      "결과: 스텝 포워드 다이나믹 런지\n",
      "정확도: 99.99%\n",
      "1/1 [==============================] - 0s 23ms/step\n"
     ]
    },
    {
     "name": "stderr",
     "output_type": "stream",
     "text": [
      "127.0.0.1 - - [05/Mar/2024 16:36:20] \"POST /epa/upload HTTP/1.1\" 200 -\n"
     ]
    },
    {
     "name": "stdout",
     "output_type": "stream",
     "text": [
      "결과: 스텝 포워드 다이나믹 런지\n",
      "정확도: 100.00%\n",
      "1/1 [==============================] - 0s 20ms/step\n"
     ]
    },
    {
     "name": "stderr",
     "output_type": "stream",
     "text": [
      "127.0.0.1 - - [05/Mar/2024 16:36:20] \"POST /epa/upload HTTP/1.1\" 200 -\n",
      "127.0.0.1 - - [05/Mar/2024 16:36:20] \"POST /epa/upload HTTP/1.1\" 200 -\n"
     ]
    },
    {
     "name": "stdout",
     "output_type": "stream",
     "text": [
      "결과: 스텝 포워드 다이나믹 런지\n",
      "정확도: 100.00%\n",
      "Pose detection failed.\n"
     ]
    },
    {
     "name": "stderr",
     "output_type": "stream",
     "text": [
      "127.0.0.1 - - [05/Mar/2024 16:36:21] \"POST /epa/upload HTTP/1.1\" 200 -\n",
      "127.0.0.1 - - [05/Mar/2024 16:36:21] \"POST /epa/upload HTTP/1.1\" 200 -\n",
      "127.0.0.1 - - [05/Mar/2024 16:36:21] \"GET /socket.io/?EIO=4&transport=websocket&sid=VLUvMrEKpEwoKsVkAAAE HTTP/1.1\" 200 -\n"
     ]
    },
    {
     "name": "stdout",
     "output_type": "stream",
     "text": [
      "Pose detection failed.\n",
      "Pose detection failed.\n",
      "WebSocket connection closed.\n"
     ]
    },
    {
     "name": "stderr",
     "output_type": "stream",
     "text": [
      "127.0.0.1 - - [05/Mar/2024 16:36:21] \"POST /epa/upload HTTP/1.1\" 200 -\n",
      "127.0.0.1 - - [05/Mar/2024 16:36:21] \"POST /epa/upload HTTP/1.1\" 200 -\n"
     ]
    },
    {
     "name": "stdout",
     "output_type": "stream",
     "text": [
      "Pose detection failed.\n",
      "Pose detection failed.\n"
     ]
    }
   ],
   "source": [
    "from flask import Flask, request, send_file\n",
    "from flask_socketio import SocketIO, emit\n",
    "from flask_cors import CORS\n",
    "import base64\n",
    "import cv2\n",
    "import numpy as np\n",
    "import mediapipe as mp\n",
    "import io\n",
    "import os\n",
    "import math\n",
    "from tensorflow.keras.models import load_model\n",
    "import time\n",
    "\n",
    "app = Flask(__name__)\n",
    "CORS(app, resources={r\"/epa/upload\": {\"origins\": \"http://localhost:8080\"}}, supports_credentials=True)\n",
    "socketio = SocketIO(app, cors_allowed_origins=\"http://localhost:8080\")\n",
    "\n",
    "mp_drawing = mp.solutions.drawing_utils\n",
    "mp_pose = mp.solutions.pose\n",
    "\n",
    "font_scale = 0.5\n",
    "font_thickness = 1\n",
    "\n",
    "save_path = \"C:/Users/smart/Flask\"\n",
    "model_path = \"C:/Users/smart/Flask/epa_model2.hdf5\"\n",
    "epa_model = load_model(model_path)\n",
    "\n",
    "target_name = ['푸쉬업', '스탠딩 사이드 크런치', '스텝 포워드 다이나믹 런지']\n",
    "\n",
    "def calculate_angle(point1, point2, point3):\n",
    "    angle_radians = math.atan2(point3.y - point2.y, point3.x - point2.x) - math.atan2(point1.y - point2.y, point1.x - point2.x)\n",
    "    angle_degrees = math.degrees(angle_radians)\n",
    "    return angle_degrees\n",
    "\n",
    "def check_side_crunch_angle(landmarks):\n",
    "    left_knee = landmarks.landmark[25]\n",
    "    left_hip = landmarks.landmark[23]\n",
    "    left_ankle = landmarks.landmark[27]\n",
    "    right_knee = landmarks.landmark[26]\n",
    "    right_hip = landmarks.landmark[24]\n",
    "    right_ankle = landmarks.landmark[28]\n",
    "    \n",
    "    angle_left2 = calculate_angle(left_hip, left_knee, left_ankle)\n",
    "    angle_right2 = calculate_angle(right_hip, right_knee, right_ankle)\n",
    "    \n",
    "    return 70 <= angle_left2 <= 130 or 70 <= angle_right2 <= 130\n",
    "\n",
    "def check_lunge_angle(landmarks):\n",
    "    left_knee = landmarks.landmark[25]\n",
    "    left_hip = landmarks.landmark[23]\n",
    "    left_ankle = landmarks.landmark[27]\n",
    "    right_knee = landmarks.landmark[26]\n",
    "    right_hip = landmarks.landmark[24]\n",
    "    right_ankle = landmarks.landmark[28]\n",
    "    \n",
    "    angle_left = calculate_angle(left_hip, left_knee, left_ankle)\n",
    "    angle_right = calculate_angle(right_hip, right_knee, right_ankle)\n",
    "    \n",
    "    return 70 <= angle_left <= 130 and 70 <= angle_right <= 130\n",
    "\n",
    "@app.route('/epa/upload', methods=['POST'])\n",
    "def upload_image():\n",
    "    if 'image' in request.files:\n",
    "        image = request.files['image']\n",
    "        image_np = np.frombuffer(image.read(), np.uint8)\n",
    "        image = cv2.imdecode(image_np, cv2.IMREAD_COLOR)\n",
    "\n",
    "        with mp_pose.Pose(\n",
    "            min_detection_confidence=0.5,\n",
    "            min_tracking_confidence=0.5) as pose:\n",
    "            image_height, image_width, _ = image.shape\n",
    "            results = pose.process(image)\n",
    "\n",
    "            if results.pose_landmarks:\n",
    "                image_copy = image.copy()\n",
    "                image_copy.flags.writeable = True\n",
    "\n",
    "                coordinates_for_prediction = []\n",
    "                for i in [11, 12, 13, 14, 15, 16, 23, 24, 25, 26, 27, 28]:\n",
    "                    landmark = results.pose_landmarks.landmark[i]\n",
    "                    x, y = int(landmark.x * image.shape[1]), int(landmark.y * image.shape[0])\n",
    "                    coordinates_for_prediction.extend([x, y])\n",
    "                    cv2.circle(image_copy, (x, y), 1, (0, 0, 255), 5)\n",
    "\n",
    "                for connection in mp_pose.POSE_CONNECTIONS:\n",
    "                    start_point = connection[0]\n",
    "                    end_point = connection[1]\n",
    "                    start_landmark = results.pose_landmarks.landmark[start_point]\n",
    "                    end_landmark = results.pose_landmarks.landmark[end_point]\n",
    "                    start_point = (int(start_landmark.x * image_width), int(start_landmark.y * image_height))\n",
    "                    end_point = (int(end_landmark.x * image_width), int(end_landmark.y * image_height))\n",
    "                    cv2.line(image_copy, start_point, end_point, (255, 255, 255), 2)\n",
    "\n",
    "                input_data = [coordinates_for_prediction]\n",
    "                predict = epa_model.predict(np.array(input_data))\n",
    "                result = np.argmax(predict)\n",
    "                confidence = predict[0][result] * 100\n",
    "\n",
    "                print('결과:', target_name[result])\n",
    "                print(f'정확도: {confidence:.2f}%')\n",
    "\n",
    "                if target_name[result] == '스탠딩 사이드 크런치' and confidence >= 70 and check_side_crunch_angle(results.pose_landmarks):\n",
    "                    detected_exercise = 'standing side crunch'\n",
    "                    print(check_side_crunch_angle)\n",
    "                    print('Good!')\n",
    "                    socketio.emit('exercise_result', {'message': 'Good!', 'exercise': detected_exercise})\n",
    "                elif target_name[result] == '푸쉬업' and confidence >= 60:\n",
    "                    detected_exercise = 'pushup'\n",
    "                    print('Good!')\n",
    "                    socketio.emit('exercise_result1', {'message': 'Good!', 'exercise': detected_exercise})\n",
    "                elif target_name[result] == '스텝 포워드 다이나믹 런지' and confidence >= 50 and check_lunge_angle(results.pose_landmarks):\n",
    "                    detected_exercise = 'lunge'\n",
    "                    print('Good!')\n",
    "                    socketio.emit('exercise_result2', {'message': 'Good!', 'exercise': detected_exercise})\n",
    "\n",
    "                \n",
    "                save_image_path = os.path.join(os.path.join(\"C:/Users/smart/Flask\", \"processed_image.png\"))\n",
    "                cv2.imwrite(save_image_path, image_copy)\n",
    "\n",
    "                _, img_encoded = cv2.imencode('.png', image_copy)\n",
    "                img_base64 = base64.b64encode(img_encoded).decode('utf-8')\n",
    "\n",
    "                socketio.emit('processed_image', {'image': img_base64})\n",
    "                return send_file(save_image_path, mimetype='image/png')\n",
    "\n",
    "            else:\n",
    "                print(\"Pose detection failed.\")\n",
    "                \n",
    "                _, img_encoded = cv2.imencode('.png', image)\n",
    "                img_base64 = base64.b64encode(img_encoded).decode('utf-8')\n",
    "                socketio.emit('processed_image', {'image': img_base64})\n",
    "                return send_file(io.BytesIO(image_np), mimetype='image/png')\n",
    "\n",
    "    return 'Image processing completed.'\n",
    "\n",
    "@socketio.on('connect')\n",
    "def handle_connect():\n",
    "    print('WebSocket connection opened.')\n",
    "\n",
    "@socketio.on('message')\n",
    "def handle_message(message):\n",
    "    print('Message received from the client:', message)\n",
    "\n",
    "@socketio.on('disconnect')\n",
    "def handle_disconnect():\n",
    "    print('WebSocket connection closed.')\n",
    "\n",
    "if __name__ == '__main__':\n",
    "    socketio.run(app, host=\"localhost\", port=5000, allow_unsafe_werkzeug=True)"
   ]
  },
  {
   "cell_type": "code",
   "execution_count": null,
   "id": "60acebee-32a8-4e33-b08f-1c28041dbfab",
   "metadata": {},
   "outputs": [],
   "source": []
  }
 ],
 "metadata": {
  "kernelspec": {
   "display_name": "Python 3 (ipykernel)",
   "language": "python",
   "name": "python3"
  },
  "language_info": {
   "codemirror_mode": {
    "name": "ipython",
    "version": 3
   },
   "file_extension": ".py",
   "mimetype": "text/x-python",
   "name": "python",
   "nbconvert_exporter": "python",
   "pygments_lexer": "ipython3",
   "version": "3.8.0"
  }
 },
 "nbformat": 4,
 "nbformat_minor": 5
}
